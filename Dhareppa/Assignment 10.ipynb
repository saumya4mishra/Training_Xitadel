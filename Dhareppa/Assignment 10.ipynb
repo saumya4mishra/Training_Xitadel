{
 "cells": [
  {
   "cell_type": "code",
   "execution_count": 83,
   "id": "522c1840",
   "metadata": {},
   "outputs": [
    {
     "name": "stdout",
     "output_type": "stream",
     "text": [
      "10\n"
     ]
    }
   ],
   "source": [
    "#1.\tWrite a Python program to find sum of elements in list?\n",
    "def l_sum(x):\n",
    "    sum=0\n",
    "    for i in x:\n",
    "        sum=sum+i\n",
    "    return sum\n",
    "lst=[1,2,3,4]\n",
    "print(l_sum(lst))"
   ]
  },
  {
   "cell_type": "code",
   "execution_count": 86,
   "id": "8a21e108",
   "metadata": {},
   "outputs": [
    {
     "name": "stdout",
     "output_type": "stream",
     "text": [
      "720\n"
     ]
    }
   ],
   "source": [
    "#2.\tWrite a Python program to  Multiply all numbers in the list?\n",
    "def l_mul(y): \n",
    "\n",
    "    mul=1\n",
    "    for c in y:\n",
    "        mul=mul*c\n",
    "    return mul\n",
    "elements=[1,8,3,6,5]\n",
    "print(l_mul(elements))"
   ]
  },
  {
   "cell_type": "code",
   "execution_count": 88,
   "id": "76b2d5d9",
   "metadata": {},
   "outputs": [
    {
     "name": "stdout",
     "output_type": "stream",
     "text": [
      "1\n",
      "7\n"
     ]
    }
   ],
   "source": [
    "#3.\tWrite a Python program to find smallest number in a list?\n",
    "def minimum(lis):\n",
    "    print(min(s))\n",
    "s=[1,2,3,4,5,6,7]\n",
    "minimum(s)\n",
    "\n",
    "#4.\tWrite a Python program to find largest number in a list\n",
    "\n",
    "def minimum(lis):\n",
    "    print(max(s))\n",
    "s=[1,2,3,4,5,6,7]\n",
    "minimum(s)\n",
    "\n"
   ]
  },
  {
   "cell_type": "code",
   "execution_count": 99,
   "id": "f40b9116",
   "metadata": {},
   "outputs": [
    {
     "name": "stdout",
     "output_type": "stream",
     "text": [
      "6\n"
     ]
    }
   ],
   "source": [
    "#5.\tWrite a Python program to find second largest number in a list?\n",
    "def second_max(ele):\n",
    "      return ele[1]    \n",
    "b=sorted([2,8,5,4,6],reverse=True)\n",
    "print(second_max(b))"
   ]
  },
  {
   "cell_type": "code",
   "execution_count": 114,
   "id": "356d2b3a",
   "metadata": {},
   "outputs": [
    {
     "data": {
      "text/plain": [
       "[7, 6]"
      ]
     },
     "execution_count": 114,
     "metadata": {},
     "output_type": "execute_result"
    }
   ],
   "source": [
    "#6.\tWrite a Python program to find N largest elements from a list?\n",
    "def Nth(lst):\n",
    "    return lst[:2]\n",
    "l_lstt=[1,2,3,4,5,6,7]\n",
    "maximum=sorted(l_lstt,reverse=True)\n",
    "Nth(maximum)"
   ]
  },
  {
   "cell_type": "code",
   "execution_count": 108,
   "id": "663a94bf",
   "metadata": {},
   "outputs": [
    {
     "data": {
      "text/plain": [
       "[2, 4, 6, 8]"
      ]
     },
     "execution_count": 108,
     "metadata": {},
     "output_type": "execute_result"
    }
   ],
   "source": [
    "#7.\tWrite a Python program to print even numbers in a list?\n",
    "def even(lst):\n",
    "    even_nos=list(filter(lambda x:x%2==0,lst))\n",
    "    return even_nos\n",
    "    \n",
    "z=[1,2,3,4,6,5,7,8,9]\n",
    "even(z)"
   ]
  },
  {
   "cell_type": "code",
   "execution_count": 109,
   "id": "7cc2ba09",
   "metadata": {},
   "outputs": [
    {
     "data": {
      "text/plain": [
       "[1, 3, 5, 7, 9]"
      ]
     },
     "execution_count": 109,
     "metadata": {},
     "output_type": "execute_result"
    }
   ],
   "source": [
    "#8.\tWrite a Python program to print odd numbers in a List?\n",
    "def even(lst):\n",
    "    even_nos=list(filter(lambda x:x%2!=0,lst))\n",
    "    return even_nos\n",
    "    \n",
    "z=[1,2,3,4,6,5,7,8,9]\n",
    "even(z)"
   ]
  },
  {
   "cell_type": "code",
   "execution_count": 111,
   "id": "b97df748",
   "metadata": {},
   "outputs": [
    {
     "data": {
      "text/plain": [
       "[1, 2, 3, 4, 5]"
      ]
     },
     "execution_count": 111,
     "metadata": {},
     "output_type": "execute_result"
    }
   ],
   "source": [
    "#9.\tWrite a Python program to Remove empty List from List?\n",
    "def remov(lstt):\n",
    "    for i in lstt:\n",
    "        return i\n",
    "l_lis=[[1,2,3,4,5]]\n",
    "remov(l_lis)"
   ]
  },
  {
   "cell_type": "code",
   "execution_count": 112,
   "id": "90b2fec6",
   "metadata": {},
   "outputs": [
    {
     "data": {
      "text/plain": [
       "[1, 2, 3, 4, 6, 5, 7, 8, 9]"
      ]
     },
     "execution_count": 112,
     "metadata": {},
     "output_type": "execute_result"
    }
   ],
   "source": [
    "#10.Write a Python program to Cloning or Copying a list?\n",
    "def cop(lst):\n",
    "    return lst.copy()\n",
    "z=[1,2,3,4,6,5,7,8,9]\n",
    "cop(z)"
   ]
  },
  {
   "cell_type": "code",
   "execution_count": 113,
   "id": "a8bd73b8",
   "metadata": {},
   "outputs": [
    {
     "data": {
      "text/plain": [
       "4"
      ]
     },
     "execution_count": 113,
     "metadata": {},
     "output_type": "execute_result"
    }
   ],
   "source": [
    "#11.Write a Python program to Count occurrences of an element in a list?\n",
    "def occur(lst):\n",
    "    return lst.count(1)\n",
    "lis=[1,2,1,3,1,4,5,1]\n",
    "occur(lis)\n"
   ]
  },
  {
   "cell_type": "code",
   "execution_count": null,
   "id": "79ac319d",
   "metadata": {},
   "outputs": [],
   "source": []
  }
 ],
 "metadata": {
  "kernelspec": {
   "display_name": "Python 3 (ipykernel)",
   "language": "python",
   "name": "python3"
  },
  "language_info": {
   "codemirror_mode": {
    "name": "ipython",
    "version": 3
   },
   "file_extension": ".py",
   "mimetype": "text/x-python",
   "name": "python",
   "nbconvert_exporter": "python",
   "pygments_lexer": "ipython3",
   "version": "3.9.7"
  }
 },
 "nbformat": 4,
 "nbformat_minor": 5
}
