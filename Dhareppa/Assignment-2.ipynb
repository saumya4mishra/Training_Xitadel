{
 "cells": [
  {
   "cell_type": "code",
   "execution_count": null,
   "id": "632cb630",
   "metadata": {},
   "outputs": [],
   "source": [
    "#Q1. What is the relationship between classes and modules?\n",
    "In classes we can create multiple functions and in modules we can reuse code "
   ]
  },
  {
   "cell_type": "code",
   "execution_count": null,
   "id": "05da7473",
   "metadata": {},
   "outputs": [],
   "source": [
    "#Q2. How do you make instances and classes?\n",
    "We can create classes by given object --classes are the blueprint of object and inside the class instance we will create."
   ]
  },
  {
   "cell_type": "code",
   "execution_count": null,
   "id": "7a61f875",
   "metadata": {},
   "outputs": [],
   "source": [
    "#Q3.Instance attributes should be creat inside the function \n",
    "class attributes should be creat outside the function ."
   ]
  },
  {
   "cell_type": "code",
   "execution_count": null,
   "id": "1ea5a3b8",
   "metadata": {},
   "outputs": [],
   "source": [
    "#Q4. Where and how are instance attributes created?\n",
    "Instance attributes should be creat inside the function ."
   ]
  },
  {
   "cell_type": "code",
   "execution_count": null,
   "id": "be2b9f09",
   "metadata": {},
   "outputs": [],
   "source": [
    "#Q5. What does the term \"self\" in a Python class mean?\n",
    "The self is used to access the attributes ."
   ]
  },
  {
   "cell_type": "code",
   "execution_count": null,
   "id": "48c23246",
   "metadata": {},
   "outputs": [],
   "source": [
    "#Q6. How does a Python class handle operator overloading?\n",
    "Operator over loading means same operator but different operation name"
   ]
  },
  {
   "cell_type": "code",
   "execution_count": null,
   "id": "f42b9612",
   "metadata": {},
   "outputs": [],
   "source": [
    "#Q7. When do you consider allowing operator overloading of your classes?"
   ]
  },
  {
   "cell_type": "code",
   "execution_count": null,
   "id": "87208af7",
   "metadata": {},
   "outputs": [],
   "source": [
    "#Q8. What is the most popular form of operator overloading?\n",
    "addition -(+)"
   ]
  },
  {
   "cell_type": "code",
   "execution_count": null,
   "id": "6ca52671",
   "metadata": {},
   "outputs": [],
   "source": [
    "#Q9. What are the two most important concepts to grasp in order to comprehend Python OOP code?\n",
    "Inheritance\n",
    "polymorphism\n",
    "Encapsulation"
   ]
  },
  {
   "cell_type": "code",
   "execution_count": null,
   "id": "abcd468f",
   "metadata": {},
   "outputs": [],
   "source": []
  },
  {
   "cell_type": "code",
   "execution_count": null,
   "id": "976e648a",
   "metadata": {},
   "outputs": [],
   "source": []
  },
  {
   "cell_type": "code",
   "execution_count": null,
   "id": "ed09c432",
   "metadata": {},
   "outputs": [],
   "source": []
  },
  {
   "cell_type": "code",
   "execution_count": null,
   "id": "7a6f8cdc",
   "metadata": {},
   "outputs": [],
   "source": []
  },
  {
   "cell_type": "code",
   "execution_count": null,
   "id": "394191e9",
   "metadata": {},
   "outputs": [],
   "source": []
  }
 ],
 "metadata": {
  "kernelspec": {
   "display_name": "Python 3 (ipykernel)",
   "language": "python",
   "name": "python3"
  },
  "language_info": {
   "codemirror_mode": {
    "name": "ipython",
    "version": 3
   },
   "file_extension": ".py",
   "mimetype": "text/x-python",
   "name": "python",
   "nbconvert_exporter": "python",
   "pygments_lexer": "ipython3",
   "version": "3.9.7"
  }
 },
 "nbformat": 4,
 "nbformat_minor": 5
}
