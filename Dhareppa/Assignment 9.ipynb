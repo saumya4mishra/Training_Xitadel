{
 "cells": [
  {
   "cell_type": "code",
   "execution_count": 37,
   "id": "6e8fe496",
   "metadata": {},
   "outputs": [
    {
     "name": "stdout",
     "output_type": "stream",
     "text": [
      "True\n"
     ]
    }
   ],
   "source": [
    "#1.Write a Python program to check if the given number is a Disarium Number?\n",
    "def disarium(num):\n",
    "    temp = 0\n",
    "    for i in range(len(str(num))):\n",
    "        temp += int(str(num)[i]) ** (i + 1)\n",
    "    print(temp==num)\n",
    "num = 135\n",
    "disarium(num)"
   ]
  },
  {
   "cell_type": "code",
   "execution_count": 127,
   "id": "636f3985",
   "metadata": {},
   "outputs": [
    {
     "name": "stdout",
     "output_type": "stream",
     "text": [
      "1\n",
      "2\n",
      "3\n",
      "4\n",
      "5\n",
      "6\n",
      "7\n",
      "8\n",
      "9\n",
      "25\n",
      "36\n",
      "89\n"
     ]
    }
   ],
   "source": [
    "#2.print all Disarium numbers\n",
    "def dis(num):\n",
    "    for i in range(1,100):\n",
    "        digit=len(str(i))\n",
    "        num=0\n",
    "        a=i\n",
    "        while a!=0:\n",
    "            r=a%10\n",
    "            num=num+pow(r,digit)\n",
    "            digit-=1\n",
    "            a=a//10\n",
    "            if num==i:\n",
    "                print(num)\n",
    "dis(num)"
   ]
  },
  {
   "cell_type": "code",
   "execution_count": 215,
   "id": "5beedb32",
   "metadata": {},
   "outputs": [
    {
     "name": "stdout",
     "output_type": "stream",
     "text": [
      "happy number\n"
     ]
    }
   ],
   "source": [
    "#3.\tWrite a Python program to check if the given number is Happy Number?\n",
    "def Happ(n):    \n",
    "    r =0\n",
    "    s = 0   \n",
    "    while(n > 0):    \n",
    "        r = n%10    \n",
    "        s += r**2  \n",
    "        n //= 10    \n",
    "    return s \n",
    "n=10\n",
    "res = n         \n",
    "while(res != 1 and res != 4):    \n",
    "    res = Happ(res)         \n",
    "if(res == 1):    \n",
    "    print(\"happy number\")\n",
    "elif(res == 4):    \n",
    "    print(\"not a happy number\") "
   ]
  },
  {
   "cell_type": "code",
   "execution_count": 216,
   "id": "d4c62677",
   "metadata": {},
   "outputs": [
    {
     "name": "stdout",
     "output_type": "stream",
     "text": [
      "yes\n"
     ]
    }
   ],
   "source": [
    "#5.Write a Python program to determine whether the given number is a Harshad Number?\n",
    "a=str(156)\n",
    "b=int(a)\n",
    "sum=0\n",
    "for i in a:\n",
    "    sum=sum+int(i)\n",
    "if b%sum==0:\n",
    "    print(\"yes\")\n",
    "else:\n",
    "    print(\"no\")"
   ]
  },
  {
   "cell_type": "code",
   "execution_count": 194,
   "id": "c2cb6323",
   "metadata": {},
   "outputs": [
    {
     "name": "stdout",
     "output_type": "stream",
     "text": [
      "Not a Pronic number\n"
     ]
    }
   ],
   "source": [
    "#6.Pronic number\n",
    "def proni(n):\n",
    "    f = 0\n",
    "    for i in range(n):\n",
    "        if i * (i + 1) == n:\n",
    "            f = 1\n",
    "            break\n",
    "    if f==1:\n",
    "        print(\"Pronic number\")\n",
    "    else:\n",
    "        print(\"Not a Pronic number\")\n",
    "num=10\n",
    "proni(num)"
   ]
  },
  {
   "cell_type": "code",
   "execution_count": null,
   "id": "53865372",
   "metadata": {},
   "outputs": [],
   "source": []
  }
 ],
 "metadata": {
  "kernelspec": {
   "display_name": "Python 3 (ipykernel)",
   "language": "python",
   "name": "python3"
  },
  "language_info": {
   "codemirror_mode": {
    "name": "ipython",
    "version": 3
   },
   "file_extension": ".py",
   "mimetype": "text/x-python",
   "name": "python",
   "nbconvert_exporter": "python",
   "pygments_lexer": "ipython3",
   "version": "3.9.7"
  }
 },
 "nbformat": 4,
 "nbformat_minor": 5
}
