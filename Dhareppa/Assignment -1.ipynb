{
 "cells": [
  {
   "cell_type": "code",
   "execution_count": null,
   "id": "1fea3927",
   "metadata": {},
   "outputs": [],
   "source": [
    "#Q1. What is the purpose of Python's OOP?\n",
    "Reuse code and define multiple functions inside it.\n",
    "Time saver."
   ]
  },
  {
   "cell_type": "code",
   "execution_count": null,
   "id": "01056bbb",
   "metadata": {},
   "outputs": [],
   "source": [
    "#Q2.Where does an inheritance search look for an attribute?\n"
   ]
  },
  {
   "cell_type": "code",
   "execution_count": null,
   "id": "ebaab144",
   "metadata": {},
   "outputs": [],
   "source": [
    "#Q3. How do you distinguish between a class object and an instance object?\n",
    "classes are blueprint of given object and instance are the indivisual object of class\n"
   ]
  },
  {
   "cell_type": "code",
   "execution_count": null,
   "id": "aa34beb3",
   "metadata": {},
   "outputs": [],
   "source": [
    "#Q4. What makes the first argument in a class’s method function special?\n",
    "it will access all other arguements"
   ]
  },
  {
   "cell_type": "code",
   "execution_count": null,
   "id": "5ad3488b",
   "metadata": {},
   "outputs": [],
   "source": [
    "#Q5. What is the purpose of the __init__ method?\n",
    "To initialize the object attributes."
   ]
  },
  {
   "cell_type": "code",
   "execution_count": null,
   "id": "ac16cb3c",
   "metadata": {},
   "outputs": [],
   "source": [
    "#Q6. What is the process for creating a class instance?\n",
    "To create instance in function using  __init__ and inside this arguements should be passed."
   ]
  },
  {
   "cell_type": "code",
   "execution_count": null,
   "id": "eafd88a3",
   "metadata": {},
   "outputs": [],
   "source": [
    "#Q7. What is the process for creating a class?\n",
    "define the class and its name inside this define the  class atttributes"
   ]
  },
  {
   "cell_type": "code",
   "execution_count": null,
   "id": "83f0a38a",
   "metadata": {},
   "outputs": [],
   "source": [
    "#Q8. How would you define the superclasses of a class?"
   ]
  },
  {
   "cell_type": "code",
   "execution_count": null,
   "id": "1a64c064",
   "metadata": {},
   "outputs": [],
   "source": []
  },
  {
   "cell_type": "code",
   "execution_count": null,
   "id": "8ad38024",
   "metadata": {},
   "outputs": [],
   "source": []
  },
  {
   "cell_type": "code",
   "execution_count": null,
   "id": "6ef61264",
   "metadata": {},
   "outputs": [],
   "source": []
  },
  {
   "cell_type": "code",
   "execution_count": null,
   "id": "f492d041",
   "metadata": {},
   "outputs": [],
   "source": []
  },
  {
   "cell_type": "code",
   "execution_count": null,
   "id": "6e43f49c",
   "metadata": {},
   "outputs": [],
   "source": []
  }
 ],
 "metadata": {
  "kernelspec": {
   "display_name": "Python 3 (ipykernel)",
   "language": "python",
   "name": "python3"
  },
  "language_info": {
   "codemirror_mode": {
    "name": "ipython",
    "version": 3
   },
   "file_extension": ".py",
   "mimetype": "text/x-python",
   "name": "python",
   "nbconvert_exporter": "python",
   "pygments_lexer": "ipython3",
   "version": "3.9.7"
  }
 },
 "nbformat": 4,
 "nbformat_minor": 5
}
