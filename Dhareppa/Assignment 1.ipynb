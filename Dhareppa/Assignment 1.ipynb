{
 "cells": [
  {
   "cell_type": "code",
   "execution_count": 2,
   "id": "75e02f37",
   "metadata": {},
   "outputs": [
    {
     "name": "stdout",
     "output_type": "stream",
     "text": [
      "2\n"
     ]
    }
   ],
   "source": [
    "#1. Write a function that takes a list of lists and returns the value of all of the symbols in it, where each symbol adds or takes something from the total score. Symbol values:\n",
    "def symb(l_symbol):\n",
    "    \n",
    "    l_all_sym = {\"#\":5,\"O\":3,\"X\":1,\"!\":-1,\"!!\":-3,\"!!!\":-5}\n",
    "    i_sum = 0\n",
    "    for e_val in l_symbol:\n",
    "        for e_val2 in e_val:\n",
    "            i_sum = i_sum + l_all_sym[e_val2]\n",
    "            \n",
    "    if i_sum<0:\n",
    "        return 0\n",
    "    else:\n",
    "        return i_sum\n",
    "        \n",
    "print(symb([[\"#\",\"!\"],[\"!!\",\"X\"]]))\n",
    "            \n",
    "    "
   ]
  },
  {
   "cell_type": "code",
   "execution_count": null,
   "id": "baa8b94a",
   "metadata": {},
   "outputs": [],
   "source": [
    "#2.Create a function that takes a variable number of arguments, each argument representing the number of items in a group, and returns the number of permutations (combinations) of items that you could get by taking one item from each group.\n",
    "def multiplyList(*myList) :\n",
    "    result = 1\n",
    "    for x in myList:\n",
    "         result = result * x\n",
    "    return result\n",
    "\n",
    "l_input = [3,7,4]\n",
    "print(multiplyList(l_input))"
   ]
  },
  {
   "cell_type": "code",
   "execution_count": 18,
   "id": "9bc84608",
   "metadata": {},
   "outputs": [
    {
     "name": "stdout",
     "output_type": "stream",
     "text": [
      "Enter  word: ju4u\n",
      ".--- ..- ....- ..- "
     ]
    }
   ],
   "source": [
    "#3.Create a function that takes a string as an argument and returns the Morse code equivalent.\n",
    "\n",
    "def main():\n",
    "    words = input(\"Enter  word: \")\n",
    "    words = words.upper()\n",
    "    Dict = createDict()\n",
    "\n",
    "    i = 0\n",
    "\n",
    "    try:\n",
    "        while (i < len(words)):\n",
    "            if (words[i] != \" \"):\n",
    "                print(Dict[words[i]], end = \" \")\n",
    "            else:\n",
    "                print(\"\")\n",
    "            i += 1\n",
    "    except:\n",
    "        print(\"Invalid characters\")\n",
    "\n",
    "\n",
    "def createDict():\n",
    "    \n",
    "    char_to_dots = {'A': '.-', 'B': '-...', 'C': '-.-.', 'D': '-..', 'E': '.', 'F': '..-.','G': '--.', 'H': '....', 'I': '..', 'J': '.---', 'K': '-.-', 'L': '.-..','M': '--', 'N': '-.', 'O': '---', 'P': '.--.', 'Q': '--.-', 'R': '.-.','S': '...', 'T': '-', 'U': '..-', 'V': '...-', 'W': '.--', 'X': '-..-','Y': '-.--', 'Z': '--..', ' ': ' ', '0': '-----','1': '.----', '2': '..---', '3': '...--', '4': '....-', '5': '.....','6': '-....', '7': '--...', '8': '---..', '9': '----.','&': '.-...', \"'\": '.----.', '@': '.--.-.', ')': '-.--.-', '(': '-.--.',':': '---...', ',': '--..--', '=': '-...-', '!': '-.-.--', '.': '.-.-.-','-': '-....-', '+': '.-.-.', '\"': '.-..-.', '?': '..--..', '/': '-..-.'}\n",
    "\n",
    "\n",
    "    return char_to_dots\n",
    "\n",
    "\n",
    "main()"
   ]
  },
  {
   "cell_type": "code",
   "execution_count": 100,
   "id": "980c4331",
   "metadata": {},
   "outputs": [
    {
     "name": "stdout",
     "output_type": "stream",
     "text": [
      "True\n"
     ]
    }
   ],
   "source": [
    "#4.Write a function that takes a number and returns True if it's a prime; False otherwise. The number can be 2^64-1 (2 to the power of 63, not XOR). With the standard technique it would be O(2^64-1), which is much too large for the 10 second time limit.\n",
    "\n",
    "def check_prime(n):\n",
    "    if (n==1):\n",
    "        return False    \n",
    "    else:\n",
    "        for x in range(2,n):\n",
    "            if(n % x==0):\n",
    "                return False\n",
    "        return True             \n",
    "print(check_prime(3))\n"
   ]
  },
  {
   "cell_type": "code",
   "execution_count": 35,
   "id": "04f12607",
   "metadata": {},
   "outputs": [
    {
     "name": "stdout",
     "output_type": "stream",
     "text": [
      "[True, False, True, False, True, False]\n"
     ]
    }
   ],
   "source": [
    "#5.Create a function that converts a word to a bitstring and then to a boolean list based on the following criteria:\n",
    "def fun(conve):\n",
    "    alp={\"a\":1,\"b\":0,\"c\":1,\"d\":0,\"e\":1,\"f\":0,\"g\":1,\"h\":0,\"i\":1,\"j\":0,\"k\":1,\"l\":0,\"m\":1,\"n\":0,\"o\":1,\"p\":0,\"q\":1,\"r\":0,\"s\":1,\"t\":0,\"u\":1,\"v\":0,\"w\":1,\"x\":0,\"y\":1,\"z\":0}\n",
    "    result=[]\n",
    "    for i in conve:\n",
    "        for j in alp:\n",
    "            if i == j:\n",
    "                if alp[j]==0:\n",
    "                    result.append(False)\n",
    "                else:\n",
    "                    result.append(True)\n",
    "    print(result)\n",
    "fun(\"Xitadel\")"
   ]
  },
  {
   "cell_type": "code",
   "execution_count": null,
   "id": "ba1b60bf",
   "metadata": {},
   "outputs": [],
   "source": []
  }
 ],
 "metadata": {
  "kernelspec": {
   "display_name": "Python 3 (ipykernel)",
   "language": "python",
   "name": "python3"
  },
  "language_info": {
   "codemirror_mode": {
    "name": "ipython",
    "version": 3
   },
   "file_extension": ".py",
   "mimetype": "text/x-python",
   "name": "python",
   "nbconvert_exporter": "python",
   "pygments_lexer": "ipython3",
   "version": "3.9.7"
  }
 },
 "nbformat": 4,
 "nbformat_minor": 5
}
