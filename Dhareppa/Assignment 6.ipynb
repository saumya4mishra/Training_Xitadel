{
 "cells": [
  {
   "cell_type": "code",
   "execution_count": null,
   "id": "d1fe0833",
   "metadata": {},
   "outputs": [],
   "source": [
    "#1. What are escape characters, and how do you use them?\n",
    "1.\\' Single Quote\n",
    "2.\\\\ Backslash\n",
    "3.\\n New Line \n",
    "4.\\r Carriage Return\n",
    "5.\\t Tab\n",
    "6.\\b Backspace\n",
    "7.\\ooo Octal value\n",
    "8.\\xhh Hex value"
   ]
  },
  {
   "cell_type": "code",
   "execution_count": null,
   "id": "76fa2997",
   "metadata": {},
   "outputs": [],
   "source": [
    "#2. What do the escape characters n and t stand for?\n",
    "n-new line and t-tab"
   ]
  },
  {
   "cell_type": "code",
   "execution_count": null,
   "id": "816363a3",
   "metadata": {},
   "outputs": [],
   "source": [
    "#3. What is the way to include backslash characters in a string?\n",
    "\"\\\\\""
   ]
  },
  {
   "cell_type": "code",
   "execution_count": null,
   "id": "78d9e58c",
   "metadata": {},
   "outputs": [],
   "source": [
    "#4. The string \"Howl's Moving Castle\" is a correct value. Why isn't the single quote character \n",
    "#in the word Howl's not escaped a problem?\n",
    "Because already that is in double quotes so there is no issue with inside single quote. "
   ]
  },
  {
   "cell_type": "code",
   "execution_count": null,
   "id": "8d62a62f",
   "metadata": {},
   "outputs": [],
   "source": [
    "#5. How do you write a string of newlines if you don't want to use the n character?"
   ]
  },
  {
   "cell_type": "code",
   "execution_count": null,
   "id": "9a0cd5c8",
   "metadata": {},
   "outputs": [],
   "source": [
    "#6. What are the values of the given expressions?\n",
    "#'Hello, world!'[1]--------e\n",
    "#'Hello, world!'[0:5]------hello\n",
    "#'Hello, world!'[:5]-------hello\n",
    "#'Hello, world!'[3:]-------lo,world!\n"
   ]
  },
  {
   "cell_type": "code",
   "execution_count": null,
   "id": "5dfcc0ac",
   "metadata": {},
   "outputs": [],
   "source": [
    "#7. What are the values of the following expressions?\n",
    "#'Hello'.upper()------------HELLO\n",
    "#'Hello'.upper().isupper()------True\n",
    "#'Hello'.upper().lower()--------hello"
   ]
  },
  {
   "cell_type": "code",
   "execution_count": 4,
   "id": "c8fbae7c",
   "metadata": {},
   "outputs": [],
   "source": [
    "#8. What are the values of the following expressions?\n",
    "#'Remember, remember, the fifth of July.'.split()----['Remember,', 'remember,', 'the', 'fifth', 'of', 'July.']\n",
    "#'-'.join('There can only one.'.split())----'There-can-only-one.'\n"
   ]
  },
  {
   "cell_type": "code",
   "execution_count": null,
   "id": "516b7955",
   "metadata": {},
   "outputs": [],
   "source": [
    "#9. What are the methods for right-justifying, left-justifying, and centering a string?\n",
    "rjust-it will align the character at given width to right as specified \n",
    "ljust-it will align the character at given width to left as specified \n",
    "center-it will align the character at given width to center as specified "
   ]
  },
  {
   "cell_type": "code",
   "execution_count": null,
   "id": "d793a337",
   "metadata": {},
   "outputs": [],
   "source": [
    "#10. What is the best way to remove whitespace characters from the start or end?\n",
    "strip()\n",
    "ex- a=\"    h      \"\n",
    "    a.strip()"
   ]
  },
  {
   "cell_type": "code",
   "execution_count": null,
   "id": "0ce390d2",
   "metadata": {},
   "outputs": [],
   "source": []
  },
  {
   "cell_type": "code",
   "execution_count": null,
   "id": "c04f943d",
   "metadata": {},
   "outputs": [],
   "source": []
  },
  {
   "cell_type": "code",
   "execution_count": null,
   "id": "33772fad",
   "metadata": {},
   "outputs": [],
   "source": []
  }
 ],
 "metadata": {
  "kernelspec": {
   "display_name": "Python 3 (ipykernel)",
   "language": "python",
   "name": "python3"
  },
  "language_info": {
   "codemirror_mode": {
    "name": "ipython",
    "version": 3
   },
   "file_extension": ".py",
   "mimetype": "text/x-python",
   "name": "python",
   "nbconvert_exporter": "python",
   "pygments_lexer": "ipython3",
   "version": "3.9.7"
  }
 },
 "nbformat": 4,
 "nbformat_minor": 5
}
