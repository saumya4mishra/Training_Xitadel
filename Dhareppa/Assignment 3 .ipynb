{
 "cells": [
  {
   "cell_type": "code",
   "execution_count": 14,
   "id": "866aa274",
   "metadata": {},
   "outputs": [
    {
     "name": "stdout",
     "output_type": "stream",
     "text": [
      "The sum is <built-in function sum>\n",
      "The diff is -0.9347886952600852\n",
      "The product is 370.563085047607\n",
      "The division is 0.0\n"
     ]
    }
   ],
   "source": [
    "#1. Create a function to perform basic arithmetic operations that includes addition, subtraction, multiplication and division on a string number (e.g. \"12 + 24\" or \"23 - 21\" or \"12 // 12\" or \"12 * 21\").\n",
    "def airthmetic_opertions(a,b):\n",
    "    sum = float(a)+float(b)\n",
    "    diff = float(a)-float(b)\n",
    "    mul = float(a)*float(b)\n",
    "    div = float(a)//float(b)\n",
    "    return sum,diff,mul,div\n",
    "    num1 = input('Enter first number')\n",
    "    num2 = input('Enter second number')\n",
    "    sum,diff,mul,div = airthmetic_opertions(num1,num2)\n",
    "print('The sum is',sum)\n",
    "print('The diff is',diff)\n",
    "print('The product is',mul)\n",
    "print('The division is',div)"
   ]
  },
  {
   "cell_type": "code",
   "execution_count": 15,
   "id": "4e4b0144",
   "metadata": {},
   "outputs": [
    {
     "name": "stdout",
     "output_type": "stream",
     "text": [
      "18.788294228055936\n",
      "19.72308292331602\n",
      "12.806248474865697\n",
      "Perimeter 51.31762562623766\n"
     ]
    }
   ],
   "source": [
    "#2.Create a function to perform basic arithmetic operations that includes addition, subtraction, multiplication and division on a string number (e.g. \"12 + 24\" or \"23 - 21\" or \"12 // 12\" or \"12 * 21\").\n",
    "\n",
    "\n",
    "perimeter = ( [ [15, 7], [5, 22], [11, 1] ])\n",
    "def dist(p1,p2):\n",
    "    return (((p1[0] - p2[0])**2 + (p1[1] - p2[1])**2 )**0.5)\n",
    "a = dist([perimeter[0][0], perimeter[1][0]],[perimeter[0][1],perimeter[1][1]])\n",
    "b = dist([perimeter[1][0], perimeter[2][0]],[perimeter[1][1],perimeter[2][1]])\n",
    "c = dist([perimeter[2][0], perimeter[0][0]],[perimeter[2][1],perimeter[0][1]])\n",
    "print(a)\n",
    "print(b)\n",
    "print(c)\n",
    "def p_triangle(a,b,c):\n",
    "    return a+b+c\n",
    "print('Perimeter',p_triangle(a,b,c))\n",
    "\n"
   ]
  },
  {
   "cell_type": "code",
   "execution_count": null,
   "id": "454181ab",
   "metadata": {},
   "outputs": [],
   "source": [
    "#3.Create a function that takes a skyline (2-D list of 0's and 1's) and returns the height of the tallest skyscraper.\n",
    "def skylin(build):\n",
    "    a=list(zip(build[0],build[1],build[2],build[3]))\n",
    "    lis=[sum(a[i]) for i in range(len(a))]\n",
    "    return max(lis)\n",
    "skylin([[0, 1, 0, 0],\n",
    "  [0, 1, 0, 0],\n",
    "  [0, 1, 1, 0],\n",
    "  [1, 1, 1, 1]])"
   ]
  },
  {
   "cell_type": "code",
   "execution_count": 31,
   "id": "56ed003d",
   "metadata": {},
   "outputs": [
    {
     "name": "stdout",
     "output_type": "stream",
     "text": [
      "135 is a disarium number\n"
     ]
    }
   ],
   "source": [
    "#5. A number is said to be Disarium if the sum of its digits raised to their respective positions is the number itself.\n",
    "\n",
    "def dis(n):    \n",
    "    length = 0   \n",
    "    while(n != 0):    \n",
    "        length = length + 1    \n",
    "        n = n//10    \n",
    "    return length        \n",
    "num = 135    \n",
    "rem = sum = 0    \n",
    "len = dis(num)    \n",
    "n = num        \n",
    "while(num > 0):    \n",
    "    rem = num%10    \n",
    "    sum = sum + int(rem**len)    \n",
    "    num = num//10    \n",
    "    len = len - 1    \n",
    "if(sum == n):    \n",
    "    print(str(n) + \" is a disarium number\")  \n",
    "else:    \n",
    "    print(str(n) + \" is not a disarium number\")    "
   ]
  },
  {
   "cell_type": "code",
   "execution_count": null,
   "id": "53ecbadd",
   "metadata": {},
   "outputs": [],
   "source": []
  },
  {
   "cell_type": "code",
   "execution_count": null,
   "id": "cbe7cc7c",
   "metadata": {},
   "outputs": [],
   "source": []
  }
 ],
 "metadata": {
  "kernelspec": {
   "display_name": "Python 3 (ipykernel)",
   "language": "python",
   "name": "python3"
  },
  "language_info": {
   "codemirror_mode": {
    "name": "ipython",
    "version": 3
   },
   "file_extension": ".py",
   "mimetype": "text/x-python",
   "name": "python",
   "nbconvert_exporter": "python",
   "pygments_lexer": "ipython3",
   "version": "3.9.7"
  }
 },
 "nbformat": 4,
 "nbformat_minor": 5
}
