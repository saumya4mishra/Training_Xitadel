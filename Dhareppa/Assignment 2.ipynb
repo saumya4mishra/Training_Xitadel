{
 "cells": [
  {
   "cell_type": "code",
   "execution_count": 5,
   "id": "f02757b4",
   "metadata": {},
   "outputs": [
    {
     "name": "stdout",
     "output_type": "stream",
     "text": [
      "6\n"
     ]
    }
   ],
   "source": [
    "#1. Write a function that takes a positive integer num and calculates how many dots exist in a pentagonal shape around the center dot on the Nth iteration.\n",
    "def mid_penta(n):     \n",
    "    return (5 * n * n - 5 * n + 2) // 2 \n",
    "n = 2\n",
    "print(mid_penta(n))"
   ]
  },
  {
   "cell_type": "code",
   "execution_count": 37,
   "id": "922e5e83",
   "metadata": {
    "scrolled": true
   },
   "outputs": [
    {
     "name": "stdout",
     "output_type": "stream",
     "text": [
      "1lpp0aca\n"
     ]
    }
   ],
   "source": [
    "#2.Make a function that encrypts a given input with these steps\n",
    "a = \"apple\"\n",
    "def enc(dict):\n",
    "    num = a[::-1] \n",
    "    for i in dict:\n",
    "        num = num.replace(i, dict[i])\n",
    "    return num    \n",
    "dict = {\"a\": \"0\", \"e\": \"1\",\"i\": \"2\", \"o\": \"2\",\"u\": \"3\"}\n",
    "print(enc(dict)+\"aca\")"
   ]
  },
  {
   "cell_type": "code",
   "execution_count": 40,
   "id": "2eba92bf",
   "metadata": {},
   "outputs": [
    {
     "name": "stdout",
     "output_type": "stream",
     "text": [
      "True\n"
     ]
    }
   ],
   "source": [
    "#3.Given the month and year as numbers, return whether that month contains a Friday 13th.(i.e You can check Python's datetime module)\n",
    "import datetime\n",
    "def friday(month,year):\n",
    "    d=13\n",
    "    day=datetime.datetime(year,month,d)\n",
    "    day=(day.strftime(\"%A\"))\n",
    "    if day==\"Friday\":\n",
    "        return True\n",
    "    else:\n",
    "        return False\n",
    "print(friday(10,2017))"
   ]
  },
  {
   "cell_type": "code",
   "execution_count": 6,
   "id": "e0d0fc96",
   "metadata": {},
   "outputs": [],
   "source": [
    "#4.Write a regular expression that will help us count how many bad cookies are produced every day. You must use RegEx negative lookbehind."
   ]
  },
  {
   "cell_type": "code",
   "execution_count": 14,
   "id": "d767e6a1",
   "metadata": {},
   "outputs": [
    {
     "name": "stdout",
     "output_type": "stream",
     "text": [
      "{'table'}\n"
     ]
    }
   ],
   "source": [
    "#5. Given a list of words in the singular form, return a set of those words in the plural form if they appear more than once in the list.\n",
    "def same_ele(lst):\n",
    "    c=set(lst)\n",
    "    return c \n",
    "x = [\"table\", \"table\", \"table\"]\n",
    "print(same_ele(x))"
   ]
  },
  {
   "cell_type": "code",
   "execution_count": null,
   "id": "ee8dee78",
   "metadata": {},
   "outputs": [],
   "source": []
  }
 ],
 "metadata": {
  "kernelspec": {
   "display_name": "Python 3 (ipykernel)",
   "language": "python",
   "name": "python3"
  },
  "language_info": {
   "codemirror_mode": {
    "name": "ipython",
    "version": 3
   },
   "file_extension": ".py",
   "mimetype": "text/x-python",
   "name": "python",
   "nbconvert_exporter": "python",
   "pygments_lexer": "ipython3",
   "version": "3.9.7"
  }
 },
 "nbformat": 4,
 "nbformat_minor": 5
}
