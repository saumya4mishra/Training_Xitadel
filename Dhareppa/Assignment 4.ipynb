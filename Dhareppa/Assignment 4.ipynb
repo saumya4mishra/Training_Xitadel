{
 "cells": [
  {
   "cell_type": "code",
   "execution_count": 4,
   "id": "dd63b988",
   "metadata": {},
   "outputs": [
    {
     "name": "stdout",
     "output_type": "stream",
     "text": [
      "0\n",
      "1\n",
      "1\n",
      "2\n",
      "3\n",
      "5\n",
      "8\n",
      "13\n",
      "21\n",
      "34\n"
     ]
    }
   ],
   "source": [
    "#1. In mathematics, the Fibonacci numbers, commonly denoted Fn, form a sequence, called the Fibonacci sequence, such that each number is the sum of the two preceding ones, starting from 0 and 1:\n",
    "\n",
    "def fastFib(num):\n",
    "    a = 0\n",
    "    b = 1\n",
    "    if num == 1:\n",
    "        print(a)\n",
    "    else:\n",
    "        print(a)\n",
    "        print(b)\n",
    "        for i in range(2,num):\n",
    "            c = a + b\n",
    "            a = b\n",
    "            b = c\n",
    "            print(c)\n",
    "fastFib(10)"
   ]
  },
  {
   "cell_type": "code",
   "execution_count": 6,
   "id": "5dc916d3",
   "metadata": {},
   "outputs": [
    {
     "name": "stdout",
     "output_type": "stream",
     "text": [
      "hex result is:b'5869746164656c'\n"
     ]
    }
   ],
   "source": [
    "#2.Create a function that takes a strings characters as ASCII and returns each characters hexadecimal value as a string\n",
    "import binascii\n",
    " \n",
    "def ascii_to_hex(ascii_str):\n",
    "    hex_str = binascii.hexlify(ascii_str.encode())\n",
    "    return hex_str\n",
    " \n",
    " \n",
    "ascii_input = 'Xitadel'\n",
    "hex_output = ascii_to_hex(ascii_input)\n",
    "print('hex result is:{0}'.format(hex_output))"
   ]
  },
  {
   "cell_type": "code",
   "execution_count": 2,
   "id": "b3c62eed",
   "metadata": {},
   "outputs": [
    {
     "name": "stdout",
     "output_type": "stream",
     "text": [
      " Where did my vowels go?\n"
     ]
    }
   ],
   "source": [
    "#3.Someone has attempted to censor my strings by replacing every vowel with a *, l*k* th*s. Luckily, I've been able to find the vowels that were removed.\n",
    "def uncensor(string, vowels):\n",
    "    new=\" \"\n",
    "    counter=0\n",
    "    for i in range(len(string)):\n",
    "        if string[i]==\"*\":\n",
    "            new+=vowels[counter]\n",
    "            counter+=1\n",
    "        else:\n",
    "            new+=string[i]\n",
    "    return new \n",
    "print(uncensor(\"Wh*r* d*d my v*w*ls g*?\", \"eeioeo\"))"
   ]
  },
  {
   "cell_type": "code",
   "execution_count": 23,
   "id": "bdce617f",
   "metadata": {},
   "outputs": [
    {
     "name": "stdout",
     "output_type": "stream",
     "text": [
      "dns.google\n",
      "dns.google\n"
     ]
    }
   ],
   "source": [
    "#4.Write a function that takes an IP address and returns the domain name using PTR DNS records.\n",
    "def get_domain_name(ip_address):\n",
    "    import socket\n",
    "    result=socket.gethostbyaddr(ip_address)\n",
    "    return list(result)[0]\n",
    "\n",
    "print(get_domain_name(\"8.8.8.8\"))\n",
    "print(get_domain_name(\"8.8.4.4\"))\n",
    "\n"
   ]
  },
  {
   "cell_type": "code",
   "execution_count": 25,
   "id": "1a3927b9",
   "metadata": {},
   "outputs": [
    {
     "ename": "NameError",
     "evalue": "name 'prod' is not defined",
     "output_type": "error",
     "traceback": [
      "\u001b[1;31m---------------------------------------------------------------------------\u001b[0m",
      "\u001b[1;31mNameError\u001b[0m                                 Traceback (most recent call last)",
      "\u001b[1;32m~\\AppData\\Local\\Temp/ipykernel_14316/789595116.py\u001b[0m in \u001b[0;36m<module>\u001b[1;34m\u001b[0m\n\u001b[0;32m     10\u001b[0m         \u001b[0mprod\u001b[0m\u001b[1;33m=\u001b[0m\u001b[0mprod\u001b[0m\u001b[1;33m*\u001b[0m\u001b[0mp\u001b[0m\u001b[1;33m\u001b[0m\u001b[1;33m\u001b[0m\u001b[0m\n\u001b[0;32m     11\u001b[0m     \u001b[1;32mreturn\u001b[0m \u001b[0mprod\u001b[0m\u001b[1;33m\u001b[0m\u001b[1;33m\u001b[0m\u001b[0m\n\u001b[1;32m---> 12\u001b[1;33m \u001b[0mprint\u001b[0m\u001b[1;33m(\u001b[0m\u001b[0mfact\u001b[0m\u001b[1;33m(\u001b[0m\u001b[0mprod\u001b[0m\u001b[1;33m)\u001b[0m\u001b[1;33m)\u001b[0m\u001b[1;33m\u001b[0m\u001b[1;33m\u001b[0m\u001b[0m\n\u001b[0m",
      "\u001b[1;31mNameError\u001b[0m: name 'prod' is not defined"
     ]
    }
   ],
   "source": [
    "#5 Create a function that takes an integer n and returns the factorial of factorials. See below examples for a better understanding:\n",
    "def fact(prod):\n",
    "    a=[]\n",
    "    fac=1\n",
    "    prod=1\n",
    "    for i in range(1,6):\n",
    "        fac=fac*i\n",
    "        a.append(fac)\n",
    "    for p in a:\n",
    "        prod=prod*p\n",
    "    return prod\n",
    "print(fact(prod))"
   ]
  },
  {
   "cell_type": "code",
   "execution_count": 2,
   "id": "d08782b4",
   "metadata": {},
   "outputs": [
    {
     "name": "stdout",
     "output_type": "stream",
     "text": [
      "120\n"
     ]
    }
   ],
   "source": [
    "from functools import reduce\n",
    "\n",
    "def multiply(a, b):\n",
    "    return a*b\n",
    "\n",
    "def factorial(num):\n",
    "    return reduce(lambda x,y: x*y, list(range(1, num+1)))\n",
    "\n",
    "print(factorial(243))"
   ]
  },
  {
   "cell_type": "code",
   "execution_count": null,
   "id": "01b2fe13",
   "metadata": {},
   "outputs": [],
   "source": [
    "4169"
   ]
  }
 ],
 "metadata": {
  "kernelspec": {
   "display_name": "Python 3 (ipykernel)",
   "language": "python",
   "name": "python3"
  },
  "language_info": {
   "codemirror_mode": {
    "name": "ipython",
    "version": 3
   },
   "file_extension": ".py",
   "mimetype": "text/x-python",
   "name": "python",
   "nbconvert_exporter": "python",
   "pygments_lexer": "ipython3",
   "version": "3.9.7"
  }
 },
 "nbformat": 4,
 "nbformat_minor": 5
}
