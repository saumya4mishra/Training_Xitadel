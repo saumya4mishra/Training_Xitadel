{
 "cells": [
  {
   "cell_type": "code",
   "execution_count": 5,
   "id": "01187162",
   "metadata": {},
   "outputs": [
    {
     "name": "stdout",
     "output_type": "stream",
     "text": [
      "[2, 4, 6]\n",
      "[8, 10, 12]\n",
      "[15, 14, 18]\n"
     ]
    }
   ],
   "source": [
    "#1.\tWrite a Python Program to Add Two Matrices?\n",
    "def matr(m1,m2):    \n",
    "    add_matr = [[m1[i][j] + m2[i][j]  for j in range(len(m1[0]))] for i in range(len(m1))]\n",
    "    for r in add_matr:\n",
    "        print(r)\n",
    "x = [[1,2,3],\n",
    "    [4,5,6],\n",
    "    [7,8,9]]\n",
    "\n",
    "y = [[1,2,3],\n",
    "    [4,5,6],\n",
    "    [8,6,9]]\n",
    "matr(x,y)\n"
   ]
  },
  {
   "cell_type": "code",
   "execution_count": 9,
   "id": "90ae4f43",
   "metadata": {},
   "outputs": [
    {
     "name": "stdout",
     "output_type": "stream",
     "text": [
      "[1, 4, 9]\n",
      "[16, 25, 36]\n",
      "[56, 48, 81]\n"
     ]
    }
   ],
   "source": [
    "#2.\tWrite a Python Program to Multiply Two Matrices?\n",
    "def matr(m1,m2):    \n",
    "    add_matr = [[m1[a][b] * m2[a][b]  for b in range(len(m1[0]))] for a in range(len(m1))]\n",
    "    for r in add_matr:\n",
    "        print(r)\n",
    "x = [[1,2,3],\n",
    "    [4,5,6],\n",
    "    [7,8,9]]\n",
    "\n",
    "y = [[1,2,3],\n",
    "    [4,5,6],\n",
    "    [8,6,9]]\n",
    "matr(x,y)"
   ]
  },
  {
   "cell_type": "code",
   "execution_count": 17,
   "id": "ebdf00b8",
   "metadata": {},
   "outputs": [
    {
     "name": "stdout",
     "output_type": "stream",
     "text": [
      "[1, 4]\n",
      "[2, 5]\n",
      "[3, 6]\n"
     ]
    }
   ],
   "source": [
    "#3.Write a Python Program to Transpose a Matrix?\n",
    "def trans(mat):\n",
    "    tran_mat = [[mat[j][i] for j in range(len(mat))] for i in range(len(mat[0]))]\n",
    "    for matrix in tran_mat:\n",
    "        print(matrix)\n",
    "m=[[1,2,3],\n",
    "    [4,5,6]]\n",
    "trans(m)"
   ]
  },
  {
   "cell_type": "code",
   "execution_count": 20,
   "id": "464b9356",
   "metadata": {},
   "outputs": [
    {
     "data": {
      "text/plain": [
       "['banglore', 'employee', 'office', 'xitadel']"
      ]
     },
     "execution_count": 20,
     "metadata": {},
     "output_type": "execute_result"
    }
   ],
   "source": [
    "#4.Write a Python Program to Sort Words in Alphabetic Order?\n",
    "def srt(ele):\n",
    "    return sorted(ele)\n",
    "unorder_ele=[\"employee\",'office', 'xitadel', 'banglore']   \n",
    "srt(unorder_ele)"
   ]
  },
  {
   "cell_type": "code",
   "execution_count": 39,
   "id": "a1df3e67",
   "metadata": {},
   "outputs": [
    {
     "name": "stdout",
     "output_type": "stream",
     "text": [
      " Hello\n"
     ]
    }
   ],
   "source": [
    "#5.Write a Python Program to Remove Punctuation From a String?\n",
    "def punc(line1):\n",
    "    line=\" \"\n",
    "    for word in line1:\n",
    "        if word not in line2:\n",
    "            line=line+word\n",
    "    print(line)\n",
    "line1= \"Hello!$\"\n",
    "line2= \"!$\"\n",
    "punc(line1)"
   ]
  },
  {
   "cell_type": "code",
   "execution_count": 1,
   "id": "975f41a2",
   "metadata": {},
   "outputs": [
    {
     "data": {
      "text/plain": [
       "3.0"
      ]
     },
     "execution_count": 1,
     "metadata": {},
     "output_type": "execute_result"
    }
   ],
   "source": [
    "6/2\n"
   ]
  },
  {
   "cell_type": "code",
   "execution_count": 3,
   "id": "f152c854",
   "metadata": {},
   "outputs": [
    {
     "data": {
      "text/plain": [
       "3"
      ]
     },
     "execution_count": 3,
     "metadata": {},
     "output_type": "execute_result"
    }
   ],
   "source": [
    "int(7/2)"
   ]
  },
  {
   "cell_type": "code",
   "execution_count": null,
   "id": "c9e485ee",
   "metadata": {},
   "outputs": [],
   "source": []
  }
 ],
 "metadata": {
  "kernelspec": {
   "display_name": "Python 3 (ipykernel)",
   "language": "python",
   "name": "python3"
  },
  "language_info": {
   "codemirror_mode": {
    "name": "ipython",
    "version": 3
   },
   "file_extension": ".py",
   "mimetype": "text/x-python",
   "name": "python",
   "nbconvert_exporter": "python",
   "pygments_lexer": "ipython3",
   "version": "3.9.7"
  }
 },
 "nbformat": 4,
 "nbformat_minor": 5
}
