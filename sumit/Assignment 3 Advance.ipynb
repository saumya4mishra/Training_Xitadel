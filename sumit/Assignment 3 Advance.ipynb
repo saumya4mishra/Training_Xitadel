{
 "cells": [
  {
   "cell_type": "code",
   "execution_count": null,
   "id": "67837866",
   "metadata": {},
   "outputs": [],
   "source": [
    "\"\"\"\n",
    "1. What is the concept of an abstract superclass?\n",
    "\"\"\"\n",
    "#Answer\n",
    "\"\"\"\n",
    "A common superclass for several subclasses.\n",
    "Factor up common behavior\n",
    "Define the methods they all respond to.\n",
    "Methods that subclasses should implement are declared abstract\n",
    "Instances of the subclasses are created, but no instances of the superclass.\n",
    "\"\"\""
   ]
  },
  {
   "cell_type": "code",
   "execution_count": null,
   "id": "07b70205",
   "metadata": {},
   "outputs": [],
   "source": [
    "\"\"\"\n",
    "2. What happens when a class statement's top level contains a basic assignment statement?\n",
    "\"\"\"\n",
    "#Answer\n",
    "\"\"\"\n",
    "if the top level contains a basic assignment then it is considered as a class variables and it will be fixed for all the object inside the class.\n",
    "\"\"\""
   ]
  },
  {
   "cell_type": "code",
   "execution_count": null,
   "id": "241643c6",
   "metadata": {},
   "outputs": [],
   "source": [
    "\"\"\"\n",
    "3. Why does a class need to manually call a superclass's __init__ method?\n",
    "\"\"\"\n",
    "#Answer\n",
    "\"\"\"\n",
    "The reason for always calling base class _init__ is that base class may typically create member variable and initialize them to defaults. So if you don't call base class init, none of that code would be executed and you would end up with base class that has no member variables.\n",
    "\"\"\""
   ]
  },
  {
   "cell_type": "code",
   "execution_count": null,
   "id": "47326bbf",
   "metadata": {},
   "outputs": [],
   "source": [
    "\"\"\"\n",
    "4. How can you augment, instead of completely replacing, an inherited method?\n",
    "\"\"\"\n",
    "#Answer\n",
    "\"\"\"\n",
    "'doubt'\n",
    "\"\"\""
   ]
  },
  {
   "cell_type": "code",
   "execution_count": null,
   "id": "3db0d7f1",
   "metadata": {},
   "outputs": [],
   "source": [
    "\"\"\"\n",
    "5. How is the local scope of a class different from that of a function?\n",
    "\"\"\"\n",
    "#Answer\n",
    "\"\"\"\n",
    "The scope of a local class is limited only within the function definition. The function can use the class as usual as local variables. The class gets destroyed as soon as the function is returned\"\"\""
   ]
  }
 ],
 "metadata": {
  "kernelspec": {
   "display_name": "Python 3",
   "language": "python",
   "name": "python3"
  },
  "language_info": {
   "codemirror_mode": {
    "name": "ipython",
    "version": 3
   },
   "file_extension": ".py",
   "mimetype": "text/x-python",
   "name": "python",
   "nbconvert_exporter": "python",
   "pygments_lexer": "ipython3",
   "version": "3.8.8"
  }
 },
 "nbformat": 4,
 "nbformat_minor": 5
}
