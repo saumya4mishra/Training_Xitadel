{
 "cells": [
  {
   "cell_type": "code",
   "execution_count": 3,
   "id": "fe05099e",
   "metadata": {},
   "outputs": [
    {
     "name": "stdout",
     "output_type": "stream",
     "text": [
      "Enter the number : 135\n",
      "True\n"
     ]
    }
   ],
   "source": [
    "\"\"\"1. Write a Python program to check if the given number is a Disarium Number?\"\"\"\n",
    "def disarium(n):\n",
    "    digit=len(str(n))\n",
    "    num=0\n",
    "    a=n\n",
    "    while (a!=0):\n",
    "        r = a % 10        \n",
    "        num = num + pow(r,digit)\n",
    "        digit-=1\n",
    "        a = a // 10\n",
    "    if num == n:\n",
    "        return True\n",
    "    else:\n",
    "        return False\n",
    "i_num = int(input(\"Enter the number : \"))\n",
    "print(disarium(i_num))"
   ]
  },
  {
   "cell_type": "code",
   "execution_count": 5,
   "id": "b31e6a78",
   "metadata": {},
   "outputs": [
    {
     "name": "stdout",
     "output_type": "stream",
     "text": [
      "1\n",
      "2\n",
      "3\n",
      "4\n",
      "5\n",
      "6\n",
      "7\n",
      "8\n",
      "9\n",
      "25\n",
      "36\n",
      "89\n"
     ]
    }
   ],
   "source": [
    "\"\"\"2. Write a Python program to print all disarium numbers between 1 to 100?\"\"\"\n",
    "\n",
    "for i in range(1,100):\n",
    "    digit=len(str(i))\n",
    "    num=0\n",
    "    a=i\n",
    "    while (a!=0):\n",
    "        r = a % 10        \n",
    "        num = num + pow(r,digit)\n",
    "        digit-=1\n",
    "        a = a // 10\n",
    "        if num == i:\n",
    "            print(num)\n",
    "\n",
    "    "
   ]
  },
  {
   "cell_type": "code",
   "execution_count": 66,
   "id": "e3d95c99",
   "metadata": {},
   "outputs": [
    {
     "ename": "TypeError",
     "evalue": "int() argument must be a string, a bytes-like object or a number, not 'NoneType'",
     "output_type": "error",
     "traceback": [
      "\u001b[1;31m---------------------------------------------------------------------------\u001b[0m",
      "\u001b[1;31mTypeError\u001b[0m                                 Traceback (most recent call last)",
      "\u001b[1;32m<ipython-input-66-ceeaa8a7f89f>\u001b[0m in \u001b[0;36m<module>\u001b[1;34m\u001b[0m\n\u001b[0;32m     10\u001b[0m \u001b[1;33m\u001b[0m\u001b[0m\n\u001b[0;32m     11\u001b[0m \u001b[1;32mwhile\u001b[0m \u001b[0mresult\u001b[0m\u001b[1;33m!=\u001b[0m\u001b[1;36m1\u001b[0m \u001b[1;32mand\u001b[0m \u001b[0mresult\u001b[0m\u001b[1;33m!=\u001b[0m\u001b[1;36m4\u001b[0m\u001b[1;33m:\u001b[0m\u001b[1;33m\u001b[0m\u001b[1;33m\u001b[0m\u001b[0m\n\u001b[1;32m---> 12\u001b[1;33m     \u001b[0mresult\u001b[0m \u001b[1;33m=\u001b[0m \u001b[0mhappy_num\u001b[0m\u001b[1;33m(\u001b[0m\u001b[0mresult\u001b[0m\u001b[1;33m)\u001b[0m\u001b[1;33m\u001b[0m\u001b[1;33m\u001b[0m\u001b[0m\n\u001b[0m\u001b[0;32m     13\u001b[0m \u001b[1;33m\u001b[0m\u001b[0m\n\u001b[0;32m     14\u001b[0m \u001b[1;33m\u001b[0m\u001b[0m\n",
      "\u001b[1;32m<ipython-input-66-ceeaa8a7f89f>\u001b[0m in \u001b[0;36mhappy_num\u001b[1;34m(n)\u001b[0m\n\u001b[0;32m      1\u001b[0m \u001b[1;34m\"\"\"3. Write a Python program to check if the given number is Happy Number?\"\"\"\u001b[0m\u001b[1;33m\u001b[0m\u001b[1;33m\u001b[0m\u001b[0m\n\u001b[0;32m      2\u001b[0m \u001b[1;32mdef\u001b[0m \u001b[0mhappy_num\u001b[0m\u001b[1;33m(\u001b[0m\u001b[0mn\u001b[0m\u001b[1;33m)\u001b[0m\u001b[1;33m:\u001b[0m\u001b[1;33m\u001b[0m\u001b[1;33m\u001b[0m\u001b[0m\n\u001b[1;32m----> 3\u001b[1;33m     \u001b[1;32mif\u001b[0m \u001b[0mint\u001b[0m\u001b[1;33m(\u001b[0m\u001b[0mn\u001b[0m\u001b[1;33m)\u001b[0m\u001b[1;33m==\u001b[0m\u001b[1;36m1\u001b[0m\u001b[1;33m:\u001b[0m\u001b[1;33m\u001b[0m\u001b[1;33m\u001b[0m\u001b[0m\n\u001b[0m\u001b[0;32m      4\u001b[0m         \u001b[1;32mreturn\u001b[0m \u001b[1;33m(\u001b[0m\u001b[1;34m\"It is a happy number\"\u001b[0m\u001b[1;33m)\u001b[0m\u001b[1;33m\u001b[0m\u001b[1;33m\u001b[0m\u001b[0m\n\u001b[0;32m      5\u001b[0m     \u001b[1;32melse\u001b[0m\u001b[1;33m:\u001b[0m\u001b[1;33m\u001b[0m\u001b[1;33m\u001b[0m\u001b[0m\n",
      "\u001b[1;31mTypeError\u001b[0m: int() argument must be a string, a bytes-like object or a number, not 'NoneType'"
     ]
    }
   ],
   "source": [
    "\"\"\"3. Write a Python program to check if the given number is Happy Number?\"\"\"\n",
    "def happy_num(n):\n",
    "    if int(n)==1:\n",
    "        return (\"It is a happy number\")\n",
    "    else:\n",
    "        sum1 = 0\n",
    "        for st_num in str(n):\n",
    "            sum1 += pow(int(st_num),2)\n",
    "            result = sum1\n",
    "            \n",
    "while result!=1 and result!=4:\n",
    "    result = happy_num(result)\n",
    "    \n",
    "\n",
    "if result==1:\n",
    "    print(\"It is a happy number\")\n",
    "else:\n",
    "    print(\"It is not a happy number\")\n",
    "    \n",
    "        \n",
    "num1=input()\n",
    "happy_num(num1)\n",
    "        \n",
    "    \n",
    "    \n",
    "        \n",
    "        "
   ]
  },
  {
   "cell_type": "code",
   "execution_count": 45,
   "id": "f3907a7e",
   "metadata": {},
   "outputs": [
    {
     "name": "stdout",
     "output_type": "stream",
     "text": [
      "Enter the number : 15\n",
      "It is not a harshad number\n"
     ]
    }
   ],
   "source": [
    "\"\"\"5. Write a Python program to determine whether the given number is a Harshad Number?\"\"\"\n",
    "i_num = int(input(\"Enter the number : \"))\n",
    "sum1 = 0\n",
    "for st_num in str(i_num):\n",
    "    sum1 += int(st_num)\n",
    "    \n",
    "if (i_num%sum1==0):\n",
    "    print(\"It is a harshad number\")\n",
    "else:\n",
    "    print(\"It is not a harshad number\")"
   ]
  },
  {
   "cell_type": "code",
   "execution_count": 7,
   "id": "da34a987",
   "metadata": {},
   "outputs": [
    {
     "data": {
      "text/plain": [
       "True"
      ]
     },
     "execution_count": 7,
     "metadata": {},
     "output_type": "execute_result"
    }
   ],
   "source": [
    "def _if_happy_number(n, c=0, threshod=12):\n",
    "    a = str(n)\n",
    "    n1 = len(a)\n",
    "    l = [int(a[i-1])**2 for i in range(n1)]\n",
    "    if sum(l) == 1:\n",
    "        return True\n",
    "    else:\n",
    "        if c == threshod:\n",
    "            return False\n",
    "        else:\n",
    "            c = c+1\n",
    "            return _if_happy_number(sum(l), c)\n",
    "        \n",
    "_if_happy_number(7, threshod=12)"
   ]
  },
  {
   "cell_type": "code",
   "execution_count": 9,
   "id": "6b81a9b4",
   "metadata": {},
   "outputs": [
    {
     "name": "stdout",
     "output_type": "stream",
     "text": [
      "97\n",
      "130\n",
      "100\n",
      "1\n",
      "Given number is a Happy number\n"
     ]
    }
   ],
   "source": [
    "from functools import reduce\n",
    "def if_happy_number(num, iter_limit=20):\n",
    "    try:\n",
    "        counter = getattr(if_happy_number, 'counter')\n",
    "    except Exception as e:\n",
    "        setattr(if_happy_number, 'counter', 1)\n",
    "        counter = getattr(if_happy_number, 'counter')\n",
    "        \n",
    "    if num == 1:\n",
    "        print('Given number is a Happy number')\n",
    "        return\n",
    "    if counter > iter_limit:\n",
    "        print(num)\n",
    "        print('Given number is not a Happy number')\n",
    "        return\n",
    "    if len(str(num)) > 1:\n",
    "        sum_digit = reduce(lambda x, y: int(x)**2 + int(y)**2  , str(num))\n",
    "    else:\n",
    "        sum_digit = num**2\n",
    "        \n",
    "    print(sum_digit)\n",
    "    setattr(if_happy_number, 'counter', counter + 1)\n",
    "    if_happy_number(sum_digit)\n",
    "    \n",
    "if_happy_number(49)"
   ]
  },
  {
   "cell_type": "code",
   "execution_count": 6,
   "id": "05e6185b",
   "metadata": {},
   "outputs": [
    {
     "name": "stdout",
     "output_type": "stream",
     "text": [
      "Saumya\n"
     ]
    }
   ],
   "source": [
    "def my_func():\n",
    "    print(getattr(my_func, 'name'))\n",
    "\n",
    "\n",
    "setattr(my_func, 'name', 'Saumya')\n",
    "my_func()\n"
   ]
  },
  {
   "cell_type": "code",
   "execution_count": 61,
   "id": "d7e1b8f9",
   "metadata": {},
   "outputs": [
    {
     "name": "stdout",
     "output_type": "stream",
     "text": [
      "Enter the number : 6\n",
      "30\n"
     ]
    }
   ],
   "source": [
    "\"\"\"6. Write a Python program to print all pronic numbers between 1 and 100?\"\"\"\n",
    "i_num = int(input(\"Enter the number : \"))\n",
    "sum1 = i_num * (i_num - 1)\n",
    "print(sum1)\n",
    "    "
   ]
  },
  {
   "cell_type": "code",
   "execution_count": null,
   "id": "34d82998",
   "metadata": {},
   "outputs": [],
   "source": []
  }
 ],
 "metadata": {
  "kernelspec": {
   "display_name": "Python 3 (ipykernel)",
   "language": "python",
   "name": "python3"
  },
  "language_info": {
   "codemirror_mode": {
    "name": "ipython",
    "version": 3
   },
   "file_extension": ".py",
   "mimetype": "text/x-python",
   "name": "python",
   "nbconvert_exporter": "python",
   "pygments_lexer": "ipython3",
   "version": "3.9.7"
  }
 },
 "nbformat": 4,
 "nbformat_minor": 5
}
