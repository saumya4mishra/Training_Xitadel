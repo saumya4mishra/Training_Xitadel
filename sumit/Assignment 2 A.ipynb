{
 "cells": [
  {
   "cell_type": "code",
   "execution_count": 19,
   "id": "08e3600f",
   "metadata": {},
   "outputs": [
    {
     "name": "stdout",
     "output_type": "stream",
     "text": [
      "21\n"
     ]
    }
   ],
   "source": [
    "\"\"\"1. Write a function that takes a positive integer num and calculates how many dots exist in a pentagonal shape around the center dot on the Nth iteration.\"\"\"\n",
    "\n",
    "def pentagonal(n):\n",
    "    if n == 1:\n",
    "        print(1)\n",
    "    else:\n",
    "        for i in range(n):\n",
    "            if i>1:\n",
    "                for j in range(i):\n",
    "                    count = 1\n",
    "                    count += 5*(n-1)\n",
    "                    return count\n",
    "\n",
    "print(pentagonal(5))\n"
   ]
  },
  {
   "cell_type": "code",
   "execution_count": 17,
   "id": "9d73b63a",
   "metadata": {},
   "outputs": [
    {
     "name": "stdout",
     "output_type": "stream",
     "text": [
      "141\n"
     ]
    }
   ],
   "source": [
    "def pentagonal_rec(n):\n",
    "    if n==1:\n",
    "        return 1\n",
    "    return(pentagonal_rec(n-1)+5*(n-1))\n",
    "print(pentagonal_rec(8))"
   ]
  },
  {
   "cell_type": "code",
   "execution_count": 11,
   "id": "e128ef4c",
   "metadata": {},
   "outputs": [
    {
     "name": "stdout",
     "output_type": "stream",
     "text": [
      "apple\n",
      "1lpp0aca\n"
     ]
    }
   ],
   "source": [
    "\"\"\"2. Make a function that encrypts a given input with these steps:\n",
    "Input: \"apple\n",
    "# \"1lpp0\"\"\"\"\"\n",
    "\n",
    "n=input()\n",
    "dict={'a':'0', 'e':'1', 'i':'2', 'o':'2', 'u':'3'}\n",
    "st_rev =n[::-1]\n",
    "for i in dict:\n",
    "    st_rev = st_rev.replace(i,dict[i])\n",
    "print(f\"{st_rev}aca\")\n",
    "\n"
   ]
  },
  {
   "cell_type": "code",
   "execution_count": 27,
   "id": "4b7f3bd4",
   "metadata": {},
   "outputs": [
    {
     "name": "stdout",
     "output_type": "stream",
     "text": [
      "True\n",
      "True\n",
      "False\n"
     ]
    }
   ],
   "source": [
    "\"\"\"3. Given the month and year as numbers, return whether that month contains a Friday 13th.(i.e You can check Python's datetime module)\"\"\"\n",
    "\n",
    "import datetime\n",
    "\n",
    "def has_friday_13(month,year):\n",
    "    intDay = datetime.date(year, month, day=13).weekday()\n",
    "    days = [\"Monday\", \"Tuesday\", \"Wednesday\", \"Thursday\", \"Friday\", \"Saturday\", \"Sunday\"]\n",
    "    day = days[intDay]\n",
    "    if day == 'Friday':\n",
    "        return True\n",
    "    else:\n",
    "        return False\n",
    "print(has_friday_13(3, 2020))\n",
    "print(has_friday_13(10, 2017))\n",
    "print(has_friday_13(1, 1985))\n"
   ]
  },
  {
   "cell_type": "code",
   "execution_count": 28,
   "id": "3a36074b",
   "metadata": {},
   "outputs": [
    {
     "data": {
      "text/plain": [
       "62"
      ]
     },
     "execution_count": 28,
     "metadata": {},
     "output_type": "execute_result"
    }
   ],
   "source": [
    "\"\"\"4. Write a regular expression that will help us count how many bad cookies are produced every day. You must use RegEx negative lookbehind.\"\"\"\n",
    "import re\n",
    "lst = [\"bad cookie\", \"good cookie\", \"bad cookie\", \"good cookie\", \"good cookie\"]\n",
    "pattern = \"\"\n",
    "len(re.findall(pattern, \", \".join(lst)))\n",
    "\n",
    "\n",
    "\"\"\"doubt\"\"\"\n"
   ]
  },
  {
   "cell_type": "code",
   "execution_count": 18,
   "id": "db30b4b6",
   "metadata": {},
   "outputs": [
    {
     "name": "stdout",
     "output_type": "stream",
     "text": [
      "{'cows'}\n",
      "{'tables'}\n"
     ]
    }
   ],
   "source": [
    "\"\"\"5. Given a list of words in the singular form, return a set of those words in the plural form if they appear more than once in the list.\"\"\"\n",
    "\n",
    "def pluralize(l_list):\n",
    "    return set(i+'s' for i in l_list if (l_list.count(i)>1))\n",
    "print(pluralize([\"cow\", \"pig\", \"cow\", \"cow\"]))\n",
    "print(pluralize([\"table\", \"table\", \"table\"]))"
   ]
  },
  {
   "cell_type": "code",
   "execution_count": null,
   "id": "a9c9357a",
   "metadata": {},
   "outputs": [],
   "source": []
  }
 ],
 "metadata": {
  "kernelspec": {
   "display_name": "Python 3",
   "language": "python",
   "name": "python3"
  },
  "language_info": {
   "codemirror_mode": {
    "name": "ipython",
    "version": 3
   },
   "file_extension": ".py",
   "mimetype": "text/x-python",
   "name": "python",
   "nbconvert_exporter": "python",
   "pygments_lexer": "ipython3",
   "version": "3.8.8"
  }
 },
 "nbformat": 4,
 "nbformat_minor": 5
}
