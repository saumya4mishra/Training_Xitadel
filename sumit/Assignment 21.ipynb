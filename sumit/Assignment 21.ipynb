{
 "cells": [
  {
   "cell_type": "code",
   "execution_count": 20,
   "id": "d9617ff3",
   "metadata": {},
   "outputs": [
    {
     "name": "stdout",
     "output_type": "stream",
     "text": [
      "[6, 7, 8, 9, 1]\n",
      "[6, 3, 23, 17, 10]\n",
      "[10, 20, 42, 6]\n",
      "No list has been selected\n"
     ]
    }
   ],
   "source": [
    "\"\"\"Question1\n",
    "Write a function that takes a list and a number as arguments. Add the number to the end of the list, then remove the first element of the list. The function should then return the updated list.\n",
    "\"\"\"\n",
    "def next_in_line(a,b):\n",
    "    if len(a) != 0:\n",
    "        a.pop(0)\n",
    "        a.append(b)\n",
    "        return a\n",
    "    else:\n",
    "        return \"No list has been selected\"\n",
    "print(next_in_line([5, 6, 7, 8, 9], 1))\n",
    "print(next_in_line([7, 6, 3, 23, 17], 10))\n",
    "print(next_in_line([1, 10, 20, 42 ], 6))\n",
    "print(next_in_line([], 6))"
   ]
  },
  {
   "cell_type": "code",
   "execution_count": 29,
   "id": "c45cacbb",
   "metadata": {},
   "outputs": [
    {
     "name": "stdout",
     "output_type": "stream",
     "text": [
      "65700\n",
      "62600\n"
     ]
    }
   ],
   "source": [
    "\"\"\"Question2\n",
    "Create the function that takes a list of dictionaries and returns the sum of people's budgets.\n",
    "\"\"\"\n",
    "def get_budgets(n):\n",
    "    lst=[]\n",
    "    for i in n:\n",
    "        a = i.get(\"budget\")\n",
    "        lst.append(a)\n",
    "        b = sum(lst)\n",
    "    return b\n",
    "    \n",
    "print(get_budgets([{ \"name\": \"John\", \"age\": 21, \"budget\": 23000 },{ \"name\": \"Steve\", \"age\": 32, \"budget\": 40000 },{ \"name\": \"Martin\", \"age\": 16, \"budget\": 2700 }]))\n",
    "print(get_budgets([{ \"name\": \"John\", \"age\": 21, \"budget\": 29000 },{ \"name\": \"Steve\", \"age\": 32, \"budget\": 32000 },{ \"name\": \"Martin\", \"age\": 16, \"budget\": 1600 }]))"
   ]
  },
  {
   "cell_type": "code",
   "execution_count": 35,
   "id": "3064cae4",
   "metadata": {},
   "outputs": [
    {
     "name": "stdout",
     "output_type": "stream",
     "text": [
      "ehllo\n",
      "abdeit\n",
      "acehkr\n",
      "eegk\n",
      "aacijprstv\n"
     ]
    }
   ],
   "source": [
    "\"\"\"Question3\n",
    "Create a function that takes a string and returns a string with its letters in alphabetical order\"\"\"\n",
    "\n",
    "def alphabet_soup(n):\n",
    "    a=''.join(sorted(n))\n",
    "    return a\n",
    "\n",
    "print(alphabet_soup(\"hello\"))\n",
    "print(alphabet_soup(\"edabit\"))\n",
    "print(alphabet_soup(\"hacker\"))\n",
    "print(alphabet_soup(\"geek\"))\n",
    "print(alphabet_soup(\"javascript\"))"
   ]
  },
  {
   "cell_type": "code",
   "execution_count": 40,
   "id": "9d8e8f17",
   "metadata": {},
   "outputs": [
    {
     "name": "stdout",
     "output_type": "stream",
     "text": [
      "105.0\n",
      "15399.26\n",
      "2007316.26\n"
     ]
    }
   ],
   "source": [
    "\"\"\"Question4\n",
    "Suppose that you invest $10,000 for 10 years at an interest rate of 6% compounded monthly. What will be the value of your investment at the end of the 10 year period?\"\"\"\n",
    "\n",
    "def compound_interest(p,t,r,n):\n",
    "    ci = p* (1 + r/n)**(n*t)\n",
    "    return round(ci,2)\n",
    "print(compound_interest(100, 1, 0.05, 1))\n",
    "print(compound_interest(3500, 15, 0.1, 4))\n",
    "print(compound_interest(100000, 20, 0.15, 365))"
   ]
  },
  {
   "cell_type": "code",
   "execution_count": 52,
   "id": "e38cf925",
   "metadata": {},
   "outputs": [
    {
     "name": "stdout",
     "output_type": "stream",
     "text": [
      "[9, 2, 16]\n",
      "[81, 123]\n",
      "[10, 56, 20, 3]\n",
      "[1]\n"
     ]
    }
   ],
   "source": [
    "\"\"\"Question5\n",
    "Write a function that takes a list of elements and returns only the integers.\n",
    "\"\"\"\n",
    "def return_only_integer(n):\n",
    "    x = [i for i in n if type(i)==int]\n",
    "    return x\n",
    "print(return_only_integer([9, 2, \"space\", \"car\", \"lion\", 16]))\n",
    "print(return_only_integer([\"hello\", 81, \"basketball\", 123, \"fox\"]))\n",
    "print(return_only_integer([10, \"121\", 56, 20, \"car\", 3, \"lion\"]))\n",
    "print(return_only_integer([\"String\", True, 3.3, 1]))"
   ]
  },
  {
   "cell_type": "code",
   "execution_count": null,
   "id": "a85453b5",
   "metadata": {},
   "outputs": [],
   "source": []
  }
 ],
 "metadata": {
  "kernelspec": {
   "display_name": "Python 3",
   "language": "python",
   "name": "python3"
  },
  "language_info": {
   "codemirror_mode": {
    "name": "ipython",
    "version": 3
   },
   "file_extension": ".py",
   "mimetype": "text/x-python",
   "name": "python",
   "nbconvert_exporter": "python",
   "pygments_lexer": "ipython3",
   "version": "3.8.8"
  }
 },
 "nbformat": 4,
 "nbformat_minor": 5
}
