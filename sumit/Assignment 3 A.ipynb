{
 "cells": [
  {
   "cell_type": "code",
   "execution_count": 24,
   "id": "fc145e3b",
   "metadata": {},
   "outputs": [
    {
     "name": "stdout",
     "output_type": "stream",
     "text": [
      "24 // 12 + 12 = 24\n",
      "0 // 12 - 12 = 0\n",
      "144 // 12 * 12 = 144\n",
      "-1 // 12 / 0 = -1\n"
     ]
    }
   ],
   "source": [
    "\"\"\"1. Create a function to perform basic arithmetic operations that includes addition, subtraction, multiplication and division on a string number (e.g. \"12 + 24\" or \"23 - 21\" or \"12 // 12\" or \"12 * 21\").\"\"\"\n",
    "\n",
    "def addition(n):\n",
    "    a = eval(n)\n",
    "    print(a,\"//\",n,\"=\",a)\n",
    "def subtraction(n):\n",
    "    b = eval(n)\n",
    "    print(b,\"//\",n,\"=\",b)\n",
    "def multiplication(n):\n",
    "    c = eval(n)\n",
    "    print(c,\"//\",n,\"=\",c)\n",
    "def division(n):\n",
    "    try:\n",
    "        eval(n)\n",
    "    except:\n",
    "        print(\"-1 //\",n,\"=\",\"-1\")\n",
    "\n",
    "\n",
    "addition(\"12 + 12\")\n",
    "subtraction(\"12 - 12\")   \n",
    "multiplication(\"12 * 12\")\n",
    "division(\"12 / 0\")"
   ]
  },
  {
   "cell_type": "code",
   "execution_count": 6,
   "id": "0d65fb1b",
   "metadata": {},
   "outputs": [
    {
     "name": "stdout",
     "output_type": "stream",
     "text": [
      "722.0\n"
     ]
    }
   ],
   "source": [
    "\"\"\"2. Write a function that takes the coordinates of three points in the form of a 2d array and returns the perimeter of the triangle. The given points are the vertices of a triangle on a two-dimensional plane.\"\"\"\n",
    "import math\n",
    "def perimeter(x,y,z):\n",
    "    dist1 = math.sqrt(pow((y[0]-x[0]),2))+(pow((y[1]-x[1]),2))\n",
    "    dist2 = math.sqrt(pow((z[0]-y[0]),2))+(pow((z[1]-y[1]),2))\n",
    "    dist3 = math.sqrt(pow((x[0]-z[0]),2))+(pow((x[1]-z[1]),2))\n",
    "    return dist1 + dist2 + dist3\n",
    "print(perimeter([15, 7],[5, 22],[11, 1]))\n",
    "\n",
    "    "
   ]
  },
  {
   "cell_type": "code",
   "execution_count": 10,
   "id": "a78a7387",
   "metadata": {},
   "outputs": [
    {
     "name": "stdout",
     "output_type": "stream",
     "text": [
      "47.08\n",
      "3.41\n",
      "68.28\n"
     ]
    }
   ],
   "source": [
    "import math\n",
    "def perimeter(l_list):\n",
    "    a=l_list[0][0]\n",
    "    b=l_list[0][1]\n",
    "    c=l_list[1][0]\n",
    "    d=l_list[1][1]\n",
    "    e=l_list[2][0]\n",
    "    f=l_list[2][1]\n",
    "    dist1 = math.sqrt(pow((c-a),2) + pow((d-b),2)) \n",
    "    dist2 = math.sqrt(pow((e-c),2) + pow((f-d),2))\n",
    "    dist3 = math.sqrt(pow((a-e),2) + pow((b-f),2))\n",
    "    return round((dist1 + dist2 + dist3),2)\n",
    "print(perimeter([[15,7],[5,22],[11,1]]))\n",
    "print(perimeter([[0,0],[0,1],[1,0]]))\n",
    "print(perimeter([[-10,-10],[10,10],[-10,10]]))"
   ]
  },
  {
   "cell_type": "code",
   "execution_count": 28,
   "id": "5446ada6",
   "metadata": {},
   "outputs": [
    {
     "name": "stdout",
     "output_type": "stream",
     "text": [
      "3\n"
     ]
    }
   ],
   "source": [
    "\"\"\"3. A city skyline can be represented as a 2-D list with 1s representing buildings. In the example below, the height of the tallest building is 4 (second-most right column).\"\"\"\n",
    "\n",
    "def tallest_skyscraper(l_list):\n",
    "    l_sum_list = []\n",
    "    l_list1  = zip(l_list[0],l_list[1],l_list[2],l_list[3])\n",
    "    for i in l_list1:\n",
    "        l_sum_list.append(sum(i))\n",
    "    return max(l_sum_list)\n",
    "                  \n",
    "print(tallest_skyscraper([[0, 0, 0, 0],[0, 1, 0, 0],[0, 1, 1, 0],[1, 1, 1, 1]]))"
   ]
  },
  {
   "cell_type": "code",
   "execution_count": 20,
   "id": "65b98e3c",
   "metadata": {},
   "outputs": [
    {
     "name": "stdout",
     "output_type": "stream",
     "text": [
      "Enter the number of days : 45\n",
      "6975\n"
     ]
    }
   ],
   "source": [
    "\"\"\"4. A financial institution provides professional services to banks and claims charges from the customers based on the number of man-days provided. Internally, it has set a scheme to motivate and reward staff to meet and exceed targeted billable utilization and revenues by paying a bonus for each day claimed from customers in excess of a threshold target.\"\"\"\n",
    "\n",
    "def bonus(n):  \n",
    "    if n in range(0,33):\n",
    "        return 0\n",
    "    elif n in range(33,41):\n",
    "        return (n-32)*325\n",
    "    elif n in range(41,49):\n",
    "        return ((n-32)*325 + (n-40)*550)\n",
    "    else:\n",
    "        return (8*325 + (n-40)*550 + (n-48)*600)\n",
    "m = int(input(\"Enter the number of days : \"))\n",
    "print(bonus(m))"
   ]
  },
  {
   "cell_type": "code",
   "execution_count": 73,
   "id": "2e192c8d",
   "metadata": {},
   "outputs": [
    {
     "name": "stdout",
     "output_type": "stream",
     "text": [
      "Enter the number : 75\n",
      "False\n"
     ]
    }
   ],
   "source": [
    "\"\"\"5. A number is said to be Disarium if the sum of its digits raised to their respective positions is the number itself.\n",
    "Create a function that determines whether a number is a Disarium or not.\"\"\"\n",
    "\n",
    "def check(n):\n",
    "    digit=len(str(n))\n",
    "    num=0\n",
    "    a=n\n",
    "    while (a!=0):\n",
    "        r = a % 10        \n",
    "        num = num + pow(r,digit)\n",
    "        digit-=1\n",
    "        a = a // 10\n",
    "    if num == n:\n",
    "        return True\n",
    "    else:\n",
    "        return False\n",
    "l = int(input(\"Enter the number : \"))\n",
    "print(check(l))\n",
    "        \n",
    "        "
   ]
  },
  {
   "cell_type": "code",
   "execution_count": null,
   "id": "83753f3a",
   "metadata": {},
   "outputs": [],
   "source": []
  }
 ],
 "metadata": {
  "kernelspec": {
   "display_name": "Python 3",
   "language": "python",
   "name": "python3"
  },
  "language_info": {
   "codemirror_mode": {
    "name": "ipython",
    "version": 3
   },
   "file_extension": ".py",
   "mimetype": "text/x-python",
   "name": "python",
   "nbconvert_exporter": "python",
   "pygments_lexer": "ipython3",
   "version": "3.8.8"
  }
 },
 "nbformat": 4,
 "nbformat_minor": 5
}
