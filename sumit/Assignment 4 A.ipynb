{
 "cells": [
  {
   "cell_type": "code",
   "execution_count": 24,
   "id": "c03659d8",
   "metadata": {},
   "outputs": [
    {
     "name": "stdout",
     "output_type": "stream",
     "text": [
      "Enter the number : 11\n",
      "55\n"
     ]
    }
   ],
   "source": [
    "\"\"\"1. In mathematics, the Fibonacci numbers, commonly denoted Fn, form a sequence, called the Fibonacci sequence, such that each number is the sum of the two preceding ones, starting from 0 and 1:\"\"\"\n",
    "def fact(n):\n",
    "    if n==1:\n",
    "        return 0\n",
    "    elif n==2 or n==3:\n",
    "        return 1\n",
    "    else:\n",
    "        return fact(n-1) + fact(n-2)\n",
    "a=int(input(\"Enter the number : \"))\n",
    "if a<0:\n",
    "    print(\"Enter the positiver number\")\n",
    "else:\n",
    "    print(fact(a))\n"
   ]
  },
  {
   "cell_type": "code",
   "execution_count": 49,
   "id": "a74a2aa3",
   "metadata": {},
   "outputs": [
    {
     "name": "stdout",
     "output_type": "stream",
     "text": [
      "0x68 0x65 0x6c 0x6c 0x6f 0x20 0x77 0x6f 0x72 0x6c 0x64\n"
     ]
    }
   ],
   "source": [
    "\"\"\"2. Create a function that takes a strings characters as ASCII and returns each characters hexadecimal value as a string.\"\"\"\n",
    "def convert_to_hex(text):\n",
    "    l_list=[]\n",
    "    l_list1=[]\n",
    "    for i in text:\n",
    "        l_list.append(ord(i))\n",
    "    for i in l_list:\n",
    "        l_list1.append(hex(i))\n",
    "             \n",
    "    concate_st = \" \".join(l_list1)\n",
    "    print(concate_st)\n",
    "    \n",
    "convert_to_hex(\"hello world\")\n",
    "        "
   ]
  },
  {
   "cell_type": "code",
   "execution_count": 48,
   "id": "3a6f7afc",
   "metadata": {},
   "outputs": [
    {
     "name": "stdout",
     "output_type": "stream",
     "text": [
      "68656c6c6f20776f726c64\n"
     ]
    }
   ],
   "source": [
    "def convert_to_hex(text):\n",
    "    l_list = []\n",
    "    for i in text:\n",
    "        a = ord(i)\n",
    "        b = hex(a)\n",
    "        x = b[2:]\n",
    "        l_list.extend(x)\n",
    "        \n",
    "    concate_st = \"\".join(l_list)\n",
    "    print(concate_st)\n",
    "    \n",
    "convert_to_hex(\"hello world\")\n",
    "        "
   ]
  },
  {
   "cell_type": "code",
   "execution_count": 14,
   "id": "20f22e69",
   "metadata": {},
   "outputs": [
    {
     "name": "stdout",
     "output_type": "stream",
     "text": [
      "Where did my vowels go?\n",
      "abcd\n",
      "UPPERCASE\n"
     ]
    }
   ],
   "source": [
    "\"\"\"3. Someone has attempted to censor my strings by replacing every vowel with a *, l*k* th*s. Luckily, I've been able to find the vowels that were removed.\n",
    "Given a censored string and a string of the censored vowels, return the original uncensored string.\"\"\"\n",
    "\n",
    "def uncensor(st_string1,st_string2):\n",
    "    st_string = ''\n",
    "    count = 0\n",
    "    i_num = len(st_string1)\n",
    "    for i in range(i_num):\n",
    "        if st_string1[i]=='*':\n",
    "            st_string += st_string2[count]\n",
    "            count += 1\n",
    "        else:\n",
    "            st_string += st_string1[i]    \n",
    "    return st_string\n",
    "    \n",
    "print(uncensor(\"Wh*r* d*d my v*w*ls g*?\", \"eeioeo\"))\n",
    "print(uncensor(\"abcd\", \"\"))\n",
    "print(uncensor(\"*PP*RC*S*\", \"UEAE\"))\n",
    "\n",
    "                    \n",
    "                \n",
    "            \n",
    "    "
   ]
  },
  {
   "cell_type": "code",
   "execution_count": 16,
   "id": "c2d5addf",
   "metadata": {},
   "outputs": [
    {
     "name": "stdout",
     "output_type": "stream",
     "text": [
      "dns.google\n",
      "dns.google\n"
     ]
    }
   ],
   "source": [
    "\"\"\"4. Write a function that takes an IP address and returns the domain name using PTR DNS records.\"\"\"\n",
    "import socket\n",
    "def get_domain(ip_add):\n",
    "    return (socket.gethostbyaddr(ip_add)[0])\n",
    "print(get_domain(\"8.8.8.8\"))\n",
    "print(get_domain(\"8.8.4.4\"))"
   ]
  },
  {
   "cell_type": "code",
   "execution_count": 19,
   "id": "372e9088",
   "metadata": {},
   "outputs": [
    {
     "name": "stdout",
     "output_type": "stream",
     "text": [
      "288\n",
      "34560\n",
      "24883200\n"
     ]
    }
   ],
   "source": [
    "\"\"\"5. Create a function that takes an integer n and returns the factorial of factorials. See below examples for a better understanding:\"\"\"\n",
    "import math\n",
    "def fact_of_fact(num):\n",
    "    if num==1:\n",
    "        return 1\n",
    "    else:\n",
    "        return math.factorial(num) * fact_of_fact(num-1)\n",
    "print(fact_of_fact(4))\n",
    "print(fact_of_fact(5))\n",
    "print(fact_of_fact(6))\n"
   ]
  },
  {
   "cell_type": "code",
   "execution_count": null,
   "id": "c5a0677c",
   "metadata": {},
   "outputs": [],
   "source": []
  }
 ],
 "metadata": {
  "kernelspec": {
   "display_name": "Python 3",
   "language": "python",
   "name": "python3"
  },
  "language_info": {
   "codemirror_mode": {
    "name": "ipython",
    "version": 3
   },
   "file_extension": ".py",
   "mimetype": "text/x-python",
   "name": "python",
   "nbconvert_exporter": "python",
   "pygments_lexer": "ipython3",
   "version": "3.8.8"
  }
 },
 "nbformat": 4,
 "nbformat_minor": 5
}
