{
 "cells": [
  {
   "cell_type": "code",
   "execution_count": 67,
   "id": "f39d0686",
   "metadata": {},
   "outputs": [
    {
     "name": "stdout",
     "output_type": "stream",
     "text": [
      "SSttrriinngg"
     ]
    }
   ],
   "source": [
    "\"\"\"Question1\n",
    "\n",
    "Create a function that takes a string and returns a string in which each character is repeated once.\"\"\"\n",
    "\n",
    "def double(str):\n",
    "    for i in str:\n",
    "        print(i * 2,end=\"\")\n",
    "        \n",
    "double(\"String\")\n",
    "\n"
   ]
  },
  {
   "cell_type": "code",
   "execution_count": 49,
   "id": "a04c84ff",
   "metadata": {},
   "outputs": [
    {
     "data": {
      "text/plain": [
       "True"
      ]
     },
     "execution_count": 49,
     "metadata": {},
     "output_type": "execute_result"
    }
   ],
   "source": [
    "\"\"\"Question 2\n",
    "Create a function that reverses a boolean value and returns the string \"boolean expected\" if another variable type is given.\"\"\"\n",
    "\n",
    "def reverse(n):\n",
    "    if isinstance(n,bool):\n",
    "        return not n\n",
    "    else:\n",
    "        return ('boolean expected')\n",
    "reverse(False)"
   ]
  },
  {
   "cell_type": "code",
   "execution_count": 71,
   "id": "0695b838",
   "metadata": {},
   "outputs": [
    {
     "name": "stdout",
     "output_type": "stream",
     "text": [
      "Enter the number of folds : 4\n"
     ]
    },
    {
     "data": {
      "text/plain": [
       "0.008"
      ]
     },
     "execution_count": 71,
     "metadata": {},
     "output_type": "execute_result"
    }
   ],
   "source": [
    "\"\"\"Question3\n",
    "Create a function that returns the thickness (in meters) of a piece of paper after folding it n number of times. The paper starts off with a thickness of 0.5mm\n",
    "\"\"\"\n",
    "def func(n):\n",
    "    t = 0.5\n",
    "    for _ in range(n):\n",
    "        t *= n\n",
    "        return (t*n)/1000\n",
    "a = int(input(\"Enter the number of folds : \"))\n",
    "func(a)"
   ]
  },
  {
   "cell_type": "code",
   "execution_count": 1,
   "id": "74c43137",
   "metadata": {},
   "outputs": [
    {
     "name": "stdout",
     "output_type": "stream",
     "text": [
      "[1, 3, 5]\n"
     ]
    }
   ],
   "source": [
    "\"\"\"Question4\n",
    "Create a function that takes a single string as argument and returns an ordered list containing the indices of all capital letters in the string.\"\"\"\n",
    "\n",
    "def index_of_caps(n):\n",
    "    lst=[]\n",
    "    for i in n:\n",
    "        if i == i.upper():\n",
    "            a = n.index(i)\n",
    "            lst.append(a)\n",
    "    return lst\n",
    "print(index_of_caps(\"eDaBiT\"))\n",
    "    \n",
    "    "
   ]
  },
  {
   "cell_type": "code",
   "execution_count": 17,
   "id": "3e980fa4",
   "metadata": {},
   "outputs": [
    {
     "name": "stdout",
     "output_type": "stream",
     "text": [
      "8\n",
      "[2, 4, 6, 8]\n"
     ]
    }
   ],
   "source": [
    "\"\"\"Question5\n",
    "Using list comprehensions, create a function that finds all even numbers from 1 to the given number.\"\"\"\n",
    "n = int(input())\n",
    "l = [i for i in range(1,n+1) if i%2==0]\n",
    "print(l)\n"
   ]
  },
  {
   "cell_type": "code",
   "execution_count": null,
   "id": "3602230b",
   "metadata": {},
   "outputs": [],
   "source": []
  }
 ],
 "metadata": {
  "kernelspec": {
   "display_name": "Python 3",
   "language": "python",
   "name": "python3"
  },
  "language_info": {
   "codemirror_mode": {
    "name": "ipython",
    "version": 3
   },
   "file_extension": ".py",
   "mimetype": "text/x-python",
   "name": "python",
   "nbconvert_exporter": "python",
   "pygments_lexer": "ipython3",
   "version": "3.8.8"
  }
 },
 "nbformat": 4,
 "nbformat_minor": 5
}
