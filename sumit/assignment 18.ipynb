{
 "cells": [
  {
   "cell_type": "code",
   "execution_count": 1,
   "id": "9bb7cea2",
   "metadata": {},
   "outputs": [
    {
     "name": "stdout",
     "output_type": "stream",
     "text": [
      "[1, 2]\n",
      "[1, 0, 15]\n",
      "[1, 2, 123]\n"
     ]
    }
   ],
   "source": [
    "\"\"\"Question 1\n",
    "\n",
    "Create a function that takes a list of non-negative integers and strings and return a new list without the strings\"\"\"\n",
    "\n",
    "def lst_filter(l):\n",
    "    a = [x for x in l if isinstance(x,int)]\n",
    "    return a\n",
    "    \n",
    "print(lst_filter([1, 2, \"a\", \"b\"]))\n",
    "print(lst_filter([1, \"a\", \"b\", 0, 15]))\n",
    "print(lst_filter([1, 2, \"aasf\", \"1\", \"123\", 123]))"
   ]
  },
  {
   "cell_type": "code",
   "execution_count": 2,
   "id": "495807df",
   "metadata": {},
   "outputs": [
    {
     "name": "stdout",
     "output_type": "stream",
     "text": [
      "Hello World\n",
      "DLROw OLLEh\n"
     ]
    }
   ],
   "source": [
    "\"\"\"Question 2\n",
    "The \"Reverser\" takes a string as input and returns that string in reverse order, with the opposite case\"\"\"\n",
    "\n",
    "lst = input()\n",
    "l = lst[::-1]\n",
    "x = l.swapcase()\n",
    "print(x)"
   ]
  },
  {
   "cell_type": "code",
   "execution_count": 1,
   "id": "4566fd40",
   "metadata": {},
   "outputs": [
    {
     "name": "stdout",
     "output_type": "stream",
     "text": [
      "12345\n",
      "first : 1\n",
      "middle : ['2', '3', '4']\n",
      "last : 5\n",
      "12345\n"
     ]
    }
   ],
   "source": [
    "\"\"\"Question 3\n",
    "Your task is to unpack the list writeyourcodehere into three variables, being first, middle, and last, with middle being everything in between the first and last element. Then print all three variables.\"\"\"\n",
    "\n",
    "writeyourcodehere = input()\n",
    "f = writeyourcodehere[0]\n",
    "m = writeyourcodehere[1:-1]\n",
    "l = writeyourcodehere[-1]\n",
    "\n",
    "print(\"first :\",f)\n",
    "print(\"middle :\",list(m))\n",
    "print(\"last :\",l)\n",
    "print(f + m + l)"
   ]
  },
  {
   "cell_type": "code",
   "execution_count": 2,
   "id": "94e6fc61",
   "metadata": {},
   "outputs": [
    {
     "name": "stdout",
     "output_type": "stream",
     "text": [
      "Enter the number : 5\n"
     ]
    },
    {
     "data": {
      "text/plain": [
       "120"
      ]
     },
     "execution_count": 2,
     "metadata": {},
     "output_type": "execute_result"
    }
   ],
   "source": [
    "\"\"\"Question 4 \n",
    "Write a function that calculates the factorial of a number recursively.\n",
    "\"\"\"\n",
    "\n",
    "def factorial(n):\n",
    "    if n == 1:\n",
    "        return n\n",
    "    else:\n",
    "        return n * factorial(n-1)\n",
    "num = int(input(\"Enter the number : \"))\n",
    "factorial(num)\n",
    "    "
   ]
  },
  {
   "cell_type": "code",
   "execution_count": 10,
   "id": "6ca232b8",
   "metadata": {},
   "outputs": [
    {
     "name": "stdout",
     "output_type": "stream",
     "text": [
      "[3, 2, 4, 4, 1, 1]\n",
      "[7, 8, 1, 2, 3, 4, 9]\n",
      "['a', 'a', 'b', 'a']\n"
     ]
    }
   ],
   "source": [
    "\"\"\"Question 5\n",
    "Write a function that moves all elements of one type to the end of the list.\"\"\"\n",
    "\n",
    "def move_to_end(a,b):\n",
    "    for i in a:\n",
    "        if b in a :\n",
    "            a.remove(b)\n",
    "            a.append(b)\n",
    "        return a\n",
    "    \n",
    "print(move_to_end([1, 3, 2, 4, 4, 1], 1))\n",
    "print(move_to_end([7, 8, 9, 1, 2, 3, 4], 9))\n",
    "print(move_to_end([\"a\", \"a\", \"a\", \"b\"], \"a\"))\n",
    "        \n",
    "        \n",
    "    \n",
    "   "
   ]
  },
  {
   "cell_type": "code",
   "execution_count": null,
   "id": "50d99460",
   "metadata": {},
   "outputs": [],
   "source": []
  }
 ],
 "metadata": {
  "kernelspec": {
   "display_name": "Python 3",
   "language": "python",
   "name": "python3"
  },
  "language_info": {
   "codemirror_mode": {
    "name": "ipython",
    "version": 3
   },
   "file_extension": ".py",
   "mimetype": "text/x-python",
   "name": "python",
   "nbconvert_exporter": "python",
   "pygments_lexer": "ipython3",
   "version": "3.8.8"
  }
 },
 "nbformat": 4,
 "nbformat_minor": 5
}
