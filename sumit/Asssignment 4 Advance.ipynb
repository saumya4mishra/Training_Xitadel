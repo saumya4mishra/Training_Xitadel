{
 "cells": [
  {
   "cell_type": "code",
   "execution_count": null,
   "id": "17637434",
   "metadata": {},
   "outputs": [],
   "source": [
    "\"\"\"\n",
    "Q1. Which two operator overloading methods can you use in your classes to support iteration?\n",
    "\"\"\"\n",
    "#Answer\n",
    "\"\"\"\n",
    "The __iter__ returns the iterator object and is implicitly called at the start of loops. The __next__ method returns the next value and is implicitly called at each loop increment. __next__ raises a StopIteration exception when there are no more value to return, which is implicitly captured by looping constructs to stop iterating.\n",
    "\"\"\""
   ]
  },
  {
   "cell_type": "code",
   "execution_count": null,
   "id": "b83b5491",
   "metadata": {},
   "outputs": [],
   "source": [
    "\"\"\"\n",
    "Q2. In what contexts do the two operator overloading methods manage printing?\n",
    "\"\"\"\n",
    "#Answer\n",
    "\"\"\"\n",
    "To perform the operator overloading, python provides some special function or magic function which automatically gets invoked when associated with that particular operator. \n",
    "The name of the method should begin and end with a double underscore (__).\n",
    "\"\"\""
   ]
  },
  {
   "cell_type": "code",
   "execution_count": null,
   "id": "280f043b",
   "metadata": {},
   "outputs": [],
   "source": [
    "\"\"\"\n",
    "Q3. In a class, how do you intercept slice operations?\n",
    "\"\"\"\n",
    "#Answer\n",
    "\"\"\"\n",
    "\"setslice\" and \"delslice\" are deprecated, if you want to do the interception with python slice objects passed to \"setitem\" and \"delitem\"\n",
    "\"\"\""
   ]
  },
  {
   "cell_type": "code",
   "execution_count": null,
   "id": "674073d7",
   "metadata": {},
   "outputs": [],
   "source": [
    "\"\"\"\n",
    "Q4. In a class, how do you capture in-place addition?\n",
    "\"\"\"\n",
    "#Answer\n",
    "\"\"\"\n",
    "To use the in-place addition operator += on custom objects, you need to define the __iadd__() method that takes two arguments self and other, updates the first argument self with the result of the addition, and returns the updated object.\n",
    "\"\"\""
   ]
  },
  {
   "cell_type": "code",
   "execution_count": null,
   "id": "26f18f45",
   "metadata": {},
   "outputs": [],
   "source": [
    "\"\"\"\n",
    "Q5. When is it appropriate to use operator overloading?\n",
    "\"\"\"\n",
    "#Answer\n",
    "\"\"\"\n",
    "Operator overloading is mostly useful when you're making a new class that falls into an existing \"Abstract Base Class\" (ABC) -- indeed, many of the ABCs in standard library module collections rely on the presence of certain special methods.\n",
    "\"\""
   ]
  }
 ],
 "metadata": {
  "kernelspec": {
   "display_name": "Python 3",
   "language": "python",
   "name": "python3"
  },
  "language_info": {
   "codemirror_mode": {
    "name": "ipython",
    "version": 3
   },
   "file_extension": ".py",
   "mimetype": "text/x-python",
   "name": "python",
   "nbconvert_exporter": "python",
   "pygments_lexer": "ipython3",
   "version": "3.8.8"
  }
 },
 "nbformat": 4,
 "nbformat_minor": 5
}
