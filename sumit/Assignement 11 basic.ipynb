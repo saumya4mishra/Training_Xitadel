{
 "cells": [
  {
   "cell_type": "code",
   "execution_count": 3,
   "id": "f7c0bfb8",
   "metadata": {},
   "outputs": [
    {
     "name": "stdout",
     "output_type": "stream",
     "text": [
      "Enter the number : -10\n",
      "Enter the positive number\n"
     ]
    }
   ],
   "source": [
    "\"\"\"\n",
    "1. Create an assert statement that throws an AssertionError if the variable spam is a negative integer.\n",
    "\"\"\"\n",
    "#Answer\n",
    "try:\n",
    "    num = int(input(\"Enter the number : \"))\n",
    "    assert num >=0\n",
    "    print(\"Entered number is positive\")\n",
    "except AssertionError:\n",
    "    print(\"Enter the positive number\")"
   ]
  },
  {
   "cell_type": "code",
   "execution_count": 4,
   "id": "13126e90",
   "metadata": {},
   "outputs": [
    {
     "name": "stdout",
     "output_type": "stream",
     "text": [
      "Enter the string 1 : xitadel1\n",
      "Enter the string 2 : xitadel2\n",
      "It has an error\n"
     ]
    }
   ],
   "source": [
    "\"\"\"\n",
    "2. Write an assert statement that triggers an AssertionError if the variables eggs and bacon contain strings that are the same as each other, even if their cases are different (that is, 'hello' and 'hello' are considered the same, and 'goodbye' and 'GOODbye' are also considered the same).\n",
    "\"\"\"\n",
    "#Answer\n",
    "try:\n",
    "    eggs = input(\"Enter the string 1 : \")\n",
    "    bacon = input(\"Enter the string 2 : \")\n",
    "    assert eggs.lower == bacon.lower() or eggs.upper == bacon.upper()\n",
    "except AssertionError:\n",
    "    print(\"It has an error\")\n",
    "    "
   ]
  },
  {
   "cell_type": "code",
   "execution_count": 7,
   "id": "f6e3c236",
   "metadata": {},
   "outputs": [
    {
     "name": "stdout",
     "output_type": "stream",
     "text": [
      "It has a error\n"
     ]
    }
   ],
   "source": [
    "\"\"\"\n",
    "3. Create an assert statement that throws an AssertionError every time.\n",
    "\"\"\"\n",
    "#Answer\n",
    "try:\n",
    "    assert False\n",
    "except AssertionError:\n",
    "    print(\"It has a error\")"
   ]
  },
  {
   "cell_type": "code",
   "execution_count": null,
   "id": "4f68ca7e",
   "metadata": {},
   "outputs": [],
   "source": [
    "\"\"\"\n",
    "4. What are the two lines that must be present in your software in order to call logging.debug()?\n",
    "\"\"\"\n",
    "#Answer\n",
    "\"\"\"\n",
    "1. import logging\n",
    "2. logging.basicconfig(filename='app.log', filemode='w', format='%(name)s - %(levelname)s - %(message)s')\n",
    "   logging.warning('This will get logged to a file')\n",
    "\"\"\"\n"
   ]
  },
  {
   "cell_type": "code",
   "execution_count": null,
   "id": "e3293c62",
   "metadata": {},
   "outputs": [],
   "source": [
    "\"\"\"\n",
    "5. What are the two lines that your program must have in order to have logging.debug() send a logging message to a file named programLog.txt?\n",
    "\"\"\"\n",
    "#Answer\n",
    "\"\"\"\n",
    "1. import logging\n",
    "2. logging.basicconfig(filename='app.log', filemode='w', format='%(name)s - %(levelname)s - %(message)s')\n",
    "   logging.warning('This will get logged to a file')\n",
    "\"\"\""
   ]
  },
  {
   "cell_type": "code",
   "execution_count": null,
   "id": "e755410f",
   "metadata": {},
   "outputs": [],
   "source": [
    "\"\"\"\n",
    "6. What are the five levels of logging?\n",
    "\"\"\"\n",
    "#Answer\n",
    "\"\"\"\n",
    "1. DEBUG\n",
    "2. INFO\n",
    "3. WARNING\n",
    "4. ERROR\n",
    "5. CRITICAL\n",
    "\"\"\""
   ]
  },
  {
   "cell_type": "code",
   "execution_count": null,
   "id": "6618caa8",
   "metadata": {},
   "outputs": [],
   "source": [
    "\"\"\"\n",
    "7. What line of code would you add to your software to disable all logging messages?\n",
    "\"\"\"\n",
    "#Answer\n",
    "\"\"\"\n",
    "\"\"\""
   ]
  },
  {
   "cell_type": "code",
   "execution_count": null,
   "id": "af2404e2",
   "metadata": {},
   "outputs": [],
   "source": [
    "\"\"\"\n",
    "8.Why is using logging messages better than using print() to display the same message?\n",
    "\"\"\"\n",
    "#Answer\n",
    "\"\"\"\n",
    "It is the way to display useful message to the user of your code about thing that would add more context to the user in understanding what is happening in the code\n",
    "\"\"\"\n"
   ]
  },
  {
   "cell_type": "code",
   "execution_count": null,
   "id": "b5627733",
   "metadata": {},
   "outputs": [],
   "source": [
    "\"\"\"\n",
    "9. What are the differences between the Step Over, Step In, and Step Out buttons in the debugger?\n",
    "\"\"\"\n",
    "#Answer\n",
    "\"\"\"\n",
    "a) Step over : An action to take in the debugger that will step over a given line. If the line contains a function the function will ve executed and the result returned without debugging each line\n",
    "b) Step into : An action to take in the debugger if the line does not contain a function it behaves the same as \"step over\" but if is does the debugger will enter the called function and continue line-by-line debugging\n",
    "c) Step out :  An action to take in the debugger that returns to the line where the current function was called.\n",
    "\"\"\""
   ]
  },
  {
   "cell_type": "code",
   "execution_count": null,
   "id": "6d8b2b14",
   "metadata": {},
   "outputs": [],
   "source": [
    "\"\"\"\n",
    "10.After you click Continue, when will the debugger stop ?\n",
    "\"\"\"\n",
    "#Answer\n",
    "\"\"\"\n",
    "Continue - An action to take in the debugger that will continue execution until the next breakpoint is reached or the program exits.\n",
    "\"\"\""
   ]
  },
  {
   "cell_type": "code",
   "execution_count": null,
   "id": "641afb30",
   "metadata": {},
   "outputs": [],
   "source": [
    "\"\"\"\n",
    "11. What is the concept of a breakpoint?\n",
    "\"\"\"\n",
    "#Answer\n",
    "\"\"\"\n",
    "Breakpoint - A line number of interest in your program. When the debugger is runnin it halts execution of the program at any line\n",
    "\"\"\""
   ]
  }
 ],
 "metadata": {
  "kernelspec": {
   "display_name": "Python 3",
   "language": "python",
   "name": "python3"
  },
  "language_info": {
   "codemirror_mode": {
    "name": "ipython",
    "version": 3
   },
   "file_extension": ".py",
   "mimetype": "text/x-python",
   "name": "python",
   "nbconvert_exporter": "python",
   "pygments_lexer": "ipython3",
   "version": "3.8.8"
  }
 },
 "nbformat": 4,
 "nbformat_minor": 5
}
