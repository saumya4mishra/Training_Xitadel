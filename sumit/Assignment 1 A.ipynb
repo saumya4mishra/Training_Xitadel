{
 "cells": [
  {
   "cell_type": "code",
   "execution_count": 10,
   "id": "04015957",
   "metadata": {},
   "outputs": [
    {
     "name": "stdout",
     "output_type": "stream",
     "text": [
      "2\n"
     ]
    }
   ],
   "source": [
    "\"\"\"1. Write a function that takes a list of lists and returns the value of all of the symbols in it, where each symbol adds or takes something from the total score. Symbol values:\"\"\"\n",
    "def check_score(l_list):\n",
    "    dict_ = {'#':5, 'O':3, 'X':1, '!':-1,'!!':-3,'!!!':-5}\n",
    "    total = 0\n",
    "    for i in l_list:\n",
    "        for j in i:\n",
    "            total = total + dict_[j]\n",
    "    \n",
    "    if total < 0:\n",
    "        return 0\n",
    "    else:\n",
    "        return total   \n",
    "    \n",
    "print(check_score([['#','!'],['!!','X']]))         \n",
    "                \n",
    "            \n",
    "        \n",
    "    "
   ]
  },
  {
   "cell_type": "code",
   "execution_count": 19,
   "id": "e79c6e9f",
   "metadata": {},
   "outputs": [
    {
     "name": "stdout",
     "output_type": "stream",
     "text": [
      "(2, 3, 6)\n"
     ]
    }
   ],
   "source": [
    "\"\"\"2. Create a function that takes a variable number of arguments, each argument representing the number of items in a group, and returns the number of permutations (combinations) of items that you could get by taking one item from each group.\"\"\"\n",
    "\n",
    "def combinations(*num):\n",
    "    for i in num:\n",
    "        count = 1\n",
    "        count *= num\n",
    "    print(count)\n",
    "\n",
    "combinations(2, 3, 6)"
   ]
  },
  {
   "cell_type": "code",
   "execution_count": 32,
   "id": "e1c6e511",
   "metadata": {},
   "outputs": [
    {
     "name": "stdout",
     "output_type": "stream",
     "text": [
      ".-...--...-.....--.-......-.-...-...-.--..\n"
     ]
    }
   ],
   "source": [
    "\"\"\"3. Create a function that takes a string as an argument and returns the Morse code equivalent.\"\"\"\n",
    "def to_morse_code(text):\n",
    "    char_to_dots = {'A': '.-', 'B': '-...', 'C': '-.-.', 'D': '-..', 'E': '.', 'F': '..-.',\n",
    "                    'G': '--.', 'H': '....', 'I': '..', 'J': '.---', 'K': '-.-', 'L': '.-..',\n",
    "                    'M': '--', 'N': '-.', 'O': '---', 'P': '.--.', 'Q': '--.-', 'R': '.-.',\n",
    "                    'S': '...', 'T': '-', 'U': '..-', 'V': '...-', 'W': '.--', 'X': '-..-',\n",
    "                    'Y': '-.--', 'Z': '--..', ' ': ' ', '0': '-----',\n",
    "                    '1': '.----', '2': '..---', '3': '...--', '4': '....-', '5': '.....',\n",
    "                    '6': '-....', '7': '--...', '8': '---..', '9': '----.',\n",
    "                    '&': '.-...', \"'\": '.----.', '@': '.--.-.', ')': '-.--.-', '(': '-.--.',\n",
    "                    ':': '---...', ',': '--..--', '=': '-...-', '!': '-.-.--', '.': '.-.-.-',\n",
    "                    '-': '-....-', '+': '.-.-.', '\"': '.-..-.', '?': '..--..', '/': '-..-.'}\n",
    "    morse_code = \"\"\n",
    "    for i in text:\n",
    "        morse_code += char_to_dots[i.upper()]\n",
    "    print(morse_code)\n",
    "\n",
    "to_morse_code(\"EDABBITCHALLENGE\")"
   ]
  },
  {
   "cell_type": "code",
   "execution_count": 33,
   "id": "64abb9fe",
   "metadata": {},
   "outputs": [
    {
     "name": "stdout",
     "output_type": "stream",
     "text": [
      "True\n",
      "True\n",
      "False\n"
     ]
    }
   ],
   "source": [
    "\"\"\"4. Write a function that takes a number and returns True if it's a prime; False otherwise. The number can be 2^64-1 (2 to the power of 63, not XOR). With the standard technique it would be O(2^64-1), which is much too large for the 10 second time limit.\"\"\"\n",
    "def prime(n):\n",
    "    for i in range(2,n):\n",
    "        if n%i==0:\n",
    "            return False\n",
    "        else:\n",
    "            return True\n",
    "                \n",
    "\n",
    "print(prime(7))\n",
    "print(prime(56963))\n",
    "print(prime(5151512515524))"
   ]
  },
  {
   "cell_type": "code",
   "execution_count": 1,
   "id": "18f6e0a7",
   "metadata": {},
   "outputs": [
    {
     "name": "stdout",
     "output_type": "stream",
     "text": [
      "[False, True, True, False]\n",
      "[False, True, False, True, True]\n",
      "[False, True, True, False]\n"
     ]
    }
   ],
   "source": [
    "\"\"\"5. Create a function that converts a word to a bitstring and then to a boolean list based on the following criteria:\n",
    "1. Locate the position of the letter in the English alphabet (from 1 to 26).\n",
    "2. Odd positions will be represented as 1 and 0 otherwise.\n",
    "3. Convert the represented positions to boolean values, 1 for True and 0 for False.\n",
    "4. Store the conversions into an array.\"\"\"\n",
    "alphabets = {'a': 1, 'c': 1, 'b': 0, 'e': 1, 'd':0, 'g': 1, 'f': 0, 'i': 1, 'h': 0, 'k': 1,\n",
    " 'j': 0, 'm': 1, 'l': 0, 'o': 1, 'n': 0, 'q': 1, 'p': 0, 's': 1, 'r': 0, 'u': 1, \n",
    "'t': 0, 'w': 1, 'v': 0, 'y': 1, 'x': 0, 'z':0}\n",
    "def to_boolean_list(text):\n",
    "    l_list=[]\n",
    "    for i in text:\n",
    "        l_list.append(bool(alphabets[i]))\n",
    "    return l_list\n",
    "    \n",
    "print(to_boolean_list(\"deep\"))\n",
    "print(to_boolean_list(\"loves\"))\n",
    "print(to_boolean_list(\"tesh\"))\n",
    "\n",
    "  "
   ]
  },
  {
   "cell_type": "code",
   "execution_count": null,
   "id": "cd64067f",
   "metadata": {},
   "outputs": [],
   "source": []
  }
 ],
 "metadata": {
  "kernelspec": {
   "display_name": "Python 3",
   "language": "python",
   "name": "python3"
  },
  "language_info": {
   "codemirror_mode": {
    "name": "ipython",
    "version": 3
   },
   "file_extension": ".py",
   "mimetype": "text/x-python",
   "name": "python",
   "nbconvert_exporter": "python",
   "pygments_lexer": "ipython3",
   "version": "3.8.8"
  }
 },
 "nbformat": 4,
 "nbformat_minor": 5
}
