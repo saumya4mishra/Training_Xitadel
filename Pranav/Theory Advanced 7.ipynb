{
 "cells": [
  {
   "cell_type": "code",
   "execution_count": null,
   "id": "ef4f9451",
   "metadata": {},
   "outputs": [],
   "source": [
    "\"\"\"\n",
    "Q1. What is the purpose of the try statement?\n",
    "\n",
    "Ans : The try block lets you test a block of code for errors\n",
    "\n",
    "\"\"\""
   ]
  },
  {
   "cell_type": "code",
   "execution_count": null,
   "id": "d3ccf260",
   "metadata": {},
   "outputs": [],
   "source": [
    "\"\"\"\n",
    "Q2. What are the two most popular try statement variations?\n",
    "\n",
    "Ans : Except,finally\n",
    "\"\"\""
   ]
  },
  {
   "cell_type": "code",
   "execution_count": null,
   "id": "afc0d3c5",
   "metadata": {},
   "outputs": [],
   "source": [
    "\"\"\"\n",
    "Q3. What is the purpose of the raise statement?\n",
    "\n",
    "Ans : The raise keyword is used to raise an exception.You can define what kind of error to raise, \n",
    "and the text to print to the user.\n",
    "\n",
    "\"\"\""
   ]
  },
  {
   "cell_type": "code",
   "execution_count": null,
   "id": "5ba27dd6",
   "metadata": {},
   "outputs": [],
   "source": [
    "\"\"\"\n",
    "Q4. What does the assert statement do, and what other statement is it like?\n",
    "\n",
    "Ans : An assert statement checks whether a condition is true. If a condition is True, a program will keep running.\n",
    "If a condition is false, the program will return an AssertionError.At this point, the program will stop executing.\n",
    "Its like while loop.\n",
    "\n",
    "\"\"\""
   ]
  },
  {
   "cell_type": "code",
   "execution_count": null,
   "id": "424e2b00",
   "metadata": {},
   "outputs": [],
   "source": [
    "\"\"\"\n",
    "Q5. What is the purpose of the with/as argument, and what other statement is it like?\n",
    "\n",
    "Ans : The with statement in Python is used for resource management and exception handling\n",
    "\n",
    "\"\"\""
   ]
  }
 ],
 "metadata": {
  "kernelspec": {
   "display_name": "Python 3 (ipykernel)",
   "language": "python",
   "name": "python3"
  },
  "language_info": {
   "codemirror_mode": {
    "name": "ipython",
    "version": 3
   },
   "file_extension": ".py",
   "mimetype": "text/x-python",
   "name": "python",
   "nbconvert_exporter": "python",
   "pygments_lexer": "ipython3",
   "version": "3.9.7"
  }
 },
 "nbformat": 4,
 "nbformat_minor": 5
}
