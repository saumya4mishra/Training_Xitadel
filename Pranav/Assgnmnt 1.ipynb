{
 "cells": [
  {
   "cell_type": "code",
   "execution_count": null,
   "id": "94f31bbc",
   "metadata": {},
   "outputs": [],
   "source": [
    "# 1. Write a function that takes a list of lists and returns the value of all of the symbols in it, where each symbol adds or takes something from the total score. Symbol values:\n"
   ]
  },
  {
   "cell_type": "code",
   "execution_count": 13,
   "id": "9949a32c",
   "metadata": {},
   "outputs": [
    {
     "name": "stdout",
     "output_type": "stream",
     "text": [
      "0\n"
     ]
    }
   ],
   "source": [
    "def valuesof_symbol(list_of_list):\n",
    "    sym = []\n",
    "    for e_sym in list_of_list:\n",
    "        if \"#\" in e_sym:\n",
    "            sym.append(5)\n",
    "        if \"O\" in e_sym:\n",
    "            sym.append(3)\n",
    "        if \"X\" in e_sym:\n",
    "            sym.append(1)\n",
    "        if \"!\" in e_sym:\n",
    "            sym.append(-1)\n",
    "        if \"!!\" in e_sym:\n",
    "            sym.append(-3)\n",
    "        if \"!!!\" in e_sym:\n",
    "            sym.append(-5)\n",
    "    vals = sum(sym)\n",
    "    if vals < 0:\n",
    "        print('0')\n",
    "    else:\n",
    "        print(vals)\n",
    "lol = [[\"!!!\", \"O\", \"!\"],[\"X\", \"#\", \"!!!\"],[\"!!\", \"X\", \"O\"]]\n",
    "\n",
    "\n",
    "valuesof_symbol(lol)"
   ]
  },
  {
   "cell_type": "code",
   "execution_count": null,
   "id": "7c1c1a36",
   "metadata": {},
   "outputs": [],
   "source": [
    "#Create a function that takes a variable number of arguments, each argument representing the number of items in a group, and returns the number of permutations (combinations) of items that you could get by taking one item from each group."
   ]
  },
  {
   "cell_type": "code",
   "execution_count": 3,
   "id": "e9d6607e",
   "metadata": {},
   "outputs": [
    {
     "name": "stdout",
     "output_type": "stream",
     "text": [
      "240\n"
     ]
    }
   ],
   "source": [
    "def combination(*number):\n",
    "    result = 1\n",
    "    for n in number:\n",
    "        result *= n\n",
    "    print(result)\n",
    "        \n",
    "combination(2,6,4,5)\n",
    "    "
   ]
  },
  {
   "cell_type": "code",
   "execution_count": null,
   "id": "89756a38",
   "metadata": {},
   "outputs": [],
   "source": [
    "#. Create a function that takes a string as an argument and returns the Morse code equivalent."
   ]
  },
  {
   "cell_type": "code",
   "execution_count": 17,
   "id": "d9fe7cc6",
   "metadata": {},
   "outputs": [
    {
     "name": "stdout",
     "output_type": "stream",
     "text": [
      "['.', '....', '.-..', '--', '.--.', ' ', '-.-.--']\n"
     ]
    }
   ],
   "source": [
    "def encode_morse(code):\n",
    "    char_to_dots = {'A': '.-', 'B': '-...', 'C': '-.-.', 'D': '-..', 'E': '.', 'F': '..-.','G': '--.', 'H': '....', 'I': '..', 'J': '.---', 'K': '-.-', 'L': '.-..','M': '--', 'N': '-.', 'O': '---', 'P': '.--.', 'Q': '--.-', 'R': '.-.','S': '...', 'T': '-', 'U': '..-', 'V': '...-', 'W': '.--', 'X': '-..-','Y': '-.--', 'Z': '--..', ' ': ' ', '0': '-----','1': '.----', '2': '..---', '3': '...--', '4': '....-', '5': '.....','6': '-....', '7': '--...', '8': '---..', '9': '----.','&': '.-...', \"'\": '.----.', '@': '.--.-.', ')': '-.--.-', '(': '-.--.',':': '---...', ',': '--..--', '=': '-...-', '!': '-.-.--', '.': '.-.-.-','-': '-....-', '+': '.-.-.', '\"': '.-..-.', '?': '..--..', '/': '-..-.'}\n",
    "    collect_code = []\n",
    "    for j in char_to_dots:\n",
    "         if j in code:\n",
    "            collect_code.append(char_to_dots[j])\n",
    "    print(collect_code)\n",
    "    \n",
    "encode_morse(\"HELP ME!\")"
   ]
  },
  {
   "cell_type": "code",
   "execution_count": null,
   "id": "fe861d6e",
   "metadata": {},
   "outputs": [],
   "source": [
    "#Write a function that takes a number and returns True if it's a prime; False otherwise. The number can be 2^64-1 (2 to the power of 63, not XOR). With the standard technique it would be O(2^64-1), which is much too large for the 10 second time limit"
   ]
  },
  {
   "cell_type": "code",
   "execution_count": 23,
   "id": "08091139",
   "metadata": {},
   "outputs": [
    {
     "data": {
      "text/plain": [
       "True"
      ]
     },
     "execution_count": 23,
     "metadata": {},
     "output_type": "execute_result"
    }
   ],
   "source": [
    "def prime(num):\n",
    "    for i in range(2,num):\n",
    "        if num%i==0 :\n",
    "             return False\n",
    "        else:\n",
    "            return True\n",
    "prime(7)"
   ]
  },
  {
   "cell_type": "code",
   "execution_count": null,
   "id": "912fe392",
   "metadata": {},
   "outputs": [],
   "source": [
    "#5. Create a function that converts a word to a bitstring and then to a boolean list based on the following criteria:"
   ]
  },
  {
   "cell_type": "code",
   "execution_count": 1,
   "id": "b6137659",
   "metadata": {},
   "outputs": [
    {
     "name": "stdout",
     "output_type": "stream",
     "text": [
      "[False, True, True, False]\n"
     ]
    }
   ],
   "source": [
    "def to_boolean(code):\n",
    "        char = {\"a\":1,\"b\":0,'c':1,'d':0,'e':1,'f':0,'g':1,'h':0,\"i\":1,\"j\":0,'k':1,'l':0,'m':1,'n':0,'o':1,'p':0,\"q\":1,\"r\":0,'s':1,'t':0,'u':1,'v':0,'w':1,'x':0,'y':1,'z':0}\n",
    "        result = []\n",
    "        for i in code:\n",
    "            for j in char:\n",
    "                if i == j:\n",
    "                    if char[j] == 0:\n",
    "                        result.append(False)\n",
    "                    else:\n",
    "                        result.append(True)\n",
    "        \n",
    "        print(result)\n",
    "        \n",
    "to_boolean(\"deep\")\n",
    "                        "
   ]
  },
  {
   "cell_type": "code",
   "execution_count": null,
   "id": "28bc8e2c",
   "metadata": {},
   "outputs": [],
   "source": []
  }
 ],
 "metadata": {
  "kernelspec": {
   "display_name": "Python 3 (ipykernel)",
   "language": "python",
   "name": "python3"
  },
  "language_info": {
   "codemirror_mode": {
    "name": "ipython",
    "version": 3
   },
   "file_extension": ".py",
   "mimetype": "text/x-python",
   "name": "python",
   "nbconvert_exporter": "python",
   "pygments_lexer": "ipython3",
   "version": "3.9.7"
  }
 },
 "nbformat": 4,
 "nbformat_minor": 5
}
