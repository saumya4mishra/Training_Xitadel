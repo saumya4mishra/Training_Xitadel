{
 "cells": [
  {
   "cell_type": "code",
   "execution_count": null,
   "id": "0715e87f",
   "metadata": {},
   "outputs": [],
   "source": [
    "#1. Create a function to perform basic arithmetic operations that includes addition, subtraction, multiplication and division on a string number (e.g. \"12 + 24\" or \"23 - 21\" or \"12 // 12\" or \"12 * 21\")"
   ]
  },
  {
   "cell_type": "code",
   "execution_count": 11,
   "id": "1dc47cf4",
   "metadata": {},
   "outputs": [
    {
     "name": "stdout",
     "output_type": "stream",
     "text": [
      "-1\n",
      "0\n"
     ]
    }
   ],
   "source": [
    "def operations(prob):\n",
    "    try:\n",
    "        ans = eval(prob)\n",
    "        \n",
    "        print(ans)\n",
    "    except:\n",
    "        print(-1)\n",
    "operations(\"12//0\")\n",
    "operations(\"12-12\")"
   ]
  },
  {
   "cell_type": "code",
   "execution_count": 18,
   "id": "35108f4e",
   "metadata": {},
   "outputs": [
    {
     "name": "stdout",
     "output_type": "stream",
     "text": [
      "56\n"
     ]
    }
   ],
   "source": [
    "import re\n",
    "def operations(prob):\n",
    "    result = sum(map(int,re.findall(r'[+-]?\\d+',prob)))\n",
    "    print(str(result))\n",
    "operations(\"32+24\")\n",
    "# only works for addition and subtraction"
   ]
  },
  {
   "cell_type": "code",
   "execution_count": null,
   "id": "dac365e6",
   "metadata": {},
   "outputs": [],
   "source": [
    "#2. Write a function that takes the coordinates of three points in the form of a 2d array and returns the perimeter of the triangle. The given points are the vertices of a triangle on a two-dimensional plane."
   ]
  },
  {
   "cell_type": "code",
   "execution_count": 19,
   "id": "88084cd0",
   "metadata": {},
   "outputs": [
    {
     "name": "stdout",
     "output_type": "stream",
     "text": [
      "Perimeter: 51.31762562623766\n"
     ]
    }
   ],
   "source": [
    "import math\n",
    "\n",
    "def perimeter(arr):\n",
    "    ab = [arr[0],arr[1]]\n",
    "    bc = [arr[1],arr[2]]\n",
    "    cd = [arr[2],arr[0]]\n",
    "    #print(ab,bc,cd)\n",
    "    AB = math.sqrt(((ab[0][0]-ab[0][1])**2) +((ab[1][0] - ab[1][1])**2))\n",
    "    BC = math.sqrt(((bc[0][0]-bc[0][1])**2) +((bc[1][0] - bc[1][1])**2))\n",
    "    CD = math.sqrt(((cd[0][0]-cd[0][1])**2) +((cd[1][0] - cd[1][1])**2))\n",
    "    \n",
    "    Perimeter = AB + BC +CD\n",
    "    print(\"Perimeter:\", Perimeter)\n",
    "\n",
    "perimeter([[15, 7],[5, 22],[11, 1]])\n",
    "    \n",
    "    \n",
    "    "
   ]
  },
  {
   "cell_type": "code",
   "execution_count": null,
   "id": "4770a005",
   "metadata": {},
   "outputs": [],
   "source": [
    "#3. A city skyline can be represented as a 2-D list with 1s representing buildings. In the example below, the height of the tallest building is 4 (second-most right column)."
   ]
  },
  {
   "cell_type": "code",
   "execution_count": 71,
   "id": "1d60ee53",
   "metadata": {},
   "outputs": [
    {
     "name": "stdout",
     "output_type": "stream",
     "text": [
      "tallest skyscraper: 4\n"
     ]
    }
   ],
   "source": [
    "def tallest_building(inp):\n",
    "    find = list(zip(inp))\n",
    "    tall = []\n",
    "    for i in find:\n",
    "        for j in i:\n",
    "            tall.append(sum(j))\n",
    "    print(\"tallest skyscraper:\",tall[-1])\n",
    "                \n",
    "                   \n",
    "tallest_building([[0, 0, 0, 0],[0, 1, 0, 0],[0, 1, 1, 0],[1, 1, 1, 1]])                     "
   ]
  },
  {
   "cell_type": "code",
   "execution_count": null,
   "id": "fb5674e0",
   "metadata": {},
   "outputs": [],
   "source": [
    "#4. A financial institution provides professional services to banks and claims charges from the customers based on the number of man-days provided. Internally, it has set a scheme to motivate and reward staff to meet and exceed targeted billable utilization and revenues by paying a bonus for each day claimed from customers in excess of a threshold target."
   ]
  },
  {
   "cell_type": "code",
   "execution_count": 76,
   "id": "18beac03",
   "metadata": {},
   "outputs": [
    {
     "name": "stdout",
     "output_type": "stream",
     "text": [
      "1625\n"
     ]
    }
   ],
   "source": [
    "def Bonus(days):\n",
    "    if days <= 32:\n",
    "        Bonus_pay = 0\n",
    "    elif days >= 33 and days <=40:\n",
    "        extra_day = days - 33\n",
    "        Bonus_pay = 325*(extra_day+1)\n",
    "    elif days >=41 and days <=48:\n",
    "        extra_days = days - 41\n",
    "        Bonus_pay = 550* (extra_days+1) + 8*325\n",
    "    else:\n",
    "        extra_days = days - 48\n",
    "        Bonus_pay = 600*(extra_days+1) + 550*8 + 325*8\n",
    "    return Bonus_pay\n",
    "print(Bonus(37))"
   ]
  },
  {
   "cell_type": "code",
   "execution_count": null,
   "id": "be99738f",
   "metadata": {},
   "outputs": [],
   "source": [
    "#5. A number is said to be Disarium if the sum of its digits raised to their respective positions is the number itself.\n",
    "#Create a function that determines whether a number is a Disarium or not."
   ]
  },
  {
   "cell_type": "code",
   "execution_count": 98,
   "id": "91311182",
   "metadata": {},
   "outputs": [
    {
     "name": "stdout",
     "output_type": "stream",
     "text": [
      "518 is a disarium\n"
     ]
    }
   ],
   "source": [
    "def disarium(num):\n",
    "    res = 0\n",
    "    for i in range(len(str(num))):\n",
    "        res += int(str(num)[i])**(i+1)\n",
    "    if res == num:\n",
    "        print(\"{} is a disarium\".format(res))\n",
    "    else:\n",
    "        print('{} is not a disarium'.format(res))\n",
    "disarium(518)"
   ]
  }
 ],
 "metadata": {
  "kernelspec": {
   "display_name": "Python 3 (ipykernel)",
   "language": "python",
   "name": "python3"
  },
  "language_info": {
   "codemirror_mode": {
    "name": "ipython",
    "version": 3
   },
   "file_extension": ".py",
   "mimetype": "text/x-python",
   "name": "python",
   "nbconvert_exporter": "python",
   "pygments_lexer": "ipython3",
   "version": "3.9.7"
  }
 },
 "nbformat": 4,
 "nbformat_minor": 5
}
