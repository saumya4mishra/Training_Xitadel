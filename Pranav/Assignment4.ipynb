{
 "cells": [
  {
   "cell_type": "code",
   "execution_count": null,
   "id": "9d6f1780",
   "metadata": {},
   "outputs": [],
   "source": [
    "#1. In mathematics, the Fibonacci numbers, commonly denoted Fn, form a sequence, called the Fibonacci sequence, such that each number is the sum of the two preceding ones, starting from 0 and 1:"
   ]
  },
  {
   "cell_type": "code",
   "execution_count": 27,
   "id": "1ed7bd7d",
   "metadata": {},
   "outputs": [
    {
     "name": "stdout",
     "output_type": "stream",
     "text": [
      "5\n"
     ]
    }
   ],
   "source": [
    "def fib(n):\n",
    "    n = n + 1\n",
    "    a = 0\n",
    "    b = 1\n",
    "    if n == 1:\n",
    "        x = a\n",
    "    else:\n",
    "        x = a\n",
    "        x = b\n",
    "        for i in range(2,n):\n",
    "            c = a + b\n",
    "            a = b\n",
    "            b = c\n",
    "            x = c\n",
    "    return x\n",
    "print(fib(5))"
   ]
  },
  {
   "cell_type": "code",
   "execution_count": null,
   "id": "0bc93e7b",
   "metadata": {},
   "outputs": [],
   "source": [
    "#2. Create a function that takes a strings characters as ASCII and returns each characters hexadecimal value as a string."
   ]
  },
  {
   "cell_type": "code",
   "execution_count": 18,
   "id": "5fc3ac82",
   "metadata": {},
   "outputs": [
    {
     "name": "stdout",
     "output_type": "stream",
     "text": [
      "68656c6c6f20776f726c64\n"
     ]
    }
   ],
   "source": [
    "def convert_hexa(inp):\n",
    "    code = []\n",
    "    for i in inp:\n",
    "        _ord = ord(i)\n",
    "        _hex = hex(_ord)\n",
    "        x = (_hex[2:])\n",
    "        code.append(x)\n",
    "    print(\"\".join(code))\n",
    "\n",
    "convert_hexa(\"hello world\")"
   ]
  },
  {
   "cell_type": "code",
   "execution_count": null,
   "id": "f23e4311",
   "metadata": {},
   "outputs": [],
   "source": [
    "#3. Someone has attempted to censor my strings by replacing every vowel with a *, l*k* th*s. Luckily, I've been able to find the vowels that were removed."
   ]
  },
  {
   "cell_type": "code",
   "execution_count": 22,
   "id": "9950a056",
   "metadata": {},
   "outputs": [
    {
     "name": "stdout",
     "output_type": "stream",
     "text": [
      "He\n",
      "Hello\n",
      "Hello wo\n",
      "Hello world\n"
     ]
    }
   ],
   "source": [
    "def uncensor(string,vowels):\n",
    "    new = \"\"\n",
    "    count = 0\n",
    "    for i in range(len(string)):\n",
    "        if string[i] == '*':\n",
    "            new += vowels[count]\n",
    "            count+=1\n",
    "        else:\n",
    "            new += string[i]\n",
    "    print(new)\n",
    "        \n",
    "uncensor(\"H*ll* w*rld\",\"eoo\")"
   ]
  },
  {
   "cell_type": "code",
   "execution_count": null,
   "id": "37f1d9db",
   "metadata": {},
   "outputs": [],
   "source": [
    "#4. Write a function that takes an IP address and returns the domain name using PTR DNS records."
   ]
  },
  {
   "cell_type": "code",
   "execution_count": 26,
   "id": "698293e9",
   "metadata": {},
   "outputs": [
    {
     "name": "stdout",
     "output_type": "stream",
     "text": [
      "dns.google\n"
     ]
    }
   ],
   "source": [
    "def get_domain_name(ip_address):\n",
    "  import socket\n",
    "  result=socket.gethostbyaddr(ip_address)\n",
    "  return list(result)[0]\n",
    "\n",
    "print(get_domain_name(\"8.8.8.8\"))"
   ]
  },
  {
   "cell_type": "code",
   "execution_count": null,
   "id": "8250a66e",
   "metadata": {},
   "outputs": [],
   "source": [
    "#5. Create a function that takes an integer n and returns the factorial of factorials. See below examples for a better understanding:"
   ]
  },
  {
   "cell_type": "code",
   "execution_count": 9,
   "id": "65c6d40b",
   "metadata": {},
   "outputs": [
    {
     "name": "stdout",
     "output_type": "stream",
     "text": [
      "288\n"
     ]
    }
   ],
   "source": [
    "import math\n",
    "def factorial(n):\n",
    "    fact = 1\n",
    "    lst_fct = []\n",
    "    for i in range(1,n+1):\n",
    "        lst_fct.append(math.factorial(i))\n",
    "    for j in lst_fct:\n",
    "        fact = fact *j\n",
    "    print(fact)\n",
    "factorial(4)"
   ]
  },
  {
   "cell_type": "code",
   "execution_count": null,
   "id": "b5269bfa",
   "metadata": {},
   "outputs": [],
   "source": []
  }
 ],
 "metadata": {
  "kernelspec": {
   "display_name": "Python 3 (ipykernel)",
   "language": "python",
   "name": "python3"
  },
  "language_info": {
   "codemirror_mode": {
    "name": "ipython",
    "version": 3
   },
   "file_extension": ".py",
   "mimetype": "text/x-python",
   "name": "python",
   "nbconvert_exporter": "python",
   "pygments_lexer": "ipython3",
   "version": "3.9.7"
  }
 },
 "nbformat": 4,
 "nbformat_minor": 5
}
