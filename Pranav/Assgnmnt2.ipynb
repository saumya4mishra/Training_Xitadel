{
 "cells": [
  {
   "cell_type": "code",
   "execution_count": 5,
   "id": "2697bffb",
   "metadata": {},
   "outputs": [],
   "source": [
    "#1. Write a function that takes a positive integer num and calculates how many dots exist in a pentagonal shape around the center dot on the Nth iteration."
   ]
  },
  {
   "cell_type": "code",
   "execution_count": 38,
   "id": "2c6ae26a",
   "metadata": {},
   "outputs": [
    {
     "name": "stdout",
     "output_type": "stream",
     "text": [
      "1.0\n",
      "141.0\n"
     ]
    }
   ],
   "source": [
    "def pentagon(num):\n",
    "    vals = (((5) * (num ** 2)) - (5 * num) + 2) / 2\n",
    "    print(vals)\n",
    "pentagon(1)\n",
    "pentagon(8)"
   ]
  },
  {
   "cell_type": "code",
   "execution_count": null,
   "id": "1ce27f40",
   "metadata": {},
   "outputs": [],
   "source": [
    "#2. Make a function that encrypts a given input with these steps:"
   ]
  },
  {
   "cell_type": "code",
   "execution_count": 29,
   "id": "4c549cfb",
   "metadata": {},
   "outputs": [
    {
     "name": "stdout",
     "output_type": "stream",
     "text": [
      "1lpp0aca\n"
     ]
    }
   ],
   "source": [
    "def encrypt(code):\n",
    "    replace_vals = {'a':0,'e':1,'i':1,'o':2,'u':3}\n",
    "    \n",
    "    codelist = list(code[::-1])\n",
    "    listofchar=[]\n",
    "    for item in codelist:\n",
    "        listofchar.append(replace_vals.get(item,item))\n",
    "        #print(replace_vals.get(item,item))\n",
    "    newcode = ''.join([str(char) for char in listofchar])\n",
    "    newcode += 'aca'\n",
    "    print(newcode)\n",
    "    \n",
    "encrypt('apple')"
   ]
  },
  {
   "cell_type": "code",
   "execution_count": null,
   "id": "3cd8065d",
   "metadata": {},
   "outputs": [],
   "source": [
    "#3. Given the month and year as numbers, return whether that month contains a Friday 13th.(i.e You can check Python's datetime module)"
   ]
  },
  {
   "cell_type": "code",
   "execution_count": 36,
   "id": "28cfa83a",
   "metadata": {},
   "outputs": [
    {
     "name": "stdout",
     "output_type": "stream",
     "text": [
      "True\n",
      "True\n",
      "False\n"
     ]
    }
   ],
   "source": [
    "import datetime\n",
    "def Fri_13(_month, _year):\n",
    "    _date = 13\n",
    "    day = datetime.datetime(_year, _month, _date)\n",
    "    day = (day.strftime(\"%A\"))\n",
    "    if day == \"Friday\":\n",
    "        return True\n",
    "    else:\n",
    "        return False\n",
    "\n",
    "\n",
    "print(Fri_13(3, 2020))\n",
    "print(Fri_13(10, 2017))\n",
    "print(Fri_13(1, 1985))"
   ]
  },
  {
   "cell_type": "code",
   "execution_count": null,
   "id": "f79a9b02",
   "metadata": {},
   "outputs": [],
   "source": [
    "#4. Write a regular expression that will help us count how many bad cookies are produced every day. You must use RegEx negative lookbehind."
   ]
  },
  {
   "cell_type": "code",
   "execution_count": null,
   "id": "843a7930",
   "metadata": {},
   "outputs": [],
   "source": [
    "#not done"
   ]
  },
  {
   "cell_type": "code",
   "execution_count": null,
   "id": "f1308823",
   "metadata": {},
   "outputs": [],
   "source": [
    "#5. Given a list of words in the singular form, return a set of those words in the plural form if they appear more than once in the list."
   ]
  },
  {
   "cell_type": "code",
   "execution_count": 39,
   "id": "d1c0f42c",
   "metadata": {},
   "outputs": [
    {
     "name": "stdout",
     "output_type": "stream",
     "text": [
      "{'pig', 'cow'}\n"
     ]
    }
   ],
   "source": [
    "def pluralize(lst):\n",
    "    newlist = set(lst)\n",
    "    print(newlist)\n",
    "\n",
    "pluralize([\"cow\", \"pig\", \"cow\", \"cow\"])  \n"
   ]
  },
  {
   "cell_type": "code",
   "execution_count": null,
   "id": "40a3efc1",
   "metadata": {},
   "outputs": [],
   "source": []
  }
 ],
 "metadata": {
  "kernelspec": {
   "display_name": "Python 3 (ipykernel)",
   "language": "python",
   "name": "python3"
  },
  "language_info": {
   "codemirror_mode": {
    "name": "ipython",
    "version": 3
   },
   "file_extension": ".py",
   "mimetype": "text/x-python",
   "name": "python",
   "nbconvert_exporter": "python",
   "pygments_lexer": "ipython3",
   "version": "3.9.7"
  }
 },
 "nbformat": 4,
 "nbformat_minor": 5
}
