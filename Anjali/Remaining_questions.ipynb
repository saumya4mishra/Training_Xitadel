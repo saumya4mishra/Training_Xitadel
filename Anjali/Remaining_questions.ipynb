{
 "cells": [
  {
   "cell_type": "code",
   "execution_count": 1,
   "id": "6b0722a4",
   "metadata": {},
   "outputs": [
    {
     "data": {
      "text/plain": [
       "'dns.google'"
      ]
     },
     "execution_count": 1,
     "metadata": {},
     "output_type": "execute_result"
    }
   ],
   "source": [
    "# Assignment 4\n",
    "# 4. Write a function that takes an IP address and returns the domain name using PTR DNS records.\n",
    "import socket\n",
    "def get_domain(IP):\n",
    "    x = socket.gethostbyaddr(IP)\n",
    "    return x[0]\n",
    "get_domain(\"8.8.8.8\")"
   ]
  },
  {
   "cell_type": "code",
   "execution_count": 3,
   "id": "d83626f4",
   "metadata": {},
   "outputs": [
    {
     "data": {
      "text/plain": [
       "False"
      ]
     },
     "execution_count": 3,
     "metadata": {},
     "output_type": "execute_result"
    }
   ],
   "source": [
    "# Assignment 2\n",
    "# 3. Given the month and year as numbers, return whether that month contains a Friday 13th.\n",
    "# (i.e You can check Python's datetime module)\n",
    "import datetime\n",
    "import calendar\n",
    "def has_friday_13(month, year):\n",
    "    date = 13\n",
    "    d = datetime.datetime(year, month, date)\n",
    "    if d.strftime(\"%A\") == 'Friday':\n",
    "        return True\n",
    "    else:\n",
    "        return False\n",
    "has_friday_13(1, 1985)  "
   ]
  },
  {
   "cell_type": "code",
   "execution_count": 4,
   "id": "18a891a9",
   "metadata": {},
   "outputs": [
    {
     "name": "stdout",
     "output_type": "stream",
     "text": [
      "2\n"
     ]
    }
   ],
   "source": [
    "# Assignment 2\n",
    "# 4. Write a regular expression that will help us count how many bad cookies are produced every day. \n",
    "# You must use RegEx negative lookbehind.\n",
    "import re \n",
    "lst = [\"bad cookie\", \"good cookie\", \"bad cookie\", \"good cookie\", \"good cookie\"]\n",
    "pattern = \"bad cookie\"\n",
    "count = 0\n",
    "for i in lst:\n",
    "    x = re.search(pattern, i)\n",
    "    if x:\n",
    "        count += 1\n",
    "    else:\n",
    "        pass\n",
    "print(count)"
   ]
  }
 ],
 "metadata": {
  "kernelspec": {
   "display_name": "Python 3 (ipykernel)",
   "language": "python",
   "name": "python3"
  },
  "language_info": {
   "codemirror_mode": {
    "name": "ipython",
    "version": 3
   },
   "file_extension": ".py",
   "mimetype": "text/x-python",
   "name": "python",
   "nbconvert_exporter": "python",
   "pygments_lexer": "ipython3",
   "version": "3.9.7"
  }
 },
 "nbformat": 4,
 "nbformat_minor": 5
}
