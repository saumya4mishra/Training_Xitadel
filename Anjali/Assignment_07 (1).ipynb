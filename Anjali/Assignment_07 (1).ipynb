{
 "cells": [
  {
   "cell_type": "code",
   "execution_count": 29,
   "id": "163b3b56",
   "metadata": {},
   "outputs": [
    {
     "name": "stdout",
     "output_type": "stream",
     "text": [
      "ABCADACBA\n"
     ]
    },
    {
     "data": {
      "text/plain": [
       "5"
      ]
     },
     "execution_count": 29,
     "metadata": {},
     "output_type": "execute_result"
    }
   ],
   "source": [
    "# 1. Write a function that counts how many concentric layers a rug.\n",
    "def count_layers(lst):\n",
    "    N = len(lst)\n",
    "    s = ''\n",
    "    C = lst[(N//2)]\n",
    "    for i in range(len(C)):\n",
    "        if (C[i] not in s) or (C[i] != C[i-1]) or (C[i] == len(C)//2):\n",
    "            s += C[i]\n",
    "    print(s)\n",
    "    return (len(s)//2) + 1\n",
    "count_layers([\n",
    "  \"AAAAAAAAAAA\",\n",
    "  \"AABBBBBBBAA\",\n",
    "  \"AABCCCCCBAA\",\n",
    "  \"AABCAAACBAA\",\n",
    "  \"AABCADACBAA\",\n",
    "  \"AABCAAACBAA\",\n",
    "  \"AABCCCCCBAA\",\n",
    "  \"AABBBBBBBAA\",\n",
    "  \"AAAAAAAAAAA\"\n",
    "]) \n",
    "# count_layers([\n",
    "#   \"AAAAAAAAA\",\n",
    "#   \"ABBBBBBBA\",\n",
    "#   \"ABBAAABBA\",\n",
    "#   \"ABBBBBBBA\",\n",
    "#   \"AAAAAAAAA\"\n",
    "# ])"
   ]
  },
  {
   "cell_type": "code",
   "execution_count": 70,
   "id": "82ff751e",
   "metadata": {},
   "outputs": [
    {
     "data": {
      "text/plain": [
       "7"
      ]
     },
     "execution_count": 70,
     "metadata": {},
     "output_type": "execute_result"
    }
   ],
   "source": [
    "# 2. There are many different styles of music and many albums exhibit multiple styles. \n",
    "# Create a function that takes a list of musical styles from albums and returns how many styles are unique.\n",
    "def unique_styles(l):\n",
    "    lst = [l[i].split(',') for i in range(len(l))]\n",
    "    out = []\n",
    "    for i in range(len(lst)):\n",
    "        for j in range(len(lst[i])):\n",
    "            if lst[i][j] not in out:\n",
    "                out.append(lst[i][j])\n",
    "    return len(out)\n",
    "# unique_styles([\n",
    "# \"Dub,Dancehall\",\n",
    "# \"Industrial,Heavy Metal\",\n",
    "# \"Techno,Dubstep\",\n",
    "# \"Synth-pop,Euro-Disco\",\n",
    "# \"Industrial,Techno,Minimal\"\n",
    "# ]) \n",
    "unique_styles([\n",
    "\"Soul\",\n",
    "\"House,Folk\",\n",
    "\"Trance,Downtempo,Big Beat,House\",\n",
    "\"Deep House\",\n",
    "\"Soul\"\n",
    "])"
   ]
  },
  {
   "cell_type": "code",
   "execution_count": 36,
   "id": "057d8faf",
   "metadata": {},
   "outputs": [
    {
     "data": {
      "text/plain": [
       "'yes'"
      ]
     },
     "execution_count": 36,
     "metadata": {},
     "output_type": "execute_result"
    }
   ],
   "source": [
    "# 3. Create a function that finds a target number in a list of prime numbers. \n",
    "# Implement a binary search algorithm in your function. The target number will be from 2 through 97. \n",
    "# If the target is prime then return \"yes\" else return \"no\".\n",
    "from functools import reduce\n",
    "def is_prime(primes, n):\n",
    "#     ['yes' for i in primes if i == n]\n",
    "#     out = reduce(lambda n: 'yes' if n in primes else 'no', primes)\n",
    "    if n in primes:\n",
    "        return 'yes'\n",
    "    else:\n",
    "        return 'no'\n",
    "primes = [2, 3, 5, 7, 11, 13, 17, 19, 23, 29, 31, 37, 41, 43, 47, 53, 59, 61, 67, 71, 73, 79, 83, 89, 97]\n",
    "is_prime(primes, 67)"
   ]
  },
  {
   "cell_type": "code",
   "execution_count": 55,
   "id": "c7c3a12a",
   "metadata": {},
   "outputs": [
    {
     "data": {
      "text/plain": [
       "3"
      ]
     },
     "execution_count": 55,
     "metadata": {},
     "output_type": "execute_result"
    }
   ],
   "source": [
    "# 4. Create a function that takes in n, a, b and returns the number of positive values \n",
    "# raised to the nth power that lie in the range [a, b], inclusive.\n",
    "def power_ranger(n, a, b):\n",
    "    out = [i for i in range(a,b+1) if int(i ** (1/n)) ** n == i]\n",
    "    return len(out)\n",
    "# power_ranger(2, 49, 65)\n",
    "power_ranger(3, 1, 27)"
   ]
  },
  {
   "cell_type": "code",
   "execution_count": 41,
   "id": "d27ce88f",
   "metadata": {},
   "outputs": [
    {
     "name": "stdout",
     "output_type": "stream",
     "text": [
      "[9, 0, 0, 1, 0]\n"
     ]
    },
    {
     "data": {
      "text/plain": [
       "90981"
      ]
     },
     "execution_count": 41,
     "metadata": {},
     "output_type": "execute_result"
    }
   ],
   "source": [
    "# 5. Given a number, return the difference between the maximum and \n",
    "# minimum numbers that can be formed when the digits are rearranged.\n",
    "def rearranged_difference(n):\n",
    "    l = [int(s) for s in str(n)]\n",
    "    print(l)\n",
    "    s = str(n)\n",
    "    s_min = ''.join(sorted(s))\n",
    "    s_max = s_min[::-1]\n",
    "    d = int(s_max) - int(s_min)\n",
    "    return d\n",
    "# rearranged_difference(972882)\n",
    "rearranged_difference(90010)"
   ]
  },
  {
   "cell_type": "code",
   "execution_count": 9,
   "id": "dfd3b8ee",
   "metadata": {},
   "outputs": [
    {
     "name": "stdout",
     "output_type": "stream",
     "text": [
      "enter a numberaasdasd\n",
      "please enter integers\n",
      "invalid literal for int() with base 10: 'aasdasd'\n",
      "work done\n",
      "enter a number12\n",
      "enter a number34\n",
      "0.35294117647058826\n",
      "work done\n"
     ]
    }
   ],
   "source": [
    "while True:\n",
    "    try:\n",
    "        num1 = int(input('enter a number'))\n",
    "        num2 = int(input('enter a number'))\n",
    "\n",
    "        div  = num1 / num2\n",
    "       \n",
    "        \n",
    "    except ValueError as e:\n",
    "        print('please enter integers')\n",
    "        print(e)\n",
    "    except ZeroDivisionError as e1:\n",
    "        print('denomenator cannot be zero')\n",
    "        print(e1)\n",
    "    \n",
    "    else:\n",
    "        print(div)\n",
    "        break\n",
    "    finally:\n",
    "        \n",
    "        print('work done')\n",
    "    \n",
    "    \n",
    "    \n"
   ]
  },
  {
   "cell_type": "code",
   "execution_count": null,
   "id": "caf55fc6",
   "metadata": {},
   "outputs": [],
   "source": []
  }
 ],
 "metadata": {
  "kernelspec": {
   "display_name": "Python 3 (ipykernel)",
   "language": "python",
   "name": "python3"
  },
  "language_info": {
   "codemirror_mode": {
    "name": "ipython",
    "version": 3
   },
   "file_extension": ".py",
   "mimetype": "text/x-python",
   "name": "python",
   "nbconvert_exporter": "python",
   "pygments_lexer": "ipython3",
   "version": "3.9.7"
  }
 },
 "nbformat": 4,
 "nbformat_minor": 5
}
