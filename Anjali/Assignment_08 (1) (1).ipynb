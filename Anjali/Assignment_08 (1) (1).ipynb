{
 "cells": [
  {
   "cell_type": "code",
   "execution_count": 11,
   "id": "f9a89c03",
   "metadata": {
    "scrolled": false
   },
   "outputs": [
    {
     "name": "stdout",
     "output_type": "stream",
     "text": [
      "25\n",
      "29\n",
      "85\n",
      "89\n",
      "145\n",
      "42\n",
      "20\n",
      "4\n",
      "16\n",
      "37\n",
      "58\n",
      "89\n",
      "145\n"
     ]
    },
    {
     "data": {
      "text/plain": [
       "False"
      ]
     },
     "execution_count": 11,
     "metadata": {},
     "output_type": "execute_result"
    }
   ],
   "source": [
    "def is_happy_number(n, c = 0, threshold = 12):\n",
    "    s = str(n)\n",
    "    n = len(s)\n",
    "    l = [int(s[i-1])**2 for i in range(n,0,-1)]\n",
    "    print(sum(l))\n",
    "    if sum(l) == 1:\n",
    "        return True\n",
    "    else:\n",
    "        if c == threshold:\n",
    "            return False\n",
    "        else:\n",
    "            c += 1\n",
    "            return is_happy_number(sum(l), c)\n",
    "is_happy_number(n = 43)"
   ]
  },
  {
   "cell_type": "code",
   "execution_count": 2,
   "id": "cafeffc8",
   "metadata": {},
   "outputs": [
    {
     "name": "stdout",
     "output_type": "stream",
     "text": [
      "['a', 'sudden', 'applause']\n"
     ]
    },
    {
     "data": {
      "text/plain": [
       "False"
      ]
     },
     "execution_count": 2,
     "metadata": {},
     "output_type": "execute_result"
    }
   ],
   "source": [
    "# 1. Given a sentence as txt, return True if any two adjacent words have this property: \n",
    "# One word ends with a vowel, while the word immediately after begins with a vowel (a e i o u).\n",
    "def vowel_links(txt):\n",
    "    s = txt.split()\n",
    "    print(s)\n",
    "    for i in range(len(s)-1):\n",
    "        if (s[i][len(s[i])-1] in 'aeiou') and (s[i+1][0] in 'aeiou') and (i) < len(s):\n",
    "            return True\n",
    "        else: \n",
    "            return False\n",
    "vowel_links(\"a sudden applause\")"
   ]
  },
  {
   "cell_type": "code",
   "execution_count": 3,
   "id": "41b0ba35",
   "metadata": {},
   "outputs": [
    {
     "data": {
      "text/plain": [
       "{'nines': 2, 'threes': 0, 'ones': 2}"
      ]
     },
     "execution_count": 3,
     "metadata": {},
     "output_type": "execute_result"
    }
   ],
   "source": [
    "# Assignment 6\n",
    "# 4. Given an integer between 0 and 26, make a variable (self.answer). \n",
    "# That variable would be assigned to a string in this format:\n",
    "# \"nines:your answer, threes:your answer, ones:your answer\"\n",
    "# You need to find out how many ones, threes, and nines it would at least take \n",
    "# for the number of each to add up to the given integer when multiplied by one, three or nine (depends).\n",
    "def ones_threes_nines(n):\n",
    "    dic = {'nines':0, 'threes':0, 'ones':0}\n",
    "    dic['nines'] += n//9\n",
    "    rem1 = n%9\n",
    "    dic['threes'] += rem1//3\n",
    "    rem2 = rem1%3\n",
    "    dic['ones'] += rem2\n",
    "    return dic\n",
    "ones_threes_nines(20)"
   ]
  },
  {
   "cell_type": "code",
   "execution_count": 4,
   "id": "967002f6",
   "metadata": {},
   "outputs": [
    {
     "data": {
      "text/plain": [
       "True"
      ]
     },
     "execution_count": 4,
     "metadata": {},
     "output_type": "execute_result"
    }
   ],
   "source": [
    "# 2. You are given three inputs: a string, one letter, and a second letter.\n",
    "# Write a function that returns True if every instance of the first letter occurs before every instance of the second letter.\n",
    "def first_before_second(txt, s_1, s_2):\n",
    "    i_index2 = txt.index(s_2)\n",
    "    l_s1_after_s2 = [txt[i] for i in range(i_index2, len(txt)) if txt[i] == s_1]\n",
    "    if len(l_s1_after_s2) > 0:\n",
    "        return False\n",
    "    else:\n",
    "        return True\n",
    "first_before_second(\"a rabbit jumps joyfully\", \"a\", \"j\")"
   ]
  },
  {
   "cell_type": "code",
   "execution_count": 5,
   "id": "33de4f7a",
   "metadata": {},
   "outputs": [
    {
     "data": {
      "text/plain": [
       "[4, 8]"
      ]
     },
     "execution_count": 5,
     "metadata": {},
     "output_type": "execute_result"
    }
   ],
   "source": [
    "# 3. Create a function that returns the characters from a list or string r on \n",
    "# odd or even positions, depending on the specifier s. \n",
    "# The specifier will be \"odd\" for items on odd positions (1, 3, 5, ...) and \"even\" for items on even positions (2, 4, 6, ...).\n",
    "def char_at_pos(l, s):\n",
    "    if s == 'even':\n",
    "        a = [i for i in l if (l.index(i) + 1)%2 == 0]\n",
    "    else:\n",
    "        a = [i for i in l if (l.index(i) + 1)%2 != 0]\n",
    "    return a\n",
    "char_at_pos([2, 4, 6, 8, 10], \"even\")"
   ]
  },
  {
   "cell_type": "code",
   "execution_count": 6,
   "id": "ad15c651",
   "metadata": {},
   "outputs": [
    {
     "name": "stdout",
     "output_type": "stream",
     "text": [
      "0b100111001\n"
     ]
    },
    {
     "data": {
      "text/plain": [
       "'Decimal and binary'"
      ]
     },
     "execution_count": 6,
     "metadata": {},
     "output_type": "execute_result"
    }
   ],
   "source": [
    "# 5. A number/string is a palindrome if the digits/characters are the same when read both forward and backward. \n",
    "# Examples include \"racecar\" and 12321. Given a positive number n, check if n or the binary representation of n is palindromic. \n",
    "# Return the following:\n",
    "# - \"Decimal only.\" if only n is a palindrome.\n",
    "# - \"Binary only.\" if only the binary representation of n is a palindrome.\n",
    "# - \"Decimal and binary.\" if both are palindromes.\n",
    "# - \"Neither!\" if neither are palindromes.\n",
    "def palindrome_type(num):\n",
    "    b_num = bin(num)\n",
    "    print(b_num)\n",
    "    s_num = str(num)\n",
    "    s_bin = str(b_num)[2:]\n",
    "    if s_num == s_num[::-1] and s_bin == s_bin[::-1]:\n",
    "        return \"Decimal and binary\"\n",
    "    elif s_num == s_num[::-1]:\n",
    "        return \"Decimal only\"\n",
    "    elif s_bin == s_bin[::-1]:\n",
    "        return \"Binary only\"\n",
    "    else:\n",
    "        return \"Neither\"\n",
    "palindrome_type(313)"
   ]
  },
  {
   "cell_type": "code",
   "execution_count": 15,
   "id": "d715f47c",
   "metadata": {},
   "outputs": [],
   "source": []
  },
  {
   "cell_type": "code",
   "execution_count": null,
   "id": "1f093191",
   "metadata": {},
   "outputs": [],
   "source": []
  }
 ],
 "metadata": {
  "kernelspec": {
   "display_name": "Python 3 (ipykernel)",
   "language": "python",
   "name": "python3"
  },
  "language_info": {
   "codemirror_mode": {
    "name": "ipython",
    "version": 3
   },
   "file_extension": ".py",
   "mimetype": "text/x-python",
   "name": "python",
   "nbconvert_exporter": "python",
   "pygments_lexer": "ipython3",
   "version": "3.9.7"
  }
 },
 "nbformat": 4,
 "nbformat_minor": 5
}
