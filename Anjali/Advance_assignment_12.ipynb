{
 "cells": [
  {
   "cell_type": "markdown",
   "id": "7f76bdea",
   "metadata": {},
   "source": [
    "# Q1. Does assigning a value to a string's indexed character violate Python's string immutability?\n",
    "\n",
    "Ans- If an object is immutable then that object cannot be updated. Therefore, if you try to assign a new value to a string's indexed character, interpreter will show a type error. Let's take an example to prove it:"
   ]
  },
  {
   "cell_type": "code",
   "execution_count": 2,
   "id": "ca7f983d",
   "metadata": {},
   "outputs": [
    {
     "ename": "TypeError",
     "evalue": "'str' object does not support item assignment",
     "output_type": "error",
     "traceback": [
      "\u001b[1;31m---------------------------------------------------------------------------\u001b[0m",
      "\u001b[1;31mTypeError\u001b[0m                                 Traceback (most recent call last)",
      "\u001b[1;32m<ipython-input-2-88424801222f>\u001b[0m in \u001b[0;36m<module>\u001b[1;34m\u001b[0m\n\u001b[0;32m      1\u001b[0m \u001b[0ms_name\u001b[0m \u001b[1;33m=\u001b[0m \u001b[1;34m\"My name is Anjali.\"\u001b[0m\u001b[1;33m\u001b[0m\u001b[1;33m\u001b[0m\u001b[0m\n\u001b[1;32m----> 2\u001b[1;33m \u001b[0ms_name\u001b[0m\u001b[1;33m[\u001b[0m\u001b[1;36m0\u001b[0m\u001b[1;33m]\u001b[0m \u001b[1;33m=\u001b[0m \u001b[1;34m\"T\"\u001b[0m\u001b[1;33m\u001b[0m\u001b[1;33m\u001b[0m\u001b[0m\n\u001b[0m\u001b[0;32m      3\u001b[0m \u001b[0mprint\u001b[0m\u001b[1;33m(\u001b[0m\u001b[0ms_name\u001b[0m\u001b[1;33m)\u001b[0m\u001b[1;33m\u001b[0m\u001b[1;33m\u001b[0m\u001b[0m\n",
      "\u001b[1;31mTypeError\u001b[0m: 'str' object does not support item assignment"
     ]
    }
   ],
   "source": [
    "s_name = \"My name is Anjali.\"\n",
    "s_name[0] = \"T\"\n",
    "print(s_name)"
   ]
  },
  {
   "cell_type": "markdown",
   "id": "7de2017b",
   "metadata": {},
   "source": [
    "# Q2. Does using the += operator to concatenate strings violate Python's string immutability? Why or why not?\n",
    "\n",
    "Ans-  No, using concatenation doesn't violate string mutablity. Suppose there are two strings s_a and s_b as written in next cell:"
   ]
  },
  {
   "cell_type": "code",
   "execution_count": 4,
   "id": "8b6a194d",
   "metadata": {},
   "outputs": [
    {
     "name": "stdout",
     "output_type": "stream",
     "text": [
      "s_a  1686770410288\n",
      "s_b  1686770607472\n",
      "s_a  1686771294336\n"
     ]
    }
   ],
   "source": [
    "s_a = \"Nationality\"\n",
    "s_b = \"Indian\"\n",
    "print(\"s_a \", id(s_a))\n",
    "print(\"s_b \", id(s_b))\n",
    "\"\"\"If I concatenate both the strings then id of s_a before and after concatenation are different. So, we can say that the \n",
    "variable s_a before and after concatenation are stored at different addressses in memory.\"\"\"\n",
    "s_a += s_b\n",
    "print(\"s_a \", id(s_a))"
   ]
  },
  {
   "cell_type": "markdown",
   "id": "a60b7fcf",
   "metadata": {},
   "source": [
    "# Q3. In Python, how many different ways are there to index a character?\n",
    "\n",
    "Ans- There are two ways to index a character in a string: Left to right approach and right to left approach. \n",
    "Indexing in left to right approach starts from 0 while in right to left approach starts from -1."
   ]
  },
  {
   "cell_type": "code",
   "execution_count": 8,
   "id": "bd9b84b3",
   "metadata": {},
   "outputs": [
    {
     "name": "stdout",
     "output_type": "stream",
     "text": [
      "Nationality\n",
      "Nationality\n"
     ]
    }
   ],
   "source": [
    "s_a = \"Nationality\"\n",
    "print(s_a[0:])\n",
    "print(s_a[-11:])"
   ]
  },
  {
   "cell_type": "markdown",
   "id": "f5ea8d25",
   "metadata": {},
   "source": [
    "# Q4. What is the relationship between indexing and slicing?\n",
    "\n",
    "Ans- Indexing is used to access individual characters in a string while slicing is used to get a portion of a string."
   ]
  },
  {
   "cell_type": "code",
   "execution_count": 11,
   "id": "3930f6af",
   "metadata": {},
   "outputs": [
    {
     "name": "stdout",
     "output_type": "stream",
     "text": [
      "N\n",
      "Nation\n"
     ]
    }
   ],
   "source": [
    "s_a = \"Nationality\"\n",
    "# Indexing\n",
    "print(s_a[0])\n",
    "# Slicing\n",
    "print(s_a[0:6])"
   ]
  },
  {
   "cell_type": "markdown",
   "id": "09e09d51",
   "metadata": {},
   "source": [
    "# Q5. What is an indexed character's exact data type? What is the data form of a slicing-generated substring?\n",
    "\n",
    "Ans- Data type of an indexed character of a string is same as the data type of the string i.e. 'str'. The data form of a slicing-generated substring is also 'str'. "
   ]
  },
  {
   "cell_type": "code",
   "execution_count": 12,
   "id": "aed7991d",
   "metadata": {},
   "outputs": [
    {
     "name": "stdout",
     "output_type": "stream",
     "text": [
      "<class 'str'>\n",
      "<class 'str'>\n"
     ]
    }
   ],
   "source": [
    "s_a = \"Nationality\"\n",
    "print(type(s_a[0]))\n",
    "print(type(s_a[0:6]))"
   ]
  },
  {
   "cell_type": "markdown",
   "id": "abff243e",
   "metadata": {},
   "source": [
    "# Q6. What is the relationship between string and character \"types\" in Python?\n",
    "\n",
    "Ans- String is a sequence of characters. There is no character data types in Python. "
   ]
  },
  {
   "cell_type": "markdown",
   "id": "102d8d8f",
   "metadata": {},
   "source": [
    "# Q7. Identify at least two operators and one method that allow you to combine one or more smaller strings to create a larger string.\n",
    "\n",
    "Ans- '+', '+=' and \"\".join(list) are used to combine one or more strings."
   ]
  },
  {
   "cell_type": "markdown",
   "id": "76ede05b",
   "metadata": {},
   "source": [
    "# Q8. What is the benefit of first checking the target string with in or not in before using the index method to find a substring?\n"
   ]
  },
  {
   "cell_type": "markdown",
   "id": "f0503b12",
   "metadata": {},
   "source": [
    "# Q9. Which operators and built-in string methods produce simple Boolean (true/false) results?\n",
    "\n",
    "Following methods produce simple boolean results: "
   ]
  },
  {
   "cell_type": "code",
   "execution_count": 16,
   "id": "a4180184",
   "metadata": {},
   "outputs": [
    {
     "data": {
      "text/plain": [
       "False"
      ]
     },
     "execution_count": 16,
     "metadata": {},
     "output_type": "execute_result"
    }
   ],
   "source": [
    "my_string = \"Hello World\"\n",
    "my_string.isupper()\n",
    "my_string.islower()\n",
    "my_string.istitle()\n",
    "my_string.isalpha()"
   ]
  },
  {
   "cell_type": "code",
   "execution_count": null,
   "id": "c870a8b1",
   "metadata": {},
   "outputs": [],
   "source": []
  }
 ],
 "metadata": {
  "kernelspec": {
   "display_name": "Python 3",
   "language": "python",
   "name": "python3"
  },
  "language_info": {
   "codemirror_mode": {
    "name": "ipython",
    "version": 3
   },
   "file_extension": ".py",
   "mimetype": "text/x-python",
   "name": "python",
   "nbconvert_exporter": "python",
   "pygments_lexer": "ipython3",
   "version": "3.9.5"
  }
 },
 "nbformat": 4,
 "nbformat_minor": 5
}
