{
 "cells": [
  {
   "cell_type": "code",
   "execution_count": 32,
   "id": "c2288861",
   "metadata": {},
   "outputs": [
    {
     "name": "stdout",
     "output_type": "stream",
     "text": [
      "0 1 1 2 3 "
     ]
    }
   ],
   "source": [
    "  \n",
    "\n",
    "def feb_rec(num, x=0, y=1):\n",
    "    if num ==0:\n",
    "        return\n",
    "    \n",
    "    print(x, end=\" \")\n",
    "    feb_rec(num-1,y,x+y)\n",
    "\n",
    "        \n",
    "feb_rec(5)\n"
   ]
  },
  {
   "cell_type": "code",
   "execution_count": 20,
   "id": "a0bac225",
   "metadata": {},
   "outputs": [
    {
     "name": "stdout",
     "output_type": "stream",
     "text": [
      "120\n"
     ]
    }
   ],
   "source": [
    "def factorial(num):\n",
    "    if num < 1:\n",
    "        return 1\n",
    "    else:\n",
    "        return num*factorial(num-1)\n",
    "fact = factorial(5)\n",
    "print(fact)"
   ]
  },
  {
   "cell_type": "code",
   "execution_count": 23,
   "id": "2f9ff233",
   "metadata": {},
   "outputs": [
    {
     "name": "stdout",
     "output_type": "stream",
     "text": [
      "1\n"
     ]
    }
   ],
   "source": [
    "   "
   ]
  },
  {
   "cell_type": "code",
   "execution_count": 27,
   "id": "ac945818",
   "metadata": {},
   "outputs": [
    {
     "name": "stdout",
     "output_type": "stream",
     "text": [
      "[(1, 8, 5, 9), (2, 4, 6, 3), (6, 9, 7, 8)]\n"
     ]
    }
   ],
   "source": [
    "lst1 = [1, 2, 6]\n",
    "lst2 = [8, 4, 9]\n",
    "print(list(zip(lst1,lst2, [5, 6, 7], [9, 3, 8])))\n",
    "\n",
    "#for e_val in zip(lst1,lst2):\n",
    "   # print(e_val)"
   ]
  },
  {
   "cell_type": "code",
   "execution_count": 28,
   "id": "a7efa071",
   "metadata": {},
   "outputs": [],
   "source": [
    "import calendar\n"
   ]
  },
  {
   "cell_type": "code",
   "execution_count": 29,
   "id": "ed6feee7",
   "metadata": {},
   "outputs": [],
   "source": [
    "month = calendar.month(2011, 2)"
   ]
  },
  {
   "cell_type": "code",
   "execution_count": 30,
   "id": "5a3b2cd4",
   "metadata": {},
   "outputs": [
    {
     "data": {
      "text/plain": [
       "str"
      ]
     },
     "execution_count": 30,
     "metadata": {},
     "output_type": "execute_result"
    }
   ],
   "source": [
    "type(month)"
   ]
  },
  {
   "cell_type": "code",
   "execution_count": 31,
   "id": "94757888",
   "metadata": {},
   "outputs": [
    {
     "name": "stdout",
     "output_type": "stream",
     "text": [
      "   February 2011\n",
      "Mo Tu We Th Fr Sa Su\n",
      "    1  2  3  4  5  6\n",
      " 7  8  9 10 11 12 13\n",
      "14 15 16 17 18 19 20\n",
      "21 22 23 24 25 26 27\n",
      "28\n",
      "\n"
     ]
    }
   ],
   "source": [
    "print(month)"
   ]
  },
  {
   "cell_type": "code",
   "execution_count": 3,
   "id": "619cdc18",
   "metadata": {},
   "outputs": [
    {
     "name": "stdout",
     "output_type": "stream",
     "text": [
      "14916\n"
     ]
    }
   ],
   "source": [
    "num = 1234\n",
    "\n",
    "res = list(map(lambda x: str(int(x)**2), str(num)))\n",
    "res1 = \"\".join(res)\n",
    "print(int(res1))\n",
    "\n"
   ]
  },
  {
   "cell_type": "code",
   "execution_count": 4,
   "id": "90164f67",
   "metadata": {},
   "outputs": [],
   "source": [
    "'''\n",
    "map(function without paranthesis, list)\n",
    "\n",
    "'''\n",
    "\n",
    "lst = [1,2,3,4,5]\n",
    "sq = map(lambda x: x**2, lst)"
   ]
  },
  {
   "cell_type": "code",
   "execution_count": 7,
   "id": "6650174a",
   "metadata": {},
   "outputs": [
    {
     "name": "stdout",
     "output_type": "stream",
     "text": [
      "[1, 4, 9, 16, 25]\n"
     ]
    }
   ],
   "source": [
    "print(list(sq))"
   ]
  },
  {
   "cell_type": "code",
   "execution_count": 8,
   "id": "ed4b923d",
   "metadata": {},
   "outputs": [
    {
     "name": "stdout",
     "output_type": "stream",
     "text": [
      "[10, 8, 6, 4, 2]\n"
     ]
    }
   ],
   "source": [
    "''' \n",
    "filter\n",
    "'''\n",
    "lst = list(range(10, 0, -1))\n",
    "even = list(filter(lambda x: x%2 == 0, lst))\n",
    "print(even)\n"
   ]
  },
  {
   "cell_type": "code",
   "execution_count": 9,
   "id": "7fbce4c8",
   "metadata": {},
   "outputs": [
    {
     "ename": "SyntaxError",
     "evalue": "invalid syntax (Temp/ipykernel_8908/200730934.py, line 1)",
     "output_type": "error",
     "traceback": [
      "\u001b[1;36m  File \u001b[1;32m\"C:\\Users\\SAMA1383\\AppData\\Local\\Temp/ipykernel_8908/200730934.py\"\u001b[1;36m, line \u001b[1;32m1\u001b[0m\n\u001b[1;33m    year divisible by 4 and not didvible by 100\u001b[0m\n\u001b[1;37m         ^\u001b[0m\n\u001b[1;31mSyntaxError\u001b[0m\u001b[1;31m:\u001b[0m invalid syntax\n"
     ]
    }
   ],
   "source": [
    "\n",
    "\n",
    "year divisible by 4 and not didvible by 100\n",
    "\n",
    "or\n",
    "\n",
    "year didvisible by 100 as well as 400"
   ]
  },
  {
   "cell_type": "code",
   "execution_count": null,
   "id": "54818235",
   "metadata": {},
   "outputs": [],
   "source": []
  }
 ],
 "metadata": {
  "kernelspec": {
   "display_name": "Python 3 (ipykernel)",
   "language": "python",
   "name": "python3"
  },
  "language_info": {
   "codemirror_mode": {
    "name": "ipython",
    "version": 3
   },
   "file_extension": ".py",
   "mimetype": "text/x-python",
   "name": "python",
   "nbconvert_exporter": "python",
   "pygments_lexer": "ipython3",
   "version": "3.9.7"
  }
 },
 "nbformat": 4,
 "nbformat_minor": 5
}
