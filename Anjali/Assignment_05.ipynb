{
 "cells": [
  {
   "cell_type": "code",
   "execution_count": 7,
   "id": "377b1ff3",
   "metadata": {},
   "outputs": [
    {
     "data": {
      "text/plain": [
       "8"
      ]
     },
     "execution_count": 7,
     "metadata": {},
     "output_type": "execute_result"
    }
   ],
   "source": [
    "# 1. Create a function that takes a number n (integer greater than zero) as an argument, \n",
    "# and returns 2 if n is odd and 8 if n is even.\n",
    "def f(n):\n",
    "    if int(n/2) * 2:\n",
    "        return 8\n",
    "    else:\n",
    "        return 2\n",
    "f(2)"
   ]
  },
  {
   "cell_type": "code",
   "execution_count": 19,
   "id": "b0f33e3a",
   "metadata": {},
   "outputs": [
    {
     "data": {
      "text/plain": [
       "3"
      ]
     },
     "execution_count": 19,
     "metadata": {},
     "output_type": "execute_result"
    }
   ],
   "source": [
    "# 2. Create a function that returns the majority vote in a list. \n",
    "# A majority vote is an element that occurs > N/2 times in a list (where N is the length of the list).\n",
    "def majority_vote(vote_list):\n",
    "    majority = 0\n",
    "    for s in vote_list:\n",
    "        if (vote_list.count(s)>len(vote_list)/2) and majority < vote_list.count(s):\n",
    "            majority += vote_list.count(s)\n",
    "    return majority\n",
    "majority_vote([\"A\", \"A\", \"A\", \"B\", \"B\"])\n"
   ]
  },
  {
   "cell_type": "code",
   "execution_count": 40,
   "id": "2e158bfb",
   "metadata": {},
   "outputs": [
    {
     "data": {
      "text/plain": [
       "'The *** jumped **** the moon. '"
      ]
     },
     "execution_count": 40,
     "metadata": {},
     "output_type": "execute_result"
    }
   ],
   "source": [
    "# 3. Create a function that takes a string txt and censors any word from a given list lst. \n",
    "# The text removed must be replaced by the given character char.\n",
    "def censor_string(str1, lst2, ch):\n",
    "    lst1 = str1.split()\n",
    "    out= ''\n",
    "    for i in lst1:\n",
    "        if i in lst2:\n",
    "            for j in range(len(i)):\n",
    "                out += ch\n",
    "            out += ' '\n",
    "        else:\n",
    "            out += i\n",
    "            out += ' '\n",
    "    return out\n",
    "censor_string(\"The cow jumped over the moon.\", [\"cow\", \"over\"], \"*\")"
   ]
  },
  {
   "cell_type": "code",
   "execution_count": 43,
   "id": "28336075",
   "metadata": {},
   "outputs": [
    {
     "data": {
      "text/plain": [
       "False"
      ]
     },
     "execution_count": 43,
     "metadata": {},
     "output_type": "execute_result"
    }
   ],
   "source": [
    "# 4.Create a function which takes an integer n and returns True if the given number is a Polydivisible Number and False otherwise.\n",
    "def is_polydivisible(n):\n",
    "    s = str(n)\n",
    "    for i in range(len(s)):\n",
    "        if int(s[:i+1])% (i+1) == 0:\n",
    "            pass\n",
    "        else:\n",
    "            return False\n",
    "    return True\n",
    "is_polydivisible(123220)"
   ]
  },
  {
   "cell_type": "code",
   "execution_count": 53,
   "id": "70c4bee2",
   "metadata": {},
   "outputs": [
    {
     "data": {
      "text/plain": [
       "87"
      ]
     },
     "execution_count": 53,
     "metadata": {},
     "output_type": "execute_result"
    }
   ],
   "source": [
    "# 5. Create a function that takes a list of numbers and returns the sum of all prime numbers in the list.\n",
    "def sum_primes(lst):\n",
    "    sum = 0\n",
    "    for i in lst:\n",
    "        if i == 1:\n",
    "            pass\n",
    "        elif i == 2:\n",
    "            sum += i\n",
    "        else:\n",
    "            for j in range(2,i):\n",
    "                if i % j == 0:\n",
    "                    break\n",
    "            else:\n",
    "                sum += i\n",
    "    return sum\n",
    "sum_primes([2, 3, 4, 11, 20, 50, 71])"
   ]
  },
  {
   "cell_type": "code",
   "execution_count": 1,
   "id": "928d8c5d",
   "metadata": {},
   "outputs": [
    {
     "data": {
      "text/plain": [
       "6.5"
      ]
     },
     "execution_count": 1,
     "metadata": {},
     "output_type": "execute_result"
    }
   ],
   "source": [
    "13/2\n"
   ]
  },
  {
   "cell_type": "code",
   "execution_count": 2,
   "id": "307cfce8",
   "metadata": {},
   "outputs": [
    {
     "data": {
      "text/plain": [
       "6.0"
      ]
     },
     "execution_count": 2,
     "metadata": {},
     "output_type": "execute_result"
    }
   ],
   "source": [
    "12/2"
   ]
  },
  {
   "cell_type": "code",
   "execution_count": 3,
   "id": "11e93554",
   "metadata": {},
   "outputs": [
    {
     "data": {
      "text/plain": [
       "True"
      ]
     },
     "execution_count": 3,
     "metadata": {},
     "output_type": "execute_result"
    }
   ],
   "source": [
    "bool(5)"
   ]
  },
  {
   "cell_type": "code",
   "execution_count": 16,
   "id": "e03f614d",
   "metadata": {},
   "outputs": [
    {
     "name": "stdout",
     "output_type": "stream",
     "text": [
      "8\n"
     ]
    }
   ],
   "source": [
    "num = 44\n",
    "d_ret = {0: 8, 1: 2}\n",
    "res = int(str(int((num/2) * 10))[-1])/5\n",
    "print(d_ret[res])"
   ]
  },
  {
   "cell_type": "code",
   "execution_count": null,
   "id": "8354c264",
   "metadata": {},
   "outputs": [],
   "source": [
    "'''\n",
    "\n",
    "\n",
    "'''"
   ]
  }
 ],
 "metadata": {
  "kernelspec": {
   "display_name": "Python 3 (ipykernel)",
   "language": "python",
   "name": "python3"
  },
  "language_info": {
   "codemirror_mode": {
    "name": "ipython",
    "version": 3
   },
   "file_extension": ".py",
   "mimetype": "text/x-python",
   "name": "python",
   "nbconvert_exporter": "python",
   "pygments_lexer": "ipython3",
   "version": "3.9.7"
  }
 },
 "nbformat": 4,
 "nbformat_minor": 5
}
