{
 "cells": [
  {
   "cell_type": "code",
   "execution_count": null,
   "id": "c3337792",
   "metadata": {},
   "outputs": [],
   "source": [
    "'''\n",
    "1. To what does a relative path refer?\n",
    "\n",
    "Relative path means the path of a certain file relative to the current working directory.\n",
    "For example, if the current working directory is C:\\PythonProjects\\Tutorials, the path.py file’s relative path would be \\Paths\\paths.py\n",
    "'''"
   ]
  },
  {
   "cell_type": "code",
   "execution_count": null,
   "id": "fa1c18c5",
   "metadata": {},
   "outputs": [],
   "source": [
    "'''\n",
    "2. What does an absolute path start with your operating system?\n",
    "\n",
    "An absolute path refers to the complete details needed to locate a file or folder, starting from the root element and ending with the other subdirectories\n",
    "'''"
   ]
  },
  {
   "cell_type": "code",
   "execution_count": null,
   "id": "2ff94c89",
   "metadata": {},
   "outputs": [],
   "source": [
    "'''\n",
    "3. What do the functions os.getcwd() and os.chdir() do?\n",
    "\n",
    "To find the current working directory in Python, use os.getcwd(), and to change the current working directory, use os.chdir(path).\n",
    "'''"
   ]
  },
  {
   "cell_type": "code",
   "execution_count": null,
   "id": "5dcc5ba6",
   "metadata": {},
   "outputs": [],
   "source": [
    "'''\n",
    "4. What are the . and .. folders?\n",
    "\n",
    ". and .. are entries which are normally present in every directory. Their meaning is not related to the working directory of a process (like shell) but to the directory the entry is in.\n",
    "\n",
    "\n",
    "'''"
   ]
  },
  {
   "cell_type": "code",
   "execution_count": null,
   "id": "48638cae",
   "metadata": {},
   "outputs": [],
   "source": [
    "'''\n",
    "5. In C:\\bacon\\eggs\\spam.txt, which part is the dir name, and which part is the base name?\n",
    "\n",
    "C:\\bacon\\eggs is the dir name, while spam.txt is the base name.\n",
    "'''"
   ]
  },
  {
   "cell_type": "code",
   "execution_count": null,
   "id": "6a0a863e",
   "metadata": {},
   "outputs": [],
   "source": [
    "'''\n",
    "6. What are the three “mode” arguments that can be passed to the open() function?\n",
    "\n",
    "* r: Opens the file in read-only mode. Starts reading from the beginning of the file and is the default mode for the open() function.\n",
    "* w: Opens in write-only mode.\n",
    "* ab: Opens a file for appending in binary mode\n",
    "\n",
    "'''"
   ]
  },
  {
   "cell_type": "code",
   "execution_count": null,
   "id": "2736f3a3",
   "metadata": {},
   "outputs": [],
   "source": [
    "'''\n",
    "7. What happens if an existing file is opened in write mode?\n",
    "\n",
    "When mode “w” is specified, it creates an empty file for output operations.\n",
    "If a file with the same name already exists, its contents are discarded and the file is treated as a new empty file.\n",
    "\n",
    "'''"
   ]
  },
  {
   "cell_type": "code",
   "execution_count": null,
   "id": "7df47438",
   "metadata": {},
   "outputs": [],
   "source": [
    "'''\n",
    "8. How do you tell the difference between read() and readlines()?\n",
    "\n",
    "read() will read the whole file at once and then print out the first characters\n",
    "readline() that will read and print out only the first characters \n",
    "'''"
   ]
  },
  {
   "cell_type": "code",
   "execution_count": null,
   "id": "b299f58f",
   "metadata": {},
   "outputs": [],
   "source": [
    "'''\n",
    "9. What data structure does a shelf value resemble?\n",
    "\n",
    "A shelf value resembles a dictionary value; it has keys and values, along with keys() and values() methods that work similarly to the dictionary methods of the same names"
   ]
  }
 ],
 "metadata": {
  "kernelspec": {
   "display_name": "Python 3 (ipykernel)",
   "language": "python",
   "name": "python3"
  },
  "language_info": {
   "codemirror_mode": {
    "name": "ipython",
    "version": 3
   },
   "file_extension": ".py",
   "mimetype": "text/x-python",
   "name": "python",
   "nbconvert_exporter": "python",
   "pygments_lexer": "ipython3",
   "version": "3.9.7"
  }
 },
 "nbformat": 4,
 "nbformat_minor": 5
}
