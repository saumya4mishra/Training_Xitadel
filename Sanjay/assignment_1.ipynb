{
 "cells": [
  {
   "cell_type": "code",
   "execution_count": 17,
   "id": "33730a42",
   "metadata": {},
   "outputs": [
    {
     "name": "stdout",
     "output_type": "stream",
     "text": [
      "2\n"
     ]
    }
   ],
   "source": [
    "#1 Write a function that takes a list of lists and returns the value of all of the symbols in it, where each symbol adds or takes something from the total score. Symbol values:\n",
    "def symbol(a):\n",
    "    b = {'#' : 5, 'O' : 3, 'X' : 1, '!' : -1, '!!' : -3, '!!!' : -5}\n",
    "    lst = []\n",
    "    for i in a:\n",
    "        if '#' in i:\n",
    "            lst.append(5)\n",
    "        if 'O' in i:\n",
    "            lst.append(3)\n",
    "        if 'X' in i:\n",
    "            lst.append(1)\n",
    "        if '!' in i:\n",
    "            lst.append(-1)\n",
    "        if '!!' in i:\n",
    "            lst.append(-3)\n",
    "        if '!!!' in i:\n",
    "            lst.append(-5)\n",
    "            \n",
    "    result = sum(lst)\n",
    "    if result < 0:\n",
    "        return('0')\n",
    "    else:\n",
    "        return(result)\n",
    "        \n",
    "ex = ([[\"#\", \"!\"],[\"!!\", \"X\"]])\n",
    "print(symbol(ex))\n",
    "\n",
    "#######OR########\n",
    "\n",
    "def symb_val(a):\n",
    "    b = {\n",
    "    \"#\" : 5,\n",
    "    \"O\" : 3,\n",
    "    \"X\" : 1,\n",
    "    \"!\" : -1,\n",
    "    \"!!\" : -3,\n",
    "    \"!!!\" : -5,\n",
    "    }\n",
    "    total = 0\n",
    "    for i in a:\n",
    "        for j in i:\n",
    "            total = total + store[listItem]\n",
    "\n",
    "    if total < 0:\n",
    "        return 0\n",
    "    else:\n",
    "        return total\n",
    "\n",
    "print(symb([\n",
    "  [\"#\", \"!\"],\n",
    "  [\"!!\", \"X\"]\n",
    "    ]\n",
    "))\n",
    "        "
   ]
  },
  {
   "cell_type": "code",
   "execution_count": 18,
   "id": "cce2b745",
   "metadata": {},
   "outputs": [
    {
     "name": "stdout",
     "output_type": "stream",
     "text": [
      "6\n",
      "84\n",
      "120\n"
     ]
    }
   ],
   "source": [
    "#2) \"\"\"Create a function that takes a variable number of arguments, each argument representing the number of items in a group, and returns the number ofpermutations (combinations) of items that you could get by taking one item from each group.\"\"\"\n",
    "def perm(a):\n",
    "    b = 1\n",
    "    for i in a:\n",
    "        b = b * i\n",
    "    return b\n",
    "print(perm((2, 3)))\n",
    "print(perm((3, 7, 4)))\n",
    "print(perm((2, 3, 4, 5)))"
   ]
  },
  {
   "cell_type": "code",
   "execution_count": 14,
   "id": "982e13ce",
   "metadata": {},
   "outputs": [
    {
     "name": "stdout",
     "output_type": "stream",
     "text": [
      "Enter word: ABD\n",
      ".- -... -.. "
     ]
    }
   ],
   "source": [
    "#3) Create a function that takes a string as an argument and returns the Morse code equivalent.\n",
    "def main():\n",
    "    words = input(\"Enter word: \")\n",
    "    words = words.upper()\n",
    "    Dict = createDict()\n",
    "    i = 0\n",
    "    \n",
    "    try:\n",
    "        while (i < len(words)):\n",
    "            if (words[i] != \" \"):\n",
    "                print(Dict[words[i]], end = \" \")\n",
    "            else:\n",
    "                print(\"\")\n",
    "            i += 1\n",
    "    except:\n",
    "        print(\"Invalid characters\")\n",
    "\n",
    "def createDict():\n",
    "\n",
    "    char_to_dots = {'A': '.-', 'B': '-...', 'C': '-.-.', 'D': '-..', 'E': '.', 'F': '..-.','G': '--.', 'H': '....', 'I': '..', 'J': '.---', 'K': '-.-', 'L': '.-..','M': '--', 'N': '-.', 'O': '---', 'P': '.--.', 'Q': '--.-', 'R': '.-.','S': '...', 'T': '-', 'U': '..-', 'V': '...-', 'W': '.--', 'X': '-..-','Y': '-.--', 'Z': '--..', ' ': ' ', '0': '-----','1': '.----', '2': '..---', '3': '...--', '4': '....-', '5': '.....','6': '-....', '7': '--...', '8': '---..', '9': '----.','&': '.-...', \"'\": '.----.', '@': '.--.-.', ')': '-.--.-', '(': '-.--.',':': '---...', ',': '--..--', '=': '-...-', '!': '-.-.--', '.': '.-.-.-','-': '-....-', '+': '.-.-.', '\"': '.-..-.', '?': '..--..', '/': '-..-.'}\n",
    "    return char_to_dots\n",
    "\n",
    "main()"
   ]
  },
  {
   "cell_type": "code",
   "execution_count": 19,
   "id": "f9c98d9a",
   "metadata": {},
   "outputs": [
    {
     "name": "stdout",
     "output_type": "stream",
     "text": [
      "True\n"
     ]
    }
   ],
   "source": [
    "#4) Write a function that takes a number and returns True if it's a prime; False otherwise. The number can be 2^64-1 (2 to the power of 63, not XOR). With the standard technique it would be O(2^64-1), which is much too large for the 10 second time limit\n",
    "def check_prime(n):\n",
    "    if (n==1):\n",
    "        return False\n",
    "    else:\n",
    "        for x in range(2,n):\n",
    "            if(n % x==0):\n",
    "                return False\n",
    "            return True\n",
    "print(check_prime(3))"
   ]
  },
  {
   "cell_type": "code",
   "execution_count": 22,
   "id": "5b263b17",
   "metadata": {},
   "outputs": [
    {
     "name": "stdout",
     "output_type": "stream",
     "text": [
      "[True, True, True, False]\n",
      "[True, False, True, True, False]\n",
      "[False, True, True, False]\n"
     ]
    }
   ],
   "source": [
    "#5) Create a function that converts a word to a bitstring and then to a boolean list based on the following criteria:\n",
    "\n",
    "def convert(alpha):\n",
    "    wrd = list(alpha)\n",
    "    even = []\n",
    "    odd = []\n",
    "    result = []\n",
    "#==========================\n",
    "#===============================\n",
    "    for word in range (97, 123):\n",
    "        if (word % 2 == 0):\n",
    "            even.append(word)\n",
    "        elif (word % 2 != 0):\n",
    "            odd.append(word)\n",
    "#=====================================\n",
    "#=====================================\n",
    "    for letter in wrd:\n",
    "        if (ord(letter) in even):\n",
    "            result.append(False)\n",
    "        elif(ord(letter) in odd):\n",
    "            result.append(True)\n",
    "    return result\n",
    "print(convert('good'))\n",
    "print(convert(\"sheep\") )\n",
    "print(convert(\"tesh\") )"
   ]
  },
  {
   "cell_type": "code",
   "execution_count": null,
   "id": "05817bfb",
   "metadata": {},
   "outputs": [],
   "source": []
  }
 ],
 "metadata": {
  "kernelspec": {
   "display_name": "Python 3 (ipykernel)",
   "language": "python",
   "name": "python3"
  },
  "language_info": {
   "codemirror_mode": {
    "name": "ipython",
    "version": 3
   },
   "file_extension": ".py",
   "mimetype": "text/x-python",
   "name": "python",
   "nbconvert_exporter": "python",
   "pygments_lexer": "ipython3",
   "version": "3.9.7"
  }
 },
 "nbformat": 4,
 "nbformat_minor": 5
}
