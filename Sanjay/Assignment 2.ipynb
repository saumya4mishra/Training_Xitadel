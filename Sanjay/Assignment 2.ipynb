{
 "cells": [
  {
   "cell_type": "code",
   "execution_count": 1,
   "id": "70f145e8",
   "metadata": {},
   "outputs": [
    {
     "name": "stdout",
     "output_type": "stream",
     "text": [
      "1.0\n",
      "6.0\n",
      "16.0\n",
      "141.0\n"
     ]
    }
   ],
   "source": [
    "# Question 1\n",
    "def pent(num):\n",
    "    a = (((5) * (num ** 2)) - (5 * num) + 2) / 2\n",
    "    return a\n",
    "print(pent(1))\n",
    "print(pent(2))\n",
    "print(pent(3))\n",
    "print(pent(8))\n"
   ]
  },
  {
   "cell_type": "code",
   "execution_count": 2,
   "id": "f6fa9bf2",
   "metadata": {},
   "outputs": [
    {
     "name": "stdout",
     "output_type": "stream",
     "text": [
      "0n0n0bbac\n",
      "0c0r0kbac\n",
      "k0r3bbac\n",
      "0c0pl0bac\n"
     ]
    }
   ],
   "source": [
    "# QUestion 2\n",
    "def encript(toBe):\n",
    "    dct = {\"a\": 0,\n",
    "          \"e\" : 1,\n",
    "          \"i\" : 2,\n",
    "          \"o\" : 2,\n",
    "          \"u\" : 3}\n",
    "    lst = []\n",
    "    tob_be = toBe[::-1]\n",
    "    for letter in tob_be:\n",
    "        try:\n",
    "            lst.append(dct[letter])\n",
    "        except:\n",
    "            lst.append(letter)\n",
    "\n",
    "    lst.append(\"bac\")\n",
    "    a = ''.join([str(letr) for letr in lst])\n",
    "    return a\n",
    "print(encript(\"banana\"))\n",
    "print(encript(\"karaca\"))\n",
    "print(encript(\"burak\"))\n",
    "print(encript(\"alpaca\"))\n"
   ]
  },
  {
   "cell_type": "code",
   "execution_count": 3,
   "id": "2a202736",
   "metadata": {},
   "outputs": [
    {
     "name": "stdout",
     "output_type": "stream",
     "text": [
      "True\n",
      "True\n",
      "False\n"
     ]
    }
   ],
   "source": [
    "# Question 3\n",
    "import datetime\n",
    "def friday(mont, yer):\n",
    "    dat = 13\n",
    "    day = datetime.datetime(yer, mont, dat)\n",
    "    day = (day.strftime(\"%A\"))\n",
    "    if day == \"Friday\":\n",
    "        return True\n",
    "    else:\n",
    "        return False\n",
    "\n",
    "\n",
    "print(friday(3, 2020))\n",
    "print(friday(10, 2017))\n",
    "print(friday(1, 1985))"
   ]
  },
  {
   "cell_type": "code",
   "execution_count": null,
   "id": "22d1ba57",
   "metadata": {},
   "outputs": [],
   "source": [
    "# Question 5\n",
    "def pluralize(once):\n",
    "    a = (set(once))\n",
    "    return a\n",
    "# set is unorderd\n",
    "print(pluralize([\"cow\", \"pig\", \"cow\", \"cow\"]))\n",
    "print(pluralize([\"table\", \"table\", \"table\"]))\n",
    "print(pluralize([\"chair\", \"pencil\", \"arm\"]))"
   ]
  }
 ],
 "metadata": {
  "kernelspec": {
   "display_name": "Python 3 (ipykernel)",
   "language": "python",
   "name": "python3"
  },
  "language_info": {
   "codemirror_mode": {
    "name": "ipython",
    "version": 3
   },
   "file_extension": ".py",
   "mimetype": "text/x-python",
   "name": "python",
   "nbconvert_exporter": "python",
   "pygments_lexer": "ipython3",
   "version": "3.9.7"
  }
 },
 "nbformat": 4,
 "nbformat_minor": 5
}
