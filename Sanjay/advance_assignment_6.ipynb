{
 "cells": [
  {
   "cell_type": "code",
   "execution_count": null,
   "id": "a8076e80",
   "metadata": {},
   "outputs": [],
   "source": [
    "'''\n",
    "1. Describe three applications for exception processing\n",
    "\n",
    "Exceptions are raised when some internal events occur which changes the normal flow of the program\n",
    "Exceptions are events that are used to modify the flow of control through a program when the error occurs\n",
    "1) date_given = 10\n",
    "   date_submn = 14\n",
    "   \n",
    "   rem_days = date_submn/0--- zero_division_error\n",
    "   \n",
    "The actal program should be rem_days = date_submn-date_given\n",
    "\n",
    "2)a = [2,4,5]\n",
    "  print(a[3])--- wrong gives index error\n",
    "  print(a[2]) --- correct\n",
    "  \n",
    "3) a = 2\n",
    "   b = 5\n",
    "   print(a[b])----Type error\n",
    "It should be like print(b+a)\n",
    "   \n",
    "'''"
   ]
  },
  {
   "cell_type": "code",
   "execution_count": null,
   "id": "33a3fea1",
   "metadata": {},
   "outputs": [],
   "source": [
    "'''\n",
    "2 What happens if you don't do something extra to treat an exception?\n",
    "\n",
    "If you do nothing, the exception causes your application to crash.\n",
    "Or you can choose to handle the exception. That is, you acknowledge that the problem happened,\n",
    "prevent the application from crashing, and take the steps necessaries in order to either recover from the error \n",
    "'''"
   ]
  },
  {
   "cell_type": "code",
   "execution_count": null,
   "id": "0e2b87ed",
   "metadata": {},
   "outputs": [],
   "source": [
    "'''\n",
    "\n",
    "3. What are your options for recovering from an exception in your script?\n",
    "\n",
    "We have to handle the error using following options:\n",
    "1)try/except: catch the error and recover from exceptions hoist by programmers or Python itself\n",
    "2)try/finally: Whether exception occurs or not, it automatically performs the clean-up action\n",
    "3)\n",
    "'''"
   ]
  },
  {
   "cell_type": "code",
   "execution_count": null,
   "id": "3ca34b07",
   "metadata": {},
   "outputs": [],
   "source": [
    "'''\n",
    "4. Describe two methods for triggering exceptions in your script\n",
    "\n",
    "The two methods for triggering the exception are \n",
    "1) Assert: assert statement has a condition and if the condition is not satisfied the program will stop and give AssertionError\n",
    "ex : def avg(marks):  \n",
    "    assert len(marks) != 0,\"The List is empty.\"  \n",
    "    return sum(marks)/len(marks)  \n",
    "marks1 = [67,59,86,75,92]\n",
    "print(\"The Average of Marks1:\",avg(marks1))\n",
    "marks2 = []\n",
    "print(\"The Average of Marks2:\",avg(marks2))\n",
    "\n",
    "output : Avg is 75.8\n",
    "         Assertion error-- List is empty\n",
    "        \n",
    "2)Raise : If you want to throw an error when a certain condition occurs we can use raise keyword.Raise \n",
    "ex: try:  \n",
    "    age = int(input(\"Enter the age : \"))  \n",
    "    if age<18:  \n",
    "        raise Exception;  \n",
    "    else:  \n",
    "        print(\"the age is valid\")  \n",
    "except Exception:  \n",
    "    print(\"The age is not valid\")\n",
    "'''"
   ]
  },
  {
   "cell_type": "code",
   "execution_count": null,
   "id": "46544948",
   "metadata": {},
   "outputs": [],
   "source": [
    "'''\n",
    "5. Identify two methods for specifying actions to be executed at termination time,\n",
    "regardless of whether or not an exception exists.\n",
    "\n",
    "\n",
    "'''"
   ]
  }
 ],
 "metadata": {
  "kernelspec": {
   "display_name": "Python 3 (ipykernel)",
   "language": "python",
   "name": "python3"
  },
  "language_info": {
   "codemirror_mode": {
    "name": "ipython",
    "version": 3
   },
   "file_extension": ".py",
   "mimetype": "text/x-python",
   "name": "python",
   "nbconvert_exporter": "python",
   "pygments_lexer": "ipython3",
   "version": "3.9.7"
  }
 },
 "nbformat": 4,
 "nbformat_minor": 5
}
