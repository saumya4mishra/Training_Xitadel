{
 "cells": [
  {
   "cell_type": "code",
   "execution_count": 1,
   "id": "04187908",
   "metadata": {},
   "outputs": [],
   "source": [
    "import math"
   ]
  },
  {
   "cell_type": "code",
   "execution_count": 2,
   "id": "f88eb21e",
   "metadata": {},
   "outputs": [
    {
     "name": "stdout",
     "output_type": "stream",
     "text": [
      "Enter first number5\n",
      "Enter second number2\n",
      "The sum is 7.0\n",
      "The diff is 3.0\n",
      "The product is 10.0\n",
      "The division is 2.0\n"
     ]
    }
   ],
   "source": [
    "#1)Create a function to perform basic arithmetic operations that includes addition, subtraction, multiplication and division on a string number\n",
    "def airthmetic_opertions(a,b):\n",
    "    sum = float(a)+float(b)\n",
    "    diff = float(a)-float(b)\n",
    "    mul = float(a)*float(b)\n",
    "    div = float(a)//float(b)\n",
    "    return sum,diff,mul,div\n",
    "num1 = input('Enter first number')\n",
    "num2 = input('Enter second number')\n",
    "sum,diff,mul,div = airthmetic_opertions(num1,num2)\n",
    "print('The sum is',sum)\n",
    "print('The diff is',diff)\n",
    "print('The product is',mul)\n",
    "print('The division is',div)\n"
   ]
  },
  {
   "cell_type": "code",
   "execution_count": 3,
   "id": "7d2c64d1",
   "metadata": {},
   "outputs": [
    {
     "name": "stdout",
     "output_type": "stream",
     "text": [
      "18.788294228055936\n",
      "19.72308292331602\n",
      "12.806248474865697\n",
      "Perimeter 51.31762562623766\n"
     ]
    }
   ],
   "source": [
    "#2)Write a function that takes the coordinates of three points in the form of a 2d array and returns the perimeter of the triangle\n",
    "perimeter = ( [ [15, 7], [5, 22], [11, 1] ])\n",
    "def dist(p1,p2):\n",
    "    return (((p1[0] - p2[0])**2 +  (p1[1] - p2[1])**2 )**0.5)\n",
    "a = dist([perimeter[0][0], perimeter[1][0]],[perimeter[0][1],perimeter[1][1]])\n",
    "b = dist([perimeter[1][0], perimeter[2][0]],[perimeter[1][1],perimeter[2][1]])\n",
    "c = dist([perimeter[2][0], perimeter[0][0]],[perimeter[2][1],perimeter[0][1]])\n",
    "print(a)\n",
    "print(b)\n",
    "print(c)\n",
    "def p_triangle(a,b,c):\n",
    "    return a+b+c\n",
    "print('Perimeter',p_triangle(a,b,c))"
   ]
  },
  {
   "cell_type": "code",
   "execution_count": null,
   "id": "a01b5409",
   "metadata": {},
   "outputs": [],
   "source": [
    "\"\"\"A city skyline can be represented as a 2-D list with 1s representing buildings. In the example below, the height of the tallest building is 4 (second-most right column).\"\"\"\n",
    "def tall(lst):\n",
    "    a = zip(lst[0], lst[1], lst[2], lst[3])\n",
    "    a = list(a)\n",
    "    x = (sum(a[0]), sum(a[1]), sum(a[2]), sum(a[3]))\n",
    "    if 4 in x:\n",
    "        y = 4\n",
    "    elif 3 in x:\n",
    "        y = 3\n",
    "    elif 2 in x:\n",
    "        y = 2\n",
    "    elif 1 in x:\n",
    "        y = 1\n",
    "    else:\n",
    "        y = 0\n",
    "    return y\n",
    "print(tall([\n",
    "\n",
    "    [0, 0, 0, 0],\n",
    "\n",
    "    [0, 1, 0, 0],\n",
    "\n",
    "    [0, 1, 1, 0],\n",
    "\n",
    "    [1, 1, 1, 1]"
   ]
  },
  {
   "cell_type": "code",
   "execution_count": 16,
   "id": "2dbbd903",
   "metadata": {},
   "outputs": [
    {
     "name": "stdout",
     "output_type": "stream",
     "text": [
      "8200\n"
     ]
    }
   ],
   "source": [
    "#4) A financial institution provides professional services to banks and claims charges from the customers based on the number of man-days provided. Internally, it has set a scheme to motivate and reward staff to meet and exceed targeted billable utilization and revenues by paying a bonus for each day claimed from customers in excess of a threshold target.\n",
    "\n",
    "def bonus(num):\n",
    "    if num in range(0,32):\n",
    "        a = 0\n",
    "    elif num in range(33,40):\n",
    "        extday = num - 33\n",
    "        x = (extday + 1) * 325\n",
    "    elif num in range(41,48):\n",
    "        extday = num - 41\n",
    "        x = (extday + 1) * 550+ (550 * 8)\n",
    "    elif num >= 48:\n",
    "        extday = num - 48\n",
    "        x = (extday + 1) * 600 + (550 + 250)*8\n",
    "    return x\n",
    "\n",
    "print(bonus(50))"
   ]
  },
  {
   "cell_type": "code",
   "execution_count": 18,
   "id": "aa67382d",
   "metadata": {},
   "outputs": [
    {
     "name": "stdout",
     "output_type": "stream",
     "text": [
      "False\n",
      "True\n",
      "False\n",
      "True\n",
      "False\n",
      "True\n"
     ]
    }
   ],
   "source": [
    "#5) Create a function that determines whether a number is a Disarium or not\n",
    "\n",
    "def Dism(num):\n",
    "    ln = len(str(num))\n",
    "\n",
    "    tmp = num\n",
    "    sum = 0\n",
    "    r = 0\n",
    "    while tmp > 0:\n",
    "        r = tmp % 10\n",
    "        sum = sum + int(r**ln)\n",
    "        tmp = tmp // 10\n",
    "        ln = ln - 1\n",
    "    if sum == num:\n",
    "        a = True\n",
    "    else:\n",
    "        a = False\n",
    "    return a\n",
    "print(Dism(75))\n",
    "print(Dism(135))\n",
    "print(Dism(544))\n",
    "print(Dism(518))\n",
    "print(Dism(466))\n",
    "print(Dism(8))"
   ]
  },
  {
   "cell_type": "code",
   "execution_count": null,
   "id": "d6291257",
   "metadata": {},
   "outputs": [],
   "source": []
  }
 ],
 "metadata": {
  "kernelspec": {
   "display_name": "Python 3 (ipykernel)",
   "language": "python",
   "name": "python3"
  },
  "language_info": {
   "codemirror_mode": {
    "name": "ipython",
    "version": 3
   },
   "file_extension": ".py",
   "mimetype": "text/x-python",
   "name": "python",
   "nbconvert_exporter": "python",
   "pygments_lexer": "ipython3",
   "version": "3.9.7"
  }
 },
 "nbformat": 4,
 "nbformat_minor": 5
}
