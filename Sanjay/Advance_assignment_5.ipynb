{
 "cells": [
  {
   "cell_type": "code",
   "execution_count": null,
   "id": "13d4f25a",
   "metadata": {},
   "outputs": [],
   "source": [
    "'''\n",
    "Q1. What is the meaning of multiple inheritance?\n",
    "\n",
    "Inheritance is the mechanism to achieve the re-usability of code as one class(child class) can derive the properties of another class(parent class)\n",
    "When a class is derived from more than one base class it is called multiple Inheritance. The derived class inherits all the features of the base case\n",
    "\n",
    "ex : \n",
    "Class Base1:\n",
    "       Body of the class\n",
    "\n",
    "Class Base2:\n",
    "     Body of the class\n",
    "\n",
    "Class Derived(Base1, Base2):\n",
    "     Body of the class\n",
    "'''"
   ]
  },
  {
   "cell_type": "code",
   "execution_count": null,
   "id": "68ef7831",
   "metadata": {},
   "outputs": [],
   "source": [
    "'''\n",
    "Q2. What is the concept of delegation?\n",
    "\n",
    "The delegation pattern is an object-oriented design pattern that allows object composition to achieve the same code reuse as inheritance.\n",
    "'''"
   ]
  },
  {
   "cell_type": "code",
   "execution_count": null,
   "id": "b10e98a5",
   "metadata": {},
   "outputs": [],
   "source": [
    "'''\n",
    "Q3. What is the concept of composition?\n",
    "\n",
    "It is one of the fundamental concepts of Object-Oriented Programming.\n",
    "describe a class that references to one or more objects of other classes as an Instance variable.\n",
    "Here, by using the class name or by creating the object we can access the members of one class inside another class.\n",
    "\n",
    "class A :\n",
    "\n",
    "      # variables of class A\n",
    "      # methods of class A\n",
    "      ...\n",
    "      ...\n",
    "\n",
    "class B : \n",
    "      # by using \"obj\" we can access member's of class A.\n",
    "      obj = A()\n",
    "\n",
    "      # variables of class B\n",
    "      # methods of class B\n",
    "\n",
    "'''"
   ]
  },
  {
   "cell_type": "code",
   "execution_count": null,
   "id": "4521c3bd",
   "metadata": {},
   "outputs": [],
   "source": [
    "'''\n",
    "Q4. What are bound methods and how do we use them?\n",
    "\n",
    "A bound method is the one which is dependent on the instance of the class as the first argument. \n",
    "It passes the instance as the first argument which is used to access the variables and functions. \n",
    "\n",
    "'''"
   ]
  },
  {
   "cell_type": "code",
   "execution_count": null,
   "id": "1ca02bbf",
   "metadata": {},
   "outputs": [],
   "source": [
    "'''\n",
    "Q5. What is the purpose of pseudoprivate attributes?\n",
    "\n",
    "\n",
    "'''"
   ]
  }
 ],
 "metadata": {
  "kernelspec": {
   "display_name": "Python 3 (ipykernel)",
   "language": "python",
   "name": "python3"
  },
  "language_info": {
   "codemirror_mode": {
    "name": "ipython",
    "version": 3
   },
   "file_extension": ".py",
   "mimetype": "text/x-python",
   "name": "python",
   "nbconvert_exporter": "python",
   "pygments_lexer": "ipython3",
   "version": "3.9.7"
  }
 },
 "nbformat": 4,
 "nbformat_minor": 5
}
