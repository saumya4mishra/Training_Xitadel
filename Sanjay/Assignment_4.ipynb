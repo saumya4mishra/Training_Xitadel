{
 "cells": [
  {
   "cell_type": "code",
   "execution_count": 10,
   "id": "016cdcfa",
   "metadata": {},
   "outputs": [
    {
     "data": {
      "text/plain": [
       "55"
      ]
     },
     "execution_count": 10,
     "metadata": {},
     "output_type": "execute_result"
    }
   ],
   "source": [
    "# Python program to display the Fibonacci sequence\n",
    "\n",
    "def recur_fibo(n):\n",
    "   if n <= 1:\n",
    "       return n\n",
    "   else:\n",
    "       return(recur_fibo(n-1) + recur_fibo(n-2))\n",
    "    \n",
    "recur_fibo(10)"
   ]
  },
  {
   "cell_type": "code",
   "execution_count": 1,
   "id": "9b3ea6e4",
   "metadata": {},
   "outputs": [
    {
     "name": "stdout",
     "output_type": "stream",
     "text": [
      "Where did my vowels go?\n",
      "abcd\n",
      "UPPERCASE\n"
     ]
    }
   ],
   "source": [
    "#Given a censored string and a string of the censored vowels, return the original uncensored string\n",
    "def censor(inp1, inp2):\n",
    "    n = \"\"\n",
    "    c = 0\n",
    "    le = len(inp1)\n",
    "    for i in range(le):\n",
    "        if inp1[i] == \"*\":\n",
    "            n = n + inp2[c]\n",
    "            c = c + 1\n",
    "        else:n = n + inp1[i]\n",
    "    return n\n",
    "print(censor(\"Wh*r* d*d my v*w*ls g*?\", \"eeioeo\"))\n",
    "print(censor(\"abcd\", \"\"))\n",
    "print(censor(\"*PP*RC*S*\", \"UEAE\"))"
   ]
  },
  {
   "cell_type": "code",
   "execution_count": 2,
   "id": "4cca03fb",
   "metadata": {},
   "outputs": [
    {
     "name": "stdout",
     "output_type": "stream",
     "text": [
      "dns.google\n",
      "dns.google\n"
     ]
    }
   ],
   "source": [
    "\n",
    "#Write a function that takes an IP address and returns the domain name using PTR DNS records.def dom(a):\n",
    "    import socket as skt\n",
    "    res = skt.gethostbyaddr(a)\n",
    "    b = (list(res)[0])\n",
    "    return b\n",
    "print(dom(\"8.8.8.8\"))\n",
    "print(dom(\"8.8.4.4\")) "
   ]
  },
  {
   "cell_type": "code",
   "execution_count": 9,
   "id": "50da8034",
   "metadata": {},
   "outputs": [
    {
     "data": {
      "text/plain": [
       "120"
      ]
     },
     "execution_count": 9,
     "metadata": {},
     "output_type": "execute_result"
    }
   ],
   "source": [
    "\n",
    "# Factorial of a number using recursion\n",
    "\n",
    "def recur_factorial(n):\n",
    "   if n == 1:\n",
    "       return n\n",
    "   else:\n",
    "       return n*recur_factorial(n-1)\n",
    "    \n",
    "recur_factorial(5)"
   ]
  },
  {
   "cell_type": "code",
   "execution_count": null,
   "id": "c9113fbc",
   "metadata": {},
   "outputs": [],
   "source": []
  }
 ],
 "metadata": {
  "kernelspec": {
   "display_name": "Python 3 (ipykernel)",
   "language": "python",
   "name": "python3"
  },
  "language_info": {
   "codemirror_mode": {
    "name": "ipython",
    "version": 3
   },
   "file_extension": ".py",
   "mimetype": "text/x-python",
   "name": "python",
   "nbconvert_exporter": "python",
   "pygments_lexer": "ipython3",
   "version": "3.9.7"
  }
 },
 "nbformat": 4,
 "nbformat_minor": 5
}
