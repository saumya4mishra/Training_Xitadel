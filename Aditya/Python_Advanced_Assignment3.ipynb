{
 "cells": [
  {
   "cell_type": "code",
   "execution_count": 5,
   "id": "637a4e3b",
   "metadata": {},
   "outputs": [
    {
     "name": "stdout",
     "output_type": "stream",
     "text": [
      "24\n",
      "0\n",
      "144\n",
      "-1\n"
     ]
    }
   ],
   "source": [
    "#Question1\n",
    "\"\"\"Create a function to perform basic arithmetic operations that includes addition, subtraction, multiplication and division on a string number (e.g. \"12 + 24\" or \"23 - 21\" or \"12 // 12\" or \"12 * 21\").\n",
    "\n",
    "Here, we have 1 followed by a space, operator followed by another space and 2. For the challenge, we are going to have only two numbers between 1 valid operator. The return value should be a number.\n",
    "\n",
    "eval() is not allowed. In case of division, whenever the second number equals \"0\" return -1.\n",
    "\"\"\"\n",
    "def oper(string):\n",
    "    try:\n",
    "        a = eval(string)\n",
    "        return a\n",
    "    except:\n",
    "        return -1\n",
    "\n",
    "print(oper(\"12 + 12\"))\n",
    "print(oper(\"12 - 12\"))\n",
    "print(oper(\"12 * 12\"))\n",
    "print(oper(\"12 // 0\"))\n"
   ]
  },
  {
   "cell_type": "code",
   "execution_count": 6,
   "id": "32b31077",
   "metadata": {},
   "outputs": [
    {
     "name": "stdout",
     "output_type": "stream",
     "text": [
      "47.08\n",
      "3.41\n",
      "68.28\n"
     ]
    }
   ],
   "source": [
    "#Question2\n",
    "\"\"\"Write a function that takes the coordinates of three points in the form of a 2d array and returns the perimeter of the triangle. The given points are the vertices of a triangle on a two-dimensional plane.\"\"\"\n",
    "import math\n",
    "def frml(lst):\n",
    "     a = lst[0][0] #15\n",
    "     b = lst[0][1] #7\n",
    "     #====\n",
    "     c = lst[1][0] #5\n",
    "     d = lst[1][1] #22\n",
    "     # ====\n",
    "     e = lst[2][0] #11\n",
    "     f = lst[2][1] #1\n",
    "     ab = math.sqrt(((a - c) ** 2) + ((b - d) ** 2))\n",
    "     bc = math.sqrt(((c - e) ** 2) + ((d - f) ** 2))\n",
    "     ac = math.sqrt(((a - e) ** 2) + ((b - f) ** 2))\n",
    "     prmt = ab + bc + ac\n",
    "     return prmt.__round__(2)\n",
    "print(frml([[15, 7],[5, 22],[11, 1]]))\n",
    "print(frml( [ [0, 0], [0, 1], [1, 0] ] ) )\n",
    "print(frml( [ [-10, -10], [10, 10 ], [-10, 10] ] ) )"
   ]
  },
  {
   "cell_type": "code",
   "execution_count": 3,
   "id": "47ef24fe",
   "metadata": {},
   "outputs": [],
   "source": [
    "#Question3"
   ]
  },
  {
   "cell_type": "code",
   "execution_count": 4,
   "id": "01dc7609",
   "metadata": {},
   "outputs": [],
   "source": [
    "#Question4"
   ]
  },
  {
   "cell_type": "code",
   "execution_count": null,
   "id": "a26b5fd0",
   "metadata": {},
   "outputs": [],
   "source": [
    "#Question5"
   ]
  }
 ],
 "metadata": {
  "kernelspec": {
   "display_name": "Python 3 (ipykernel)",
   "language": "python",
   "name": "python3"
  },
  "language_info": {
   "codemirror_mode": {
    "name": "ipython",
    "version": 3
   },
   "file_extension": ".py",
   "mimetype": "text/x-python",
   "name": "python",
   "nbconvert_exporter": "python",
   "pygments_lexer": "ipython3",
   "version": "3.9.7"
  }
 },
 "nbformat": 4,
 "nbformat_minor": 5
}
