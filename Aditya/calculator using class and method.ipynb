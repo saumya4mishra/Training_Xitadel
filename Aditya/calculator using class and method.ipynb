{
 "cells": [
  {
   "cell_type": "code",
   "execution_count": null,
   "id": "558d994a",
   "metadata": {},
   "outputs": [],
   "source": [
    "class calc:\n",
    "\n",
    "    def __init__(self, i_var1, i_var2):\n",
    "        self.i_var1 = i_var1\n",
    "        self.i_var2 = i_var2\n",
    "\n",
    "    def o1(add):\n",
    "        sum = add.i_var1 + add.i_var2\n",
    "        return sum\n",
    "\n",
    "    def o2(sub):\n",
    "        diff = sub.i_var1 - sub.i_var2\n",
    "        return diff\n",
    "\n",
    "    def o3(mul):\n",
    "        multi = mul.i_var1 * mul.i_var2\n",
    "        return multi\n",
    "\n",
    "    def o4(div):\n",
    "        divi = div.i_var1 / div.i_var2\n",
    "        return divi\n",
    "\n",
    "ca = calc((int(input(\"Enter the first number: \"))), (int(input(\"Enter the second number: \"))))\n",
    "print(\"The sum is: \", ca.o1())\n",
    "print(\"The difference is \", ca.o2())\n",
    "print(\"The multiplication is: \", ca.o3())\n",
    "print(\"The division id: \", ca.o4())\n"
   ]
  }
 ],
 "metadata": {
  "kernelspec": {
   "display_name": "Python 3 (ipykernel)",
   "language": "python",
   "name": "python3"
  },
  "language_info": {
   "codemirror_mode": {
    "name": "ipython",
    "version": 3
   },
   "file_extension": ".py",
   "mimetype": "text/x-python",
   "name": "python",
   "nbconvert_exporter": "python",
   "pygments_lexer": "ipython3",
   "version": "3.9.7"
  }
 },
 "nbformat": 4,
 "nbformat_minor": 5
}
