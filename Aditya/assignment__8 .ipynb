{
 "cells": [
  {
   "cell_type": "code",
   "execution_count": 5,
   "id": "c86003c4",
   "metadata": {},
   "outputs": [
    {
     "name": "stdout",
     "output_type": "stream",
     "text": [
      "True\n",
      "True\n",
      "False\n",
      "False\n"
     ]
    }
   ],
   "source": [
    "#Question1\n",
    "\"\"\"Given a sentence as txt, return True if any two adjacent words have this property: One word ends with a vowel,\n",
    " while the word immediately after begins with a vowel (a e i o u).\"\"\"\n",
    "def vowel_links(string):\n",
    "    l_vowel = [\"a\", \"e\", \"i\", \"o\", \"u\"]\n",
    "    l_string = string.split(\" \")\n",
    "    for index, word in enumerate(l_string):\n",
    "        if word[-1] in l_vowel and index < (len(l_string) - 1) and l_string[index + 1][0] in l_vowel:\n",
    "            return True\n",
    "    return False\n",
    "\n",
    "print(vowel_links(\"a very large appliance\"))\n",
    "print(vowel_links(\"go to edabit\"))\n",
    "print(vowel_links(\"an open fire\"))\n",
    "print(vowel_links(\"a sudden applause\"))\n",
    "\n"
   ]
  },
  {
   "cell_type": "code",
   "execution_count": 2,
   "id": "404117bb",
   "metadata": {},
   "outputs": [
    {
     "name": "stdout",
     "output_type": "stream",
     "text": [
      "True\n",
      "False\n",
      "False\n",
      "True\n"
     ]
    }
   ],
   "source": [
    "#Question2\n",
    "\"\"\". You are given three inputs: a string, one letter, and a second letter.\n",
    "\n",
    "Write a function that returns True if every instance of the first letter occurs before every instance of the second letter.\n",
    "\"\"\"\n",
    "def first_before_second(sentence, word1, word2):\n",
    "    index_of_word2 = sentence.find(word2)\n",
    "    for i in range(index_of_word2, len(sentence)):\n",
    "        if sentence[i] == word1:\n",
    "            return False\n",
    "    return True\n",
    "print(first_before_second(\"knaves knew about waterfalls\", \"k\", \"w\") )\n",
    "print(first_before_second(\"happy birthday\", \"a\", \"y\") )\n",
    "print(first_before_second(\"precarious kangaroos\", \"k\", \"a\") )\n",
    "print(first_before_second(\"a rabbit jumps joyfully\", \"a\", \"j\") )"
   ]
  },
  {
   "cell_type": "code",
   "execution_count": 6,
   "id": "8641e14c",
   "metadata": {},
   "outputs": [
    {
     "name": "stdout",
     "output_type": "stream",
     "text": [
      "48\n",
      "EAI\n",
      "ABTAIY\n"
     ]
    }
   ],
   "source": [
    "#Question 3\n",
    "\"\"\". Create a function that returns the characters from a list or string r on odd or even positions,\n",
    " depending on the specifier s. The specifier will be \"odd\" for items on odd positions (1, 3, 5, ...) and \"even\" \n",
    " for items on even positions (2, 4, 6, ...).\"\"\"\n",
    "def char_at_pos(lst, type):\n",
    "    result = \"\"\n",
    "    for index, element in enumerate(lst):\n",
    "        if type == \"even\" and (index + 1) % 2 == 0:\n",
    "            result += str(element)\n",
    "        elif type == \"odd\" and (index + 1) % 2 != 0:\n",
    "            result += str(element)\n",
    "\n",
    "    return result\n",
    "print(char_at_pos([2, 4, 6, 8, 10], \"even\"))\n",
    "print(char_at_pos(\"EDABIT\", \"odd\") )\n",
    "print(char_at_pos([\"A\", \"R\", \"B\", \"I\", \"T\", \"R\", \"A\", \"R\", \"I\", \"L\", \"Y\"], \"odd\") )"
   ]
  },
  {
   "cell_type": "code",
   "execution_count": 4,
   "id": "f623ddc8",
   "metadata": {},
   "outputs": [
    {
     "name": "stdout",
     "output_type": "stream",
     "text": [
      "10\n",
      "1\n",
      "64\n"
     ]
    }
   ],
   "source": [
    "#Question4\n",
    "#Write a function that returns the greatest common divisor of all list elements. If the greatest common divisor is 1, return 1.\n",
    "\n",
    "import math\n",
    "def GCD(lst):\n",
    "    return math.gcd(*lst)\n",
    "print(GCD([10, 20, 40]))\n",
    "print(GCD([1, 2, 3, 100]) )\n",
    "print(GCD([1024, 192, 2048, 512]) )"
   ]
  },
  {
   "cell_type": "code",
   "execution_count": null,
   "id": "bedb0ed4",
   "metadata": {},
   "outputs": [],
   "source": [
    "#Question5\n",
    "\"\"\"A str(num)ber/string is a palindrome if the digits/characters are the same when read both forward and backward.\n",
    " Examples include \"racecar\" and 12321. Given a positive str(num)ber n, check if n or the binary representation of n is\n",
    "  palindromic. Return the following:\"\"\"\n",
    "\n",
    "\n",
    "def isPalindrome(s):\n",
    "    return s == s[::-1]\n",
    "\n",
    "\n",
    "def palindrome_type(num):\n",
    "    binary = str(format(num,'b'))    #https://www.delftstack.com/howto/python/python-int-to-binary/\n",
    "    if isPalindrome(str(num)) and isPalindrome(binary):\n",
    "        return \"Decimal and binary.\"\n",
    "    elif isPalindrome(str(num)):\n",
    "        return \"Decimal only.\"\n",
    "    elif isPalindrome(binary):\n",
    "        return \"Binary only.\"\n",
    "    else:\n",
    "        return \"Neither!\"\n",
    "print(palindrome_type(1306031) )\n",
    "print(palindrome_type(427787))\n",
    "print(palindrome_type(313) )\n",
    "print(palindrome_type(934) )\n"
   ]
  }
 ],
 "metadata": {
  "kernelspec": {
   "display_name": "Python 3 (ipykernel)",
   "language": "python",
   "name": "python3"
  },
  "language_info": {
   "codemirror_mode": {
    "name": "ipython",
    "version": 3
   },
   "file_extension": ".py",
   "mimetype": "text/x-python",
   "name": "python",
   "nbconvert_exporter": "python",
   "pygments_lexer": "ipython3",
   "version": "3.9.7"
  }
 },
 "nbformat": 4,
 "nbformat_minor": 5
}
