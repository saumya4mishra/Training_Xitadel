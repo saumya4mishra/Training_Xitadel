{
 "cells": [
  {
   "cell_type": "raw",
   "id": "277eaf81",
   "metadata": {},
   "source": [
    "\"Q1. In Python 3.X, what are the names and functions of string object types?\"\n",
    "\n",
    "#Answer:\n",
    "\"\"\"\n",
    "Method                 Description\n",
    "capitalize()\tConverts the first character to upper case\n",
    "casefold()\tConverts string into lower case\n",
    "center()\tReturns a centered string\n",
    "count()\tReturns the number of times a specified value occurs in a string\n",
    "encode()\tReturns an encoded version of the string\n",
    "endswith()\tReturns true if the string ends with the specified value\n",
    "expandtabs()\tSets the tab size of the string\n",
    "find()\tSearches the string for a specified value and returns the position of where it was found\n",
    "format()\tFormats specified values in a string\n",
    "format_map()\tFormats specified values in a string\n",
    "index()\tSearches the string for a specified value and returns the position of where it was found\n",
    "isalnum()\tReturns True if all characters in the string are alphanumeric\n",
    "isalpha()\tReturns True if all characters in the string are in the alphabet\n",
    "isascii()\tReturns True if all characters in the string are ascii characters\n",
    "isdecimal()\tReturns True if all characters in the string are decimals\n",
    "isdigit()\tReturns True if all characters in the string are digits\n",
    "isidentifier()\tReturns True if the string is an identifier\n",
    "islower()\tReturns True if all characters in the string are lower case\n",
    "isnumeric()\tReturns True if all characters in the string are numeric\n",
    "isprintable()\tReturns True if all characters in the string are printable\n",
    "isspace()\tReturns True if all characters in the string are whitespaces\n",
    "istitle()\tReturns True if the string follows the rules of a title\n",
    "isupper()\tReturns True if all characters in the string are upper case\n",
    "join()\tConverts the elements of an iterable into a string\n",
    "ljust()\tReturns a left justified version of the string\n",
    "lower()\tConverts a string into lower case\n",
    "lstrip()\tReturns a left trim version of the string\n",
    "maketrans()\tReturns a translation table to be used in translations\n",
    "partition()\tReturns a tuple where the string is parted into three parts\n",
    "replace()\tReturns a string where a specified value is replaced with a specified value\n",
    "rfind()\tSearches the string for a specified value and returns the last position of where it was found\n",
    "rindex()\tSearches the string for a specified value and returns the last position of where it was found\n",
    "rjust()\tReturns a right justified version of the string\n",
    "rpartition()\tReturns a tuple where the string is parted into three parts\n",
    "rsplit()\tSplits the string at the specified separator, and returns a list\n",
    "rstrip()\tReturns a right trim version of the string\n",
    "split()\tSplits the string at the specified separator, and returns a list\n",
    "splitlines()\tSplits the string at line breaks and returns a list\n",
    "startswith()\tReturns true if the string starts with the specified value\n",
    "strip()\tReturns a trimmed version of the string\n",
    "swapcase()\tSwaps cases, lower case becomes upper case and vice versa\n",
    "title()\tConverts the first character of each word to upper case\n",
    "translate()\tReturns a translated string\n",
    "upper()\tConverts a string into upper case\n",
    "zfill()\tFills the string with a specified number of 0 values at the beginning\"\"\""
   ]
  },
  {
   "cell_type": "raw",
   "id": "6c90e1ce",
   "metadata": {},
   "source": [
    "'''Q2: How do the string forms in Python 3.X vary in terms of operations?'''\n",
    "#Answer:\n",
    "\"\"\"\n",
    "\n",
    "\n",
    "\"\"\""
   ]
  },
  {
   "cell_type": "raw",
   "id": "2741251d",
   "metadata": {},
   "source": [
    "'''Q3: In 3.X, how do you put non-ASCII Unicode characters in a string?'''\n",
    "\n",
    "#Answer\n",
    "\n",
    "\"\"\"This approach is related to the inbuilt library unidecode. This library helps Transliterating\n",
    "non-ASCII characters in Python. It provides an unidecode() method that takes Unicode data and tries\n",
    "to represent it in ASCII.  This method automatically determines scripting language and transliterates\n",
    "it accordingly. It accepts unicode string values and returns a transliteration in string format.\"\"\""
   ]
  },
  {
   "cell_type": "raw",
   "id": "743ec8d0",
   "metadata": {},
   "source": [
    "\"\"\"Q4.  In Python 3.X, what are the key differences between text-mode and binary-mode files?\"\"\"\n",
    "\n",
    "#Answer:\n",
    "\"\"\"\n",
    "The major difference between these two is that a text file contains textual information in the form of alphabets, \n",
    "digits and special characters or symbols. On the other hand, a binary file contains bytes or a compiled version of \n",
    "a text file.\n",
    "\"\"\""
   ]
  },
  {
   "cell_type": "raw",
   "id": "8a4d14d9",
   "metadata": {},
   "source": [
    "\"\"\"Q5: How can you interpret a Unicode text file containing text encoded in a different encoding than your platform's default? \"\"\""
   ]
  },
  {
   "cell_type": "raw",
   "id": "bb95a29d",
   "metadata": {},
   "source": [
    "\"\"\"Q6: What is the best way to make a Unicode text file in a particular encoding format?\"\"\"\n",
    "#Answer:\n",
    "\"\"\"encode method does, and the result of encoding a unicode string is a bytestring (a str type.) \n",
    "You should either use normal open() and encode the unicode yourself, or (usually a better idea) use codecs.\n",
    "open() and not encode the data yourself.\"\"\""
   ]
  },
  {
   "cell_type": "raw",
   "id": "eca1b7b8",
   "metadata": {},
   "source": [
    "\"\"\"Q7: What qualifies ASCII text as a form of Unicode text?\"\"\"\n",
    "\n",
    "#Answer:\n",
    "\"\"\"The first 128 Unicode code points represent the ASCII characters, \n",
    "which means that any ASCII text is also a UTF-8 text. UCS-2 uses two bytes (16 bits) for each character \n",
    "but can only encode the first 65,536 code points, the so-called Basic Multilingual Plane (BMP).\"\"\""
   ]
  },
  {
   "cell_type": "raw",
   "id": "cc989516",
   "metadata": {},
   "source": [
    "\"\"\"Q8: How much of an effect does the change in string types in Python 3.X have on your code?\"\"\"\n",
    "#Answer:\n",
    "\"\"\"\n",
    "a lot\n",
    "\"\"\""
   ]
  }
 ],
 "metadata": {
  "kernelspec": {
   "display_name": "Python 3 (ipykernel)",
   "language": "python",
   "name": "python3"
  },
  "language_info": {
   "codemirror_mode": {
    "name": "ipython",
    "version": 3
   },
   "file_extension": ".py",
   "mimetype": "text/x-python",
   "name": "python",
   "nbconvert_exporter": "python",
   "pygments_lexer": "ipython3",
   "version": "3.9.7"
  }
 },
 "nbformat": 4,
 "nbformat_minor": 5
}
