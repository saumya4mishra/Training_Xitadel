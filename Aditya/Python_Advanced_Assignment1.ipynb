{
 "cells": [
  {
   "cell_type": "code",
   "execution_count": 47,
   "id": "a1646f28",
   "metadata": {},
   "outputs": [
    {
     "name": "stdout",
     "output_type": "stream",
     "text": [
      "2\n",
      "0\n"
     ]
    }
   ],
   "source": [
    "#Question 1:\n",
    "\"\"\"Write a function that takes a list of lists and returns the value of all\n",
    "of the symbols in it, where each symbol \n",
    "adds or takes something from the total score. Symbol values\"\"\"\n",
    "def symb(lst):\n",
    "    store = {\n",
    "    \"#\" : 5,\n",
    "    \"O\" : 3,\n",
    "    \"X\" : 1,\n",
    "    \"!\" : -1,\n",
    "    \"!!\" : -3,\n",
    "    \"!!!\" : -5,\n",
    "    }\n",
    "    total = 0\n",
    "    for internaList in lst:\n",
    "        for listItem in internaList:\n",
    "            total = total + store[listItem]\n",
    "\n",
    "    if total < 0:\n",
    "        return 0\n",
    "    else:\n",
    "        return total\n",
    "\n",
    "print(symb([\n",
    "  [\"#\", \"!\"],\n",
    "  [\"!!\", \"X\"]\n",
    "    ]\n",
    "))\n",
    "print(symb([\n",
    "  [\"!!!\", \"O\", \"!\"],\n",
    "  [\"X\", \"#\", \"!!!\"],\n",
    "  [\"!!\", \"X\", \"O\"]\n",
    "])\n",
    ")"
   ]
  },
  {
   "cell_type": "code",
   "execution_count": 24,
   "id": "51577e59",
   "metadata": {},
   "outputs": [
    {
     "name": "stdout",
     "output_type": "stream",
     "text": [
      "6\n",
      "84\n",
      "120\n"
     ]
    }
   ],
   "source": [
    "#Question 2:\n",
    "\"\"\"Create a function that takes a variable number of arguments, each argument \n",
    "representing the number of items in a group, and returns the number of \n",
    "permutations (combinations) of items that you could get by taking one item \n",
    "from each group.\"\"\"\n",
    "def combi(a):\n",
    "    b = 1\n",
    "    for i in a:\n",
    "        b = b * i\n",
    "    return b\n",
    "print(combi((2, 3)))\n",
    "print(combi((3, 7, 4)))\n",
    "print(combi((2, 3, 4, 5)))"
   ]
  },
  {
   "cell_type": "code",
   "execution_count": 42,
   "id": "3ea9fe4a",
   "metadata": {},
   "outputs": [
    {
     "name": "stdout",
     "output_type": "stream",
     "text": [
      ".-...--...-.....- -.-......-.-...-...-.--..\n",
      "......-...--. --. -.-.--\n"
     ]
    }
   ],
   "source": [
    "#Question 3:\n",
    "\"\"\"Create a function that takes a string as an argument and returns\n",
    "the Morse code equivalent.\"\"\"\n",
    "def morse(a):\n",
    "    b = []\n",
    "    dots = {\n",
    "  'A': '.-', 'B': '-...', 'C': '-.-.', 'D': '-..', 'E': '.', 'F': '..-.',\n",
    "  'G': '--.', 'H': '....', 'I': '..', 'J': '.---', 'K': '-.-', 'L': '.-..',\n",
    "  'M': '--', 'N': '-.', 'O': '---', 'P': '.--.', 'Q': '--.-', 'R': '.-.',\n",
    "  'S': '...', 'T': '-', 'U': '..-', 'V': '...-', 'W': '.--', 'X': '-..-',\n",
    "  'Y': '-.--', 'Z': '--..', ' ': ' ', '0': '-----',\n",
    "  '1': '.----', '2': '..---', '3': '...--', '4': '....-', '5': '.....',\n",
    "  '6': '-....', '7': '--...', '8': '---..', '9': '----.',\n",
    "  '&': '.-...', \"'\": '.----.', '@': '.--.-.', ')': '-.--.-', '(': '-.--.',\n",
    "  ':': '---...', ',': '--..--', '=': '-...-', '!': '-.-.--', '.': '.-.-.-',\n",
    "  '-': '-....-', '+': '.-.-.', '\"': '.-..-.', '?': '..--..', '/': '-..-.'\n",
    "}\n",
    "    for i in a:\n",
    "        b.append(dots[i])\n",
    "    b = ''.join(b)\n",
    "    return b\n",
    "\n",
    "    \n",
    "print(morse(\"EDABBIT CHALLENGE\") )\n",
    "print(morse(\"HELP ME !\"))"
   ]
  },
  {
   "cell_type": "code",
   "execution_count": 49,
   "id": "aa656fa6",
   "metadata": {},
   "outputs": [
    {
     "name": "stdout",
     "output_type": "stream",
     "text": [
      "True\n",
      "True\n",
      "False\n"
     ]
    }
   ],
   "source": [
    "#Question 4\n",
    "\"\"\"Write a function that takes a number and returns True if it's \n",
    "a prime; False otherwise. The number can be 2^64-1 (2 to the power of \n",
    "63, not XOR). With the standard technique it would be O(2^64-1), which \n",
    "is much too large for the 10 second time limit\"\"\"\n",
    "def prime(number):\n",
    "    a = False\n",
    "    if number > 1:\n",
    "        for i in range(2, number):\n",
    "            if (number % i) == 0:\n",
    "                a = False\n",
    "                break\n",
    "        else:\n",
    "            a = True\n",
    "    return a\n",
    "print(prime(7))\n",
    "print(prime(56963))\n",
    "print(prime(5151512515524))"
   ]
  },
  {
   "cell_type": "code",
   "execution_count": 61,
   "id": "446383a3",
   "metadata": {},
   "outputs": [
    {
     "name": "stdout",
     "output_type": "stream",
     "text": [
      "[False, True, False, True, True]\n",
      "[False, True, True, False]\n",
      "[False, True, True, False]\n"
     ]
    }
   ],
   "source": [
    "#Question 5:\n",
    "''' Create a function that converts a word to a bitstring and then to a boolean list based on the following criteria:\n",
    "\n",
    "    1. Locate the position of the letter in the English alphabet (from 1 to 26).\n",
    "    2. Odd positions will be represented as 1 and 0 otherwise.\n",
    "    3. Convert the represented positions to boolean values, 1 for True and 0 for False.\n",
    "    4. Store the conversions into an array.\n",
    "'''\n",
    "def convert(cnvrt):\n",
    "    wrd = list(cnvrt)\n",
    "    even = []\n",
    "    odd = []\n",
    "    result = []\n",
    "#==========================\n",
    "#===============================\n",
    "    for word in range (97, 123):\n",
    "        if (word % 2 == 0):\n",
    "            even.append(word)\n",
    "        elif (word % 2 != 0):\n",
    "            odd.append(word)\n",
    "#=====================================\n",
    "#=====================================\n",
    "    for letter in wrd:\n",
    "        if (ord(letter) in even):\n",
    "            result.append(False)\n",
    "        elif(ord(letter) in odd):\n",
    "            result.append(True)\n",
    "    return result\n",
    "print(convert('loves'))\n",
    "print(convert(\"deep\") )\n",
    "print(convert(\"tesh\") )"
   ]
  },
  {
   "cell_type": "code",
   "execution_count": null,
   "id": "375f0a4f",
   "metadata": {},
   "outputs": [],
   "source": []
  }
 ],
 "metadata": {
  "kernelspec": {
   "display_name": "Python 3 (ipykernel)",
   "language": "python",
   "name": "python3"
  },
  "language_info": {
   "codemirror_mode": {
    "name": "ipython",
    "version": 3
   },
   "file_extension": ".py",
   "mimetype": "text/x-python",
   "name": "python",
   "nbconvert_exporter": "python",
   "pygments_lexer": "ipython3",
   "version": "3.9.7"
  }
 },
 "nbformat": 4,
 "nbformat_minor": 5
}
