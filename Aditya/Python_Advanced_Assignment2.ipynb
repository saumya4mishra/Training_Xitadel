{
 "cells": [
  {
   "cell_type": "code",
   "execution_count": 34,
   "id": "64b55ed6",
   "metadata": {},
   "outputs": [
    {
     "name": "stdout",
     "output_type": "stream",
     "text": [
      "notDone\n"
     ]
    }
   ],
   "source": [
    "#Question1:\n",
    "\"\"\". Write a function that takes a positive integer num and calculates how many dots exist in a pentagonal shape around the center dot on the Nth iteration.\n",
    "\n",
    "In the image below you can see the first iteration is only a single dot. On the second, there are 6 dots. On the third, there are 16 dots, and on the fourth there are 31 dots.\n",
    "\"\"\"\n",
    "print(\"notDone\")"
   ]
  },
  {
   "cell_type": "code",
   "execution_count": 13,
   "id": "b6cf05e3",
   "metadata": {
    "scrolled": true
   },
   "outputs": [
    {
     "name": "stdout",
     "output_type": "stream",
     "text": [
      "0n0n0bbac\n",
      "0c0r0kbac\n",
      "k0r3bbac\n",
      "0c0pl0bac\n"
     ]
    }
   ],
   "source": [
    "#Question 2:\n",
    "\"\"\"Make a function that encrypts a given input with these steps:\n",
    "\n",
    "Input: \"apple\"\n",
    "\n",
    "Step 1: Reverse the input: \"elppa\"\n",
    "\n",
    "Step 2: Replace all vowels using the following chart:\n",
    "\n",
    "a => 0\n",
    "e => 1\n",
    "i => 2\n",
    "o => 2\n",
    "u => 3\n",
    "\n",
    "# \"1lpp0\"\n",
    "\n",
    "Step 3: Add \"aca\" to the end of the word: \"1lpp0aca\"\n",
    "\"\"\"\n",
    "def encript(toBe):\n",
    "    dct = {\"a\": 0,\n",
    "          \"e\" : 1,\n",
    "          \"i\" : 2,\n",
    "          \"o\" : 2,\n",
    "          \"u\" : 3}\n",
    "    lst = []\n",
    "    tob_be = toBe[::-1]\n",
    "    for letter in tob_be:\n",
    "        try:\n",
    "            lst.append(dct[letter])\n",
    "        except:\n",
    "            lst.append(letter)\n",
    "\n",
    "    lst.append(\"bac\")\n",
    "    a = ''.join([str(letr) for letr in lst])\n",
    "    return a\n",
    "print(encript(\"banana\"))\n",
    "print(encript(\"karaca\"))\n",
    "print(encript(\"burak\"))\n",
    "print(encript(\"alpaca\"))"
   ]
  },
  {
   "cell_type": "code",
   "execution_count": 14,
   "id": "18d47f81",
   "metadata": {},
   "outputs": [
    {
     "data": {
      "text/plain": [
       "\"Given the month and year as numbers, return whether that month contains a Friday 13th.(i.e You can check Python's datetime module)\""
      ]
     },
     "execution_count": 14,
     "metadata": {},
     "output_type": "execute_result"
    }
   ],
   "source": [
    "#Question3\n",
    "\"\"\"Given the month and year as numbers, return whether that month contains a Friday 13th.(i.e You can check Python's datetime module)\"\"\"\n"
   ]
  },
  {
   "cell_type": "code",
   "execution_count": 35,
   "id": "210cb6f9",
   "metadata": {},
   "outputs": [
    {
     "name": "stdout",
     "output_type": "stream",
     "text": [
      "notDone\n"
     ]
    }
   ],
   "source": [
    "#Question4\n",
    "\"\"\"Write a regular expression that will help us count how many bad cookies are produced every day. You must use RegEx negative \n",
    "lookbehind.\"\"\"\n",
    "print(\"notDone\")"
   ]
  },
  {
   "cell_type": "code",
   "execution_count": 31,
   "id": "4b12496f",
   "metadata": {},
   "outputs": [
    {
     "name": "stdout",
     "output_type": "stream",
     "text": [
      "{'pig', 'cow'}\n",
      "{'table'}\n",
      "{'arm', 'pencil', 'chair'}\n"
     ]
    }
   ],
   "source": [
    "#Question5\n",
    "\"\"\"Given a list of words in the singular form, return a set of those words in the plural form if they appear more than \n",
    "once in the list\"\"\"\n",
    "def pluralize(once):\n",
    "    a = (set(once))\n",
    "    return a\n",
    "# set is unorderd\n",
    "print(pluralize([\"cow\", \"pig\", \"cow\", \"cow\"]))\n",
    "print(pluralize([\"table\", \"table\", \"table\"]))\n",
    "print(pluralize([\"chair\", \"pencil\", \"arm\"]))\n"
   ]
  },
  {
   "cell_type": "code",
   "execution_count": null,
   "id": "713379c4",
   "metadata": {},
   "outputs": [],
   "source": []
  }
 ],
 "metadata": {
  "kernelspec": {
   "display_name": "Python 3 (ipykernel)",
   "language": "python",
   "name": "python3"
  },
  "language_info": {
   "codemirror_mode": {
    "name": "ipython",
    "version": 3
   },
   "file_extension": ".py",
   "mimetype": "text/x-python",
   "name": "python",
   "nbconvert_exporter": "python",
   "pygments_lexer": "ipython3",
   "version": "3.9.7"
  }
 },
 "nbformat": 4,
 "nbformat_minor": 5
}
