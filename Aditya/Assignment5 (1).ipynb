{
 "cells": [
  {
   "cell_type": "code",
   "execution_count": 8,
   "id": "60611449",
   "metadata": {},
   "outputs": [
    {
     "name": "stdout",
     "output_type": "stream",
     "text": [
      "2\n",
      "8\n",
      "2\n"
     ]
    }
   ],
   "source": [
    "#Question1:\n",
    "\"\"\"Create a function that takes a number n (integer greater than zero) as an argument, and returns 2 if n is odd and 8 if n is even.\n",
    "\n",
    "You can only use the following arithmetic operators: addition of numbers +, subtraction of numbers -, multiplication of number *, division of number /, and exponentiation **.\n",
    "\"\"\"\n",
    "def even(num):\n",
    "    a = num / 2\n",
    "    b = int(a)\n",
    "    if a == b:\n",
    "        res = 8\n",
    "    else:\n",
    "        res = 2\n",
    "    return res\n",
    "print(even(1))\n",
    "print(even(2))\n",
    "print(even(3))\n",
    "#It is wrong"
   ]
  },
  {
   "cell_type": "code",
   "execution_count": 9,
   "id": "9088e163",
   "metadata": {
    "scrolled": true
   },
   "outputs": [
    {
     "name": "stdout",
     "output_type": "stream",
     "text": [
      "{'A': 2, 'B': 1}\n",
      "A\n",
      "{'A': 4, 'B': 1, 'C': 1}\n",
      "A\n",
      "{'A': 2, 'B': 2, 'C': 2}\n",
      "None\n"
     ]
    }
   ],
   "source": [
    "#Question2\n",
    "\"\"\"Create a function that returns the majority vote in a list. A majority vote is an element that occurs > N/2 times in a list (where N is the length of the list).\n",
    "\n",
    "\"\"\"\n",
    "def maj(lst):\n",
    "    d = {}\n",
    "    for i in lst:\n",
    "        a = lst.count(i)\n",
    "        d[i] = a\n",
    "    print(d)\n",
    "    c = (max(d.values()))\n",
    "    f = (min(d.values()))\n",
    "    if (f == c):\n",
    "        x = \"None\"\n",
    "    else:\n",
    "        for k, v in d.items():\n",
    "            if c == v:\n",
    "                x = k\n",
    "    return x\n",
    "\n",
    "\n",
    "print(maj([\"A\", \"A\", \"B\"]))\n",
    "print(maj([\"A\", \"A\", \"A\", \"B\", \"C\", \"A\"]))\n",
    "print(maj(([\"A\", \"B\", \"B\", \"A\", \"C\", \"C\"])))"
   ]
  },
  {
   "cell_type": "code",
   "execution_count": 1,
   "id": "a88fb9cb",
   "metadata": {},
   "outputs": [
    {
     "name": "stdout",
     "output_type": "stream",
     "text": [
      "['-----', 'is', '-', 'Wednesday!']\n",
      "----- is - Wednesday!\n",
      "['The', '***', 'jumped', '****', 'the', 'moon.']\n",
      "The *** jumped **** the moon.\n",
      "['Why', 'did', 'the', '*******', 'cross', 'the', 'road?']\n",
      "Why did the ******* cross the road?\n"
     ]
    }
   ],
   "source": [
    "#Question3:\n",
    "\"\"\"Create a function that takes a string txt and censors any word from a given list lst. The text removed must be replaced by the given character char\"\"\"\n",
    "def censor_string(sentence, lst, to_be_replaced):\n",
    "    l_a1 = sentence.split()  #['The', 'cow', 'jumped', 'over', 'the', 'moon.']\n",
    "    l_a2 = l_a1.copy()\n",
    "    count = 0\n",
    "    for index, value in enumerate (l_a1):\n",
    "        if value in lst:\n",
    "            l_a2.pop(index)\n",
    "            l_a2.insert(index, len(value) * to_be_replaced)\n",
    "    out = \" \".join(l_a2)\n",
    "    return out\n",
    "\n",
    "print(censor_string(\"Today is a Wednesday!\", [\"Today\", \"a\"], \"-\") )\n",
    "print(censor_string(\"The cow jumped over the moon.\", [\"cow\", \"over\"], \"*\"))\n",
    "print(censor_string(\"Why did the chicken cross the road?\", [\"Did\", \"chicken\", \"road\"], \"*\") )"
   ]
  },
  {
   "cell_type": "code",
   "execution_count": 11,
   "id": "d21da3e2",
   "metadata": {},
   "outputs": [
    {
     "name": "stdout",
     "output_type": "stream",
     "text": [
      "True\n",
      "False\n"
     ]
    }
   ],
   "source": [
    "#Question4:\n",
    "\"\"\"In mathematics a Polydivisible Number (or magic number) is a number in a given number base with digits abcde... that has the following properties:\"\"\"\n",
    "def is_polydivisible(num):\n",
    "\n",
    "    if (num % len(str(num)) == 0):\n",
    "        return True\n",
    "    else:\n",
    "        return False\n",
    "print(is_polydivisible(1232))\n",
    "print(is_polydivisible(123220))\n",
    "\n"
   ]
  },
  {
   "cell_type": "code",
   "execution_count": 12,
   "id": "9c739ecb",
   "metadata": {},
   "outputs": [
    {
     "name": "stdout",
     "output_type": "stream",
     "text": [
      "17\n",
      "87\n",
      "0\n"
     ]
    }
   ],
   "source": [
    "#Question5:\n",
    "\"\"\"Create a function that takes a list of numbers and returns the sum of all prime numbers in the list.\"\"\"\n",
    "from math import sqrt\n",
    "def isprime(n):\n",
    "    i_prm = 0\n",
    "    if (n > 1):\n",
    "        for i in range(2, int(sqrt(n)) + 1):  # To check wether the number is prime\n",
    "            if (n % i == 0):\n",
    "                i_prm = 1\n",
    "                break\n",
    "        if (i_prm == 0):\n",
    "            return True\n",
    "        else:\n",
    "            return False\n",
    "    else:\n",
    "        return False\n",
    "    # =========== ======== ============== ===========\n",
    "def prime(lst):\n",
    "    total = 0\n",
    "    for num in lst:\n",
    "        if (\n",
    "        isprime(num)):  # sends each element from the lsit to isprime function and if num is prime returns and sums it\n",
    "            # with previous value\n",
    "            total = total + num\n",
    "    return total\n",
    "print(prime([1, 2, 3, 4, 5, 6, 7, 8, 9, 10]))\n",
    "print(prime([2, 3, 4, 11, 20, 50, 71]))\n",
    "print(prime([]))"
   ]
  },
  {
   "cell_type": "code",
   "execution_count": null,
   "id": "d2ae2825",
   "metadata": {},
   "outputs": [],
   "source": []
  }
 ],
 "metadata": {
  "kernelspec": {
   "display_name": "Python 3 (ipykernel)",
   "language": "python",
   "name": "python3"
  },
  "language_info": {
   "codemirror_mode": {
    "name": "ipython",
    "version": 3
   },
   "file_extension": ".py",
   "mimetype": "text/x-python",
   "name": "python",
   "nbconvert_exporter": "python",
   "pygments_lexer": "ipython3",
   "version": "3.9.7"
  }
 },
 "nbformat": 4,
 "nbformat_minor": 5
}
