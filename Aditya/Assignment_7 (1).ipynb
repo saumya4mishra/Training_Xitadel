{
 "cells": [
  {
   "cell_type": "code",
   "execution_count": 4,
   "id": "131604e6",
   "metadata": {},
   "outputs": [
    {
     "name": "stdout",
     "output_type": "stream",
     "text": [
      "2\n",
      "3\n",
      "5\n"
     ]
    }
   ],
   "source": [
    "# Question 1\n",
    "\"\"\"Write a function that counts how many concentric layers a rug.\"\"\"\n",
    "def count_layers(l_list):\n",
    "    int_reslult = (len(set(l_list)))\n",
    "    return int_reslult\n",
    "\n",
    "print(count_layers([\n",
    "  \"AAAA\",\n",
    "  \"ABBA\",\n",
    "  \"AAAA\"\n",
    "])\n",
    ")\n",
    "print(count_layers([\n",
    "  \"AAAAAAAAA\",\n",
    "  \"ABBBBBBBA\",\n",
    "  \"ABBAAABBA\",\n",
    "  \"ABBBBBBBA\",\n",
    "  \"AAAAAAAAA\"\n",
    "])\n",
    ")\n",
    "print(count_layers([\n",
    "  \"AAAAAAAAAAA\",\n",
    "  \"AABBBBBBBAA\",\n",
    "  \"AABCCCCCBAA\",\n",
    "  \"AABCAAACBAA\",\n",
    "  \"AABCADACBAA\",\n",
    "  \"AABCAAACBAA\",\n",
    "  \"AABCCCCCBAA\",\n",
    "  \"AABBBBBBBAA\",\n",
    "  \"AAAAAAAAAAA\"\n",
    "])\n",
    ")"
   ]
  },
  {
   "cell_type": "code",
   "execution_count": 5,
   "id": "cb141c62",
   "metadata": {},
   "outputs": [
    {
     "name": "stdout",
     "output_type": "stream",
     "text": [
      "9\n",
      "7\n"
     ]
    }
   ],
   "source": [
    "# Question 2\n",
    "\"\"\"There are many different styles of music and many albums exhibit multiple styles. Create a\n",
    " function that takes a list of musical styles from albums and returns how many styles are unique.\"\"\"\n",
    "def unique_styles(l_list):\n",
    "    l_new = []\n",
    "    for element in l_list:\n",
    "        a = (element.split(\",\"))\n",
    "        for elm in a:\n",
    "            l_new.append(elm)\n",
    "    l_new = set(l_new)\n",
    "    return len(l_new)\n",
    "\n",
    "\n",
    "print(unique_styles([\n",
    "  \"Dub,Dancehall\",\n",
    "  \"Industrial,Heavy Metal\",\n",
    "  \"Techno,Dubstep\",\n",
    "  \"Synth-pop,Euro-Disco\",\n",
    "  \"Industrial,Techno,Minimal\"\n",
    "])\n",
    ")\n",
    "print(unique_styles([\n",
    "  \"Soul\",\n",
    "  \"House,Folk\",\n",
    "  \"Trance,Downtempo,Big Beat,House\",\n",
    "  \"Deep House\",\n",
    "  \"Soul\"]\n",
    "))"
   ]
  },
  {
   "cell_type": "code",
   "execution_count": 9,
   "id": "cd0caf5e",
   "metadata": {},
   "outputs": [
    {
     "name": "stdout",
     "output_type": "stream",
     "text": [
      "Yes\n",
      "No\n",
      "Yes\n",
      "No\n"
     ]
    }
   ],
   "source": [
    "# Question 3\n",
    "\"\"\"Create a function that finds a target number in a list of prime numbers. Implement a binary\n",
    "search algorithm in your function. The target number will be from 2 through 97. If the target is\n",
    "prime then return \"yes\" else return \"no\".\"\"\"\n",
    "\n",
    "primes = [2, 3, 5, 7, 11, 13, 17, 19, 23, 29, 31, 37, 41, 43, 47, 53, 59, 61, 67, 71, 73, 79, 83, 89, 97]\n",
    "def is_prime(primes, num):\n",
    "    if num in primes:\n",
    "        return \"Yes\"\n",
    "    else:\n",
    "        return \"No\"                     #Cannot get the output with primes list inside the function\n",
    "\n",
    "print(is_prime(primes, 3) )\n",
    "print(is_prime(primes, 4) )\n",
    "print(is_prime(primes, 67) )\n",
    "print(is_prime(primes, 36) )"
   ]
  },
  {
   "cell_type": "code",
   "execution_count": 10,
   "id": "e1950116",
   "metadata": {},
   "outputs": [
    {
     "name": "stdout",
     "output_type": "stream",
     "text": [
      "2\n",
      "3\n",
      "1\n",
      "1\n",
      "3\n"
     ]
    }
   ],
   "source": [
    "# Question 4\n",
    "\"\"\"Create a function that takes in n, a, b and returns the number of positive values\n",
    "raised to the nth power that lie in the range [a, b], inclusive.\n",
    "\"\"\"\n",
    "def power_ranger(i_toRoot, i_num1, i_num2):\n",
    "    l_reminder = []\n",
    "    for numbers in range(i_num1, i_num2 + 1):\n",
    "        a =  (numbers ** (1/i_toRoot))\n",
    "        if a == int(a):\n",
    "            l_reminder.append(numbers)\n",
    "    return len(l_reminder)\n",
    "\n",
    "print(power_ranger(2, 49, 65) )\n",
    "print(power_ranger(3, 1, 27) )\n",
    "print(power_ranger(10, 1, 5) )\n",
    "print(power_ranger(5, 31, 33) )\n",
    "print(power_ranger(4, 250, 1300) )"
   ]
  },
  {
   "cell_type": "code",
   "execution_count": null,
   "id": "8dc706b5",
   "metadata": {},
   "outputs": [],
   "source": [
    "#Question5\n",
    "\"\"\"Given a number, return the difference between the maximum and minimum numbers that can be formed\n",
    " when the digits are rearranged.\"\"\"\n",
    "def rearranged_difference(num):\n",
    "    s_num = str(num)  # Converting number to string\n",
    "    s_eachNumber        =     [int(s_eachNumber) for s_eachNumber in s_num] #adding each number in a list\n",
    "                                                                            # and converting it to integer\n",
    "    l_i_desOedNum       =    sorted(s_eachNumber) # sorting the list in decendingorder use it where element are in integer\n",
    "    copy = l_i_desOedNum.copy()\n",
    "    copy.reverse()\n",
    "    l_s_max = [str(s_eachNumber) for s_eachNumber in copy]\n",
    "    l_s_min = [str(s_eachNumber) for s_eachNumber in l_i_desOedNum]\n",
    "\n",
    "    l_i_max = int(\"\".join(l_s_max))\n",
    "    l_i_min = int(\"\".join(l_s_min))\n",
    "\n",
    "    i_result = l_i_max - l_i_min\n",
    "\n",
    "    return i_result\n",
    "\n",
    "\n",
    "\n",
    "\n",
    "print(rearranged_difference(972882) )\n",
    "print(rearranged_difference(3320707) )\n",
    "print(rearranged_difference(90010) )\n"
   ]
  }
 ],
 "metadata": {
  "kernelspec": {
   "display_name": "Python 3 (ipykernel)",
   "language": "python",
   "name": "python3"
  },
  "language_info": {
   "codemirror_mode": {
    "name": "ipython",
    "version": 3
   },
   "file_extension": ".py",
   "mimetype": "text/x-python",
   "name": "python",
   "nbconvert_exporter": "python",
   "pygments_lexer": "ipython3",
   "version": "3.9.7"
  }
 },
 "nbformat": 4,
 "nbformat_minor": 5
}
