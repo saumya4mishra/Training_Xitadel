{
 "cells": [
  {
   "cell_type": "raw",
   "id": "701ddb9b",
   "metadata": {},
   "source": [
    "\"\"\"Q1. What is the difference between __getattr__ and __getattribute__?\"\"\"\n",
    "\n",
    "\"\"\" key difference between __getattr__ and __getattribute__ is that __getattr__ is only invoked if the attribute wasn't found the usual ways. It's good for implementing a fallback for missing attributes, and is probably the one of two you want.\n",
    "\n",
    "__getattribute__ is invoked before looking at the actual attributes on the object, and so can be tricky to implement correctly. You can end up in infinite recursions very easily.\"\"\""
   ]
  },
  {
   "cell_type": "raw",
   "id": "3861add1",
   "metadata": {},
   "source": [
    "\"\"\"Q2. What is the difference between properties and descriptors?\"\"\"\n",
    "\"\"\"descriptors are a low-level mechanism that lets you hook into an object's attributes being accessed.\n",
    "Properties are a high-level application of this; that is, properties are implemented using descriptors.\"\"\""
   ]
  },
  {
   "cell_type": "code",
   "execution_count": null,
   "id": "c7be674d",
   "metadata": {},
   "outputs": [],
   "source": [
    "\"\"\"\"\"\""
   ]
  }
 ],
 "metadata": {
  "kernelspec": {
   "display_name": "Python 3 (ipykernel)",
   "language": "python",
   "name": "python3"
  },
  "language_info": {
   "codemirror_mode": {
    "name": "ipython",
    "version": 3
   },
   "file_extension": ".py",
   "mimetype": "text/x-python",
   "name": "python",
   "nbconvert_exporter": "python",
   "pygments_lexer": "ipython3",
   "version": "3.9.7"
  }
 },
 "nbformat": 4,
 "nbformat_minor": 5
}
